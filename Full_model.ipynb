{
 "cells": [
  {
   "cell_type": "code",
   "execution_count": 1,
   "metadata": {},
   "outputs": [],
   "source": [
    "import pandas as pd\n",
    "import numpy as np\n",
    "import matplotlib.pyplot as plt\n",
    "import seaborn as sns\n",
    "%matplotlib inline\n",
    "import tensorflow as tf\n",
    "import sklearn\n",
    "import  fuzzywuzzy.fuzz as fuzz\n",
    "from tensorflow.keras.layers import Dense\n",
    "from tensorflow.keras import Sequential\n",
    "from tensorflow.keras.optimizers import Adam\n",
    "from sklearn.model_selection import train_test_split"
   ]
  },
  {
   "cell_type": "code",
   "execution_count": 53,
   "metadata": {},
   "outputs": [],
   "source": [
    "from sklearn.ensemble import RandomForestClassifier"
   ]
  },
  {
   "cell_type": "code",
   "execution_count": 2,
   "metadata": {},
   "outputs": [],
   "source": [
    "df=pd.read_csv(\"Training.csv\")"
   ]
  },
  {
   "cell_type": "code",
   "execution_count": 3,
   "metadata": {},
   "outputs": [],
   "source": [
    "df.drop_duplicates(inplace=True)\n",
    "df.rename(columns={\"mild_fever\": \"fever\", \"skin_rash\": \"rash\",\"excessive_hunger\":\"hunger\",\"throat_irritation\":\"throat pain\",\"stomach_pain\":1},inplace=True)\n",
    "df.rename(columns={\"mild_fever\": \"fever\", \"skin_rash\": \"rash\",\"excessive_hunger\":\"hunger\",\"throat_irritation\":\"throat pain\",\"stomach_pain\":1},inplace=True)"
   ]
  },
  {
   "cell_type": "code",
   "execution_count": 4,
   "metadata": {},
   "outputs": [],
   "source": [
    "df.columns = df.columns.str.replace('_', ' ')\n"
   ]
  },
  {
   "cell_type": "code",
   "execution_count": 5,
   "metadata": {},
   "outputs": [
    {
     "name": "stdout",
     "output_type": "stream",
     "text": [
      "['itching', 'rash', 'nodal skin eruptions', 'continuous sneezing', 'shivering', 'chills', 'joint pain', 'acidity', 'ulcers on tongue', 'muscle wasting', 'vomiting', 'burning micturition', 'spotting  urination', 'fatigue', 'weight gain', 'anxiety', 'cold hands and feets', 'mood swings', 'weight loss', 'restlessness', 'lethargy', 'patches in throat', 'irregular sugar level', 'cough', 'high fever', 'sunken eyes', 'breathlessness', 'sweating', 'dehydration', 'indigestion', 'headache', 'yellowish skin', 'dark urine', 'nausea', 'loss of appetite', 'pain behind the eyes', 'back pain', 'constipation', 'abdominal pain', 'diarrhoea', 'fever', 'yellow urine', 'yellowing of eyes', 'acute liver failure', 'fluid overload', 'swelling of stomach', 'swelled lymph nodes', 'malaise', 'blurred and distorted vision', 'phlegm', 'throat pain', 'redness of eyes', 'sinus pressure', 'runny nose', 'congestion', 'chest pain', 'weakness in limbs', 'fast heart rate', 'pain during bowel movements', 'pain in anal region', 'bloody stool', 'irritation in anus', 'neck pain', 'dizziness', 'cramps', 'bruising', 'obesity', 'swollen legs', 'swollen blood vessels', 'puffy face and eyes', 'enlarged thyroid', 'brittle nails', 'swollen extremeties', 'hunger', 'extra marital contacts', 'drying and tingling lips', 'slurred speech', 'knee pain', 'hip joint pain', 'muscle weakness', 'stiff neck', 'swelling joints', 'movement stiffness', 'spinning movements', 'loss of balance', 'unsteadiness', 'weakness of one body side', 'loss of smell', 'bladder discomfort', 'foul smell of urine', 'continuous feel of urine', 'passage of gases', 'internal itching', 'toxic look (typhos)', 'depression', 'irritability', 'muscle pain', 'altered sensorium', 'red spots over body', 'belly pain', 'abnormal menstruation', 'dischromic  patches', 'watering from eyes', 'increased appetite', 'polyuria', 'family history', 'mucoid sputum', 'rusty sputum', 'lack of concentration', 'visual disturbances', 'receiving blood transfusion', 'receiving unsterile injections', 'coma', 'stomach bleeding', 'distention of abdomen', 'history of alcohol consumption', 'fluid overload.1', 'blood in sputum', 'prominent veins on calf', 'palpitations', 'painful walking', 'pus filled pimples', 'blackheads', 'scurring', 'skin peeling', 'silver like dusting', 'small dents in nails', 'inflammatory nails', 'blister', 'red sore around nose', 'yellow crust ooze', 'prognosis']\n"
     ]
    }
   ],
   "source": [
    "df.drop(np.nan, axis=1, inplace=True)\n",
    "print(list(df.columns))"
   ]
  },
  {
   "cell_type": "code",
   "execution_count": 6,
   "metadata": {},
   "outputs": [
    {
     "data": {
      "text/plain": [
       "132"
      ]
     },
     "execution_count": 6,
     "metadata": {},
     "output_type": "execute_result"
    }
   ],
   "source": [
    "len(df.columns)"
   ]
  },
  {
   "cell_type": "code",
   "execution_count": 7,
   "metadata": {},
   "outputs": [],
   "source": [
    "df = df.append({'prognosis' : 'Heart attack' , 'chest pain':1,'nausea':1,'neck pain':1,'arm pain':1,'breathlessness':1} , ignore_index=True)"
   ]
  },
  {
   "cell_type": "code",
   "execution_count": 8,
   "metadata": {},
   "outputs": [],
   "source": [
    "df= df.append({'prognosis' : 'Heart attack' , 'chest pain':1} , ignore_index=True)\n",
    "df = df.append({'prognosis' : 'Common Cold' , 'cough':1,'headache':1} , ignore_index=True)\n",
    "\n",
    "#Diabetes\n",
    "\n",
    "df = df.append({'prognosis' : 'Diabetes ' , 'fatigue':1,'hunger':1,\"sweating\":1,'':1} , ignore_index=True)\n",
    "df = df.append({'prognosis' : 'Diabetes ' , 'fatigue':1,'hunger':1,\"sweating\":1,'':1,\"painlessness\":1} , ignore_index=True)\n",
    "df = df.append({'prognosis' : 'Diabetes ' ,'hunger':1,\"sweating\":1,'blurred and distorted vision':1,\"painlessness\":1} , ignore_index=True)\n",
    "df = df.append({'prognosis' : 'Diabetes ' ,'hunger':1,'blurred and distorted vision':1,\"painlessness\":1} , ignore_index=True)\n",
    "df = df.append({'prognosis' : 'Diabetes ' ,'fatigue':1,'hunger':1,'blurred and distorted vision':1} , ignore_index=True)\n"
   ]
  },
  {
   "cell_type": "code",
   "execution_count": 9,
   "metadata": {},
   "outputs": [
    {
     "data": {
      "text/plain": [
       "135"
      ]
     },
     "execution_count": 9,
     "metadata": {},
     "output_type": "execute_result"
    }
   ],
   "source": [
    "len(df.columns)"
   ]
  },
  {
   "cell_type": "code",
   "execution_count": 10,
   "metadata": {},
   "outputs": [],
   "source": [
    "#Dentist\n",
    "\n",
    "df= df.append({'prognosis' : 'dentist' , 'toothache':1,\"cavity\":1,\"oral pain\":1} , ignore_index=True)\n",
    "df= df.append({'prognosis' : 'dentist' , 'toothache':1} , ignore_index=True)\n",
    "df= df.append({'prognosis' : 'dentist' , 'toothache':1,\"cavity\":1} , ignore_index=True)\n",
    "df= df.append({'prognosis' : 'dentist' , 'toothache':1,\"oral pain\":1} , ignore_index=True)\n",
    "df= df.append({'prognosis' : 'dentist' ,\"oral pain\":1} , ignore_index=True)\n",
    "df= df.append({'prognosis' : 'dentist' , 'toothache':1,\"oral pain\":1} , ignore_index=True)\n",
    "df= df.append({'prognosis' : 'dentist' , 'toothache':1,\"oral pain\":1,\"ulcers on tongue\":1} , ignore_index=True)\n",
    "df= df.append({'prognosis' : 'dentist' , 'toothache':1,\"ulcers on tongue\":1} , ignore_index=True)\n",
    "df= df.append({'prognosis' : 'dentist' , 'toothache':1,\"cavity\":1,\"oral pain\":1,\"ulcers on tongue\":1} , ignore_index=True)\n",
    "df= df.append({'prognosis' : 'dentist' , \"cavity\":1} , ignore_index=True)\n",
    "df= df.append({'prognosis' : 'dentist' , \"oral pain\":1,\"ulcers on tongue\":1} , ignore_index=True)\n",
    "df= df.append({'prognosis' : 'dentist' , \"ulcers on tongue\":1} , ignore_index=True)"
   ]
  },
  {
   "cell_type": "code",
   "execution_count": 11,
   "metadata": {},
   "outputs": [],
   "source": [
    "##Neurologist\n",
    "df= df.append({'prognosis' : 'neuroloigist' , 'fits':1,\"paralaysis\":1,\"seizure\":1,\"mental confusion\":1} , ignore_index=True)\n",
    "df= df.append({'prognosis' : 'neuroloigist' , 'fits':1} , ignore_index=True)\n",
    "df= df.append({'prognosis' : 'neuroloigist' , 'fits':1,\"paralaysis\":1} , ignore_index=True)\n",
    "df= df.append({'prognosis' : 'neuroloigist' , 'fits':1,\"paralaysis\":1,\"seizure\":1} , ignore_index=True)\n",
    "df= df.append({'prognosis' : 'neuroloigist' , 'fits':1,\"paralaysis\":1,\"mental confusion\":1} , ignore_index=True)\n",
    "df= df.append({'prognosis' : 'neuroloigist' ,\"paralaysis\":1,\"seizure\":1,\"mental confusion\":1} , ignore_index=True)\n",
    "df= df.append({'prognosis' : 'neuroloigist' ,\"paralaysis\":1} , ignore_index=True)\n",
    "\n",
    "##Psycholoight\n",
    "\n",
    "df= df.append({'prognosis' : 'psychologist' , 'depression':1,\"anxiety\":1,\"sucidal thoughts\":1,\"mental confusion\":1} , ignore_index=True)\n",
    "df= df.append({'prognosis' : 'psychologist' , 'depression':1} , ignore_index=True)\n",
    "df= df.append({'prognosis' : 'psychologist' ,\"anxiety\":1,\"sucidal thoughts\":1,\"mental confusion\":1} , ignore_index=True)\n",
    "df= df.append({'prognosis' : 'psychologist' ,\"sucidal thoughts\":1} , ignore_index=True)\n",
    "df= df.append({'prognosis' : 'psychologist' ,'depression':1,\"sucidal thoughts\":1} , ignore_index=True)\n",
    "df= df.append({'prognosis' : 'psychologist' , 'depression':1,\"sucidal thoughts\":1,\"mental confusion\":1} , ignore_index=True)\n",
    "df= df.append({'prognosis' : 'psychologist' , 'depression':1,\"sucidal thoughts\":1,\"lack of concentration\":1} , ignore_index=True)\n",
    "df= df.append({'prognosis' : 'psychologist' , 'depression':1,\"lack of concentration\":1} , ignore_index=True)\n",
    "df= df.append({'prognosis' : 'psychologist' , \"sucidal thoughts\":1,\"mental confusion\":1} , ignore_index=True)\n",
    "df= df.append({'prognosis' : 'psychologist' ,'depression':1} , ignore_index=True)\n",
    "\n",
    "##Fungal\n",
    "df = df.append({'prognosis' : 'Fungal infection' , 'itching':1} , ignore_index=True)\n",
    "df = df.append({'prognosis' : 'Fungal infection' , 'itching':1,\"rashes\":1,\"bumps\":1} , ignore_index=True)\n",
    "df = df.append({'prognosis' : 'Fungal infection' , 'itching':1,\"rashes\":1} , ignore_index=True)\n",
    "\n",
    "##Thyroid\n",
    "df = df.append({'prognosis' : 'Hypothyroidism' , 'constipation':1,\"weight gain\":1,\"tiredness\":1,\"fatigue\":1} , ignore_index=True)\n",
    "df = df.append({'prognosis' : 'Hypothyroidism' , 'constipation':1} , ignore_index=True)\n",
    "df = df.append({'prognosis' : 'Hypothyroidism' , 'constipation':1,\"weight gain\":1} , ignore_index=True)\n",
    "df = df.append({'prognosis' : 'Hypothyroidism' , 'constipation':1,\"fatigue\":1} , ignore_index=True)\n",
    "df = df.append({'prognosis' : 'Hypothyroidism' , 'constipation':1,'stomach pain':1} , ignore_index=True)\n",
    "df = df.append({'prognosis' : 'Hypothyroidism' , 'constipation':1,\"vomiting\":1} , ignore_index=True)\n",
    "df = df.append({'prognosis' : 'Hypothyroidism' , 'stomach pain':1,\"vomiting\":1} , ignore_index=True)"
   ]
  },
  {
   "cell_type": "code",
   "execution_count": 12,
   "metadata": {},
   "outputs": [
    {
     "data": {
      "text/plain": [
       "147"
      ]
     },
     "execution_count": 12,
     "metadata": {},
     "output_type": "execute_result"
    }
   ],
   "source": [
    "len(df.columns)"
   ]
  },
  {
   "cell_type": "code",
   "execution_count": 13,
   "metadata": {},
   "outputs": [],
   "source": [
    "##Heart Attack\n",
    "\n",
    "df= df.append({'prognosis' : 'Heart attack' , \"shoulder pain\":1,'chest pain':1,'nausea':1,'neck pain':1,'arm pain':1,'breathlessness':1} , ignore_index=True)\n",
    "df = df.append({'prognosis' : 'Heart attack' , 'chest pain':1,'neck pain':1,'arm pain':1,'breathlessness':1,\"dizziness\":1} , ignore_index=True)\n",
    "df = df.append({'prognosis' : 'Heart attack' , 'chest pain':1,'arm pain':1,'breathlessness':1,\"dizziness\":1,'fast heart rate':1} , ignore_index=True)\n",
    "df= df.append({'prognosis' : 'Heart attack' , 'chest pain':1,'arm pain':1,'breathlessness':1,\"dizziness\":1,'fast heart rate':1,\"sweating\":1} , ignore_index=True)\n",
    "df = df.append({'prognosis' : 'Heart attack' , 'chest pain':1,\"shoulder pain\":1,'arm pain':1,'breathlessness':1,'fast heart rate':1,\"sweating\":1} , ignore_index=True)\n",
    "df = df.append({'prognosis' : 'Heart attack' , 'chest pain':1,'arm pain':1,'breathlessness':1,\"sweating\":1} , ignore_index=True)\n",
    "df = df.append({'prognosis' : 'Heart attack' , 'chest pain':1,'arm pain':1,'breathlessness':1,\"sweating\":1,\"fatigue\":1} , ignore_index=True)\n",
    "df= df.append({'prognosis' : 'Heart attack' , 'chest pain':1,\"shoulder pain\":1} , ignore_index=True)\n",
    "df= df.append({'prognosis' : 'Heart attack' , 'chest pain':1} , ignore_index=True)\n",
    "df= df.append({'prognosis' : 'Heart attack' , \"shoulder pain\":1,'chest pain':1,\"arm pain\":1} , ignore_index=True)\n",
    "\n",
    "\n",
    "### Common Cold Symptoms\n",
    "df = df.append({'prognosis' : 'Common Cold' , 'fever':1,'cough':1,'head ache':1,'fatigue':1} , ignore_index=True)\n",
    "df = df.append({'prognosis' : 'Common Cold' , 'fever':1,'cough':1,'runny nose':1,'chills':1,'head ache':1} , ignore_index=True)\n",
    "df = df.append({'prognosis' : 'Common Cold' , 'fever':1,'cough':1,'head ache':1} , ignore_index=True)\n",
    "df = df.append({'prognosis' : 'Common Cold' , 'fever':1,'cough':1,'fatigue':1,'chills':1,'head ache':1} , ignore_index=True)\n",
    "df = df.append({'prognosis' : 'Common Cold' , 'cough':1,'fatigue':1,'runny nose':1,'chills':1,'head ache':1} , ignore_index=True)\n",
    "df = df.append({'prognosis' : 'Common Cold' , 'fever':1,'cough':1,'runny nose':1,'mild fever':1,'head ache':1} , ignore_index=True)\n",
    "df = df.append({'prognosis' : 'Common Cold' , 'fever':1,'cough':1,'runny nose':1,'mild fever':1} , ignore_index=True)\n",
    "df = df.append({'prognosis' : 'Common Cold' , 'cough':1,'headache':1} , ignore_index=True)\n",
    "df = df.append({'prognosis' : 'Common Cold' , 'fever':1,'cough':1,'headache':1} , ignore_index=True)\n",
    "df = df.append({'prognosis' : 'Common Cold' , 'fever':1,'cough':1,'fatigue':1} , ignore_index=True)\n",
    "\n",
    "###Opthalmologist\n",
    "df = df.append({'prognosis' : 'ophthalmologist' , 'eye pain':1,'headache':1} , ignore_index=True)\n",
    "df = df.append({'prognosis' : 'ophthalmologist' , 'eye pain':1,\"less vision\":1} , ignore_index=True)\n",
    "df = df.append({'prognosis' : 'ophthalmologist' , 'eye pain':1} , ignore_index=True)\n",
    "df = df.append({'prognosis' : 'ophthalmologist' , 'eye pain':1,\"headache\":1,\"less vision\":1,\"blurred and distorted vision\":1} , ignore_index=True)\n",
    "df = df.append({'prognosis' : 'ophthalmologist' , 'eye pain':1,\"headache\":1,\"less vision\":1,\"red eye\":1} , ignore_index=True)\n",
    "df = df.append({'prognosis' : 'ophthalmologist' , 'eye pain':1,\"red eye\":1} , ignore_index=True)\n",
    "df = df.append({'prognosis' : 'ophthalmologist' , 'eye pain':1} , ignore_index=True)\n",
    "df = df.append({'prognosis' : 'ophthalmologist' , \"red eye\":1} , ignore_index=True)\n",
    "df = df.append({'prognosis' : 'ophthalmologist' , \"headache\":1,\"less vision\":1} , ignore_index=True)\n",
    "df = df.append({'prognosis' : 'ophthalmologist' , \"red eye\":1,\"blurred and distorted vision\":1} , ignore_index=True)\n",
    "\n",
    "df = df.append({'prognosis' : 'ophthalmologist' , 'eye pain':1,\"watering from eyes\":1} , ignore_index=True)\n",
    "df = df.append({'prognosis' : 'ophthalmologist' , 'eye pain':1,\"headache\":1,\"less vision\":1,\"red eye\":1,\"watering from eyes\":1} , ignore_index=True)\n",
    "\n",
    "##Pediatrician\n",
    "df = df.append({'prognosis' : 'Pediatrician' , \"child\":1} , ignore_index=True)\n",
    "df = df.append({'prognosis' : 'Pediatrician' , \"child\":1,\"kid\":1} , ignore_index=True)\n",
    "df = df.append({'prognosis' : 'Pediatrician' , \"child\":1,\"kid\":1,\"fever\":1} , ignore_index=True)\n",
    "df = df.append({'prognosis' : 'Pediatrician' , \"baby\":1} , ignore_index=True)\n",
    "df = df.append({'prognosis' : 'Pediatrician' , \"baby\":1,\"stomach pain\":1} , ignore_index=True)\n",
    "df = df.append({'prognosis' : 'Pediatrician' , \"child\":1,\"stomach pain\":1,\"headache\":1} , ignore_index=True)\n",
    "df = df.append({'prognosis' : 'Pediatrician' , \"child\":1,\"stomach pain\":1,\"headache\":1,\"fever\":1} , ignore_index=True)\n",
    "df = df.append({'prognosis' : 'Pediatrician' , \"child\":1,\"fever\":1} , ignore_index=True)\n",
    "df = df.append({'prognosis' : 'Pediatrician' , \"child\":1,\"stomach pain\":1,\"headache\":1,\"fever\":1,\"cough\":1} , ignore_index=True)\n",
    "df = df.append({'prognosis' : 'Pediatrician' , \"baby\":1,\"stomach pain\":1,\"headache\":1,\"fever\":1,\"cough\":1} , ignore_index=True)\n",
    "df = df.append({'prognosis' : 'Pediatrician' , \"kid\":1,\"stomach pain\":1,\"headache\":1,\"fever\":1,\"cough\":1} , ignore_index=True)\n",
    "\n",
    "df = df.append({'prognosis' : 'Urinary tract infection' , \"yellow urine\":1,\"polyuria\":1,\"foul smell of urine\":1,\"continuous feel of urine\":1} , ignore_index=True)\n",
    "df = df.append({'prognosis' : 'Urinary tract infection' , \"foul smell of urine\":1} , ignore_index=True)\n",
    "df = df.append({'prognosis' : 'Urinary tract infection' ,\"polyuria\":1} , ignore_index=True)\n",
    "df = df.append({'prognosis' : 'Urinary tract infection' , \"yellow urine\":1,\"polyuria\":1,\"continuous feel of urine\":1} , ignore_index=True)\n",
    "df = df.append({'prognosis' : 'Urinary tract infection' , \"continuous feel of urine\":1} , ignore_index=True)\n",
    "df = df.append({'prognosis' : 'Urinary tract infection' ,\"polyuria\":1,\"foul smell of urine\":1,\"continuous feel of urine\":1} , ignore_index=True)\n",
    "\n",
    "\n",
    "df = df.append({'prognosis' : '(vertigo) Paroymsal  Positional Vertigo' ,\"ear pain\":1,\"throat pain\":1} , ignore_index=True)\n",
    "df = df.append({'prognosis' : '(vertigo) Paroymsal  Positional Vertigo' ,\"ear pain\":1} , ignore_index=True)\n",
    "df = df.append({'prognosis' : '(vertigo) Paroymsal  Positional Vertigo' ,\"throat pain\":1} , ignore_index=True)"
   ]
  },
  {
   "cell_type": "code",
   "execution_count": 14,
   "metadata": {},
   "outputs": [
    {
     "data": {
      "text/html": [
       "<div>\n",
       "<style scoped>\n",
       "    .dataframe tbody tr th:only-of-type {\n",
       "        vertical-align: middle;\n",
       "    }\n",
       "\n",
       "    .dataframe tbody tr th {\n",
       "        vertical-align: top;\n",
       "    }\n",
       "\n",
       "    .dataframe thead th {\n",
       "        text-align: right;\n",
       "    }\n",
       "</style>\n",
       "<table border=\"1\" class=\"dataframe\">\n",
       "  <thead>\n",
       "    <tr style=\"text-align: right;\">\n",
       "      <th></th>\n",
       "      <th>itching</th>\n",
       "      <th>rash</th>\n",
       "      <th>nodal skin eruptions</th>\n",
       "      <th>continuous sneezing</th>\n",
       "      <th>shivering</th>\n",
       "      <th>chills</th>\n",
       "      <th>joint pain</th>\n",
       "      <th>acidity</th>\n",
       "      <th>ulcers on tongue</th>\n",
       "      <th>muscle wasting</th>\n",
       "      <th>...</th>\n",
       "      <th>shoulder pain</th>\n",
       "      <th>head ache</th>\n",
       "      <th>mild fever</th>\n",
       "      <th>eye pain</th>\n",
       "      <th>less vision</th>\n",
       "      <th>red eye</th>\n",
       "      <th>child</th>\n",
       "      <th>kid</th>\n",
       "      <th>baby</th>\n",
       "      <th>ear pain</th>\n",
       "    </tr>\n",
       "  </thead>\n",
       "  <tbody>\n",
       "    <tr>\n",
       "      <th>398</th>\n",
       "      <td>NaN</td>\n",
       "      <td>NaN</td>\n",
       "      <td>NaN</td>\n",
       "      <td>NaN</td>\n",
       "      <td>NaN</td>\n",
       "      <td>NaN</td>\n",
       "      <td>NaN</td>\n",
       "      <td>NaN</td>\n",
       "      <td>NaN</td>\n",
       "      <td>NaN</td>\n",
       "      <td>...</td>\n",
       "      <td>NaN</td>\n",
       "      <td>NaN</td>\n",
       "      <td>NaN</td>\n",
       "      <td>NaN</td>\n",
       "      <td>NaN</td>\n",
       "      <td>NaN</td>\n",
       "      <td>NaN</td>\n",
       "      <td>NaN</td>\n",
       "      <td>NaN</td>\n",
       "      <td>NaN</td>\n",
       "    </tr>\n",
       "    <tr>\n",
       "      <th>399</th>\n",
       "      <td>NaN</td>\n",
       "      <td>NaN</td>\n",
       "      <td>NaN</td>\n",
       "      <td>NaN</td>\n",
       "      <td>NaN</td>\n",
       "      <td>NaN</td>\n",
       "      <td>NaN</td>\n",
       "      <td>NaN</td>\n",
       "      <td>NaN</td>\n",
       "      <td>NaN</td>\n",
       "      <td>...</td>\n",
       "      <td>NaN</td>\n",
       "      <td>NaN</td>\n",
       "      <td>NaN</td>\n",
       "      <td>NaN</td>\n",
       "      <td>NaN</td>\n",
       "      <td>NaN</td>\n",
       "      <td>NaN</td>\n",
       "      <td>NaN</td>\n",
       "      <td>NaN</td>\n",
       "      <td>NaN</td>\n",
       "    </tr>\n",
       "    <tr>\n",
       "      <th>400</th>\n",
       "      <td>NaN</td>\n",
       "      <td>NaN</td>\n",
       "      <td>NaN</td>\n",
       "      <td>NaN</td>\n",
       "      <td>NaN</td>\n",
       "      <td>NaN</td>\n",
       "      <td>NaN</td>\n",
       "      <td>NaN</td>\n",
       "      <td>NaN</td>\n",
       "      <td>NaN</td>\n",
       "      <td>...</td>\n",
       "      <td>NaN</td>\n",
       "      <td>NaN</td>\n",
       "      <td>NaN</td>\n",
       "      <td>NaN</td>\n",
       "      <td>NaN</td>\n",
       "      <td>NaN</td>\n",
       "      <td>NaN</td>\n",
       "      <td>NaN</td>\n",
       "      <td>NaN</td>\n",
       "      <td>1.0</td>\n",
       "    </tr>\n",
       "    <tr>\n",
       "      <th>401</th>\n",
       "      <td>NaN</td>\n",
       "      <td>NaN</td>\n",
       "      <td>NaN</td>\n",
       "      <td>NaN</td>\n",
       "      <td>NaN</td>\n",
       "      <td>NaN</td>\n",
       "      <td>NaN</td>\n",
       "      <td>NaN</td>\n",
       "      <td>NaN</td>\n",
       "      <td>NaN</td>\n",
       "      <td>...</td>\n",
       "      <td>NaN</td>\n",
       "      <td>NaN</td>\n",
       "      <td>NaN</td>\n",
       "      <td>NaN</td>\n",
       "      <td>NaN</td>\n",
       "      <td>NaN</td>\n",
       "      <td>NaN</td>\n",
       "      <td>NaN</td>\n",
       "      <td>NaN</td>\n",
       "      <td>1.0</td>\n",
       "    </tr>\n",
       "    <tr>\n",
       "      <th>402</th>\n",
       "      <td>NaN</td>\n",
       "      <td>NaN</td>\n",
       "      <td>NaN</td>\n",
       "      <td>NaN</td>\n",
       "      <td>NaN</td>\n",
       "      <td>NaN</td>\n",
       "      <td>NaN</td>\n",
       "      <td>NaN</td>\n",
       "      <td>NaN</td>\n",
       "      <td>NaN</td>\n",
       "      <td>...</td>\n",
       "      <td>NaN</td>\n",
       "      <td>NaN</td>\n",
       "      <td>NaN</td>\n",
       "      <td>NaN</td>\n",
       "      <td>NaN</td>\n",
       "      <td>NaN</td>\n",
       "      <td>NaN</td>\n",
       "      <td>NaN</td>\n",
       "      <td>NaN</td>\n",
       "      <td>NaN</td>\n",
       "    </tr>\n",
       "  </tbody>\n",
       "</table>\n",
       "<p>5 rows × 157 columns</p>\n",
       "</div>"
      ],
      "text/plain": [
       "     itching  rash  nodal skin eruptions  continuous sneezing  shivering  \\\n",
       "398      NaN   NaN                   NaN                  NaN        NaN   \n",
       "399      NaN   NaN                   NaN                  NaN        NaN   \n",
       "400      NaN   NaN                   NaN                  NaN        NaN   \n",
       "401      NaN   NaN                   NaN                  NaN        NaN   \n",
       "402      NaN   NaN                   NaN                  NaN        NaN   \n",
       "\n",
       "     chills  joint pain  acidity  ulcers on tongue  muscle wasting  ...  \\\n",
       "398     NaN         NaN      NaN               NaN             NaN  ...   \n",
       "399     NaN         NaN      NaN               NaN             NaN  ...   \n",
       "400     NaN         NaN      NaN               NaN             NaN  ...   \n",
       "401     NaN         NaN      NaN               NaN             NaN  ...   \n",
       "402     NaN         NaN      NaN               NaN             NaN  ...   \n",
       "\n",
       "     shoulder pain  head ache  mild fever  eye pain  less vision  red eye  \\\n",
       "398            NaN        NaN         NaN       NaN          NaN      NaN   \n",
       "399            NaN        NaN         NaN       NaN          NaN      NaN   \n",
       "400            NaN        NaN         NaN       NaN          NaN      NaN   \n",
       "401            NaN        NaN         NaN       NaN          NaN      NaN   \n",
       "402            NaN        NaN         NaN       NaN          NaN      NaN   \n",
       "\n",
       "     child  kid  baby  ear pain  \n",
       "398    NaN  NaN   NaN       NaN  \n",
       "399    NaN  NaN   NaN       NaN  \n",
       "400    NaN  NaN   NaN       1.0  \n",
       "401    NaN  NaN   NaN       1.0  \n",
       "402    NaN  NaN   NaN       NaN  \n",
       "\n",
       "[5 rows x 157 columns]"
      ]
     },
     "execution_count": 14,
     "metadata": {},
     "output_type": "execute_result"
    }
   ],
   "source": [
    "df.tail()"
   ]
  },
  {
   "cell_type": "code",
   "execution_count": 15,
   "metadata": {},
   "outputs": [
    {
     "name": "stdout",
     "output_type": "stream",
     "text": [
      "['itching', 'rash', 'nodal skin eruptions', 'continuous sneezing', 'shivering', 'chills', 'joint pain', 'acidity', 'ulcers on tongue', 'muscle wasting', 'vomiting', 'burning micturition', 'spotting  urination', 'fatigue', 'weight gain', 'anxiety', 'cold hands and feets', 'mood swings', 'weight loss', 'restlessness', 'lethargy', 'patches in throat', 'irregular sugar level', 'cough', 'high fever', 'sunken eyes', 'breathlessness', 'sweating', 'dehydration', 'indigestion', 'headache', 'yellowish skin', 'dark urine', 'nausea', 'loss of appetite', 'pain behind the eyes', 'back pain', 'constipation', 'abdominal pain', 'diarrhoea', 'fever', 'yellow urine', 'yellowing of eyes', 'acute liver failure', 'fluid overload', 'swelling of stomach', 'swelled lymph nodes', 'malaise', 'blurred and distorted vision', 'phlegm', 'throat pain', 'redness of eyes', 'sinus pressure', 'runny nose', 'congestion', 'chest pain', 'weakness in limbs', 'fast heart rate', 'pain during bowel movements', 'pain in anal region', 'bloody stool', 'irritation in anus', 'neck pain', 'dizziness', 'cramps', 'bruising', 'obesity', 'swollen legs', 'swollen blood vessels', 'puffy face and eyes', 'enlarged thyroid', 'brittle nails', 'swollen extremeties', 'hunger', 'extra marital contacts', 'drying and tingling lips', 'slurred speech', 'knee pain', 'hip joint pain', 'muscle weakness', 'stiff neck', 'swelling joints', 'movement stiffness', 'spinning movements', 'loss of balance', 'unsteadiness', 'weakness of one body side', 'loss of smell', 'bladder discomfort', 'foul smell of urine', 'continuous feel of urine', 'passage of gases', 'internal itching', 'toxic look (typhos)', 'depression', 'irritability', 'muscle pain', 'altered sensorium', 'red spots over body', 'belly pain', 'abnormal menstruation', 'dischromic  patches', 'watering from eyes', 'increased appetite', 'polyuria', 'family history', 'mucoid sputum', 'rusty sputum', 'lack of concentration', 'visual disturbances', 'receiving blood transfusion', 'receiving unsterile injections', 'coma', 'stomach bleeding', 'distention of abdomen', 'history of alcohol consumption', 'fluid overload.1', 'blood in sputum', 'prominent veins on calf', 'palpitations', 'painful walking', 'pus filled pimples', 'blackheads', 'scurring', 'skin peeling', 'silver like dusting', 'small dents in nails', 'inflammatory nails', 'blister', 'red sore around nose', 'yellow crust ooze', 'prognosis', 'arm pain', '', 'painlessness', 'cavity', 'oral pain', 'toothache', 'fits', 'mental confusion', 'paralaysis', 'seizure', 'sucidal thoughts', 'bumps', 'rashes', 'tiredness', 'stomach pain', 'shoulder pain', 'head ache', 'mild fever', 'eye pain', 'less vision', 'red eye', 'child', 'kid', 'baby', 'ear pain']\n"
     ]
    }
   ],
   "source": [
    "print(list(df.columns))"
   ]
  },
  {
   "cell_type": "code",
   "execution_count": 16,
   "metadata": {},
   "outputs": [],
   "source": [
    "df.fillna(0,inplace=True)"
   ]
  },
  {
   "cell_type": "code",
   "execution_count": 17,
   "metadata": {},
   "outputs": [],
   "source": [
    "df.loc[df.prognosis == \"Arthritis\", 'joint pain'] = 1\n",
    "df.loc[df.prognosis == \"Osteoarthristis\", 'joint pain'] = 1"
   ]
  },
  {
   "cell_type": "code",
   "execution_count": 18,
   "metadata": {},
   "outputs": [
    {
     "data": {
      "text/plain": [
       "222    1.0\n",
       "223    1.0\n",
       "224    1.0\n",
       "225    1.0\n",
       "226    0.0\n",
       "304    1.0\n",
       "305    1.0\n",
       "351    1.0\n",
       "352    1.0\n",
       "353    1.0\n",
       "354    1.0\n",
       "355    1.0\n",
       "356    1.0\n",
       "357    1.0\n",
       "358    1.0\n",
       "359    1.0\n",
       "360    1.0\n",
       "Name: chest pain, dtype: float64"
      ]
     },
     "execution_count": 18,
     "metadata": {},
     "output_type": "execute_result"
    }
   ],
   "source": [
    "df.loc[df.prognosis == \"Heart attack\", 'chest pain']"
   ]
  },
  {
   "cell_type": "code",
   "execution_count": 19,
   "metadata": {},
   "outputs": [
    {
     "data": {
      "text/plain": [
       "Common Cold                                20\n",
       "Heart attack                               17\n",
       "Hypothyroidism                             15\n",
       "Diabetes                                   14\n",
       "dentist                                    12\n",
       "ophthalmologist                            12\n",
       "Urinary tract infection                    11\n",
       "Pediatrician                               11\n",
       "Dengue                                     10\n",
       "(vertigo) Paroymsal  Positional Vertigo    10\n",
       "Migraine                                   10\n",
       "Hepatitis D                                10\n",
       "psychologist                               10\n",
       "Chicken pox                                10\n",
       "Hyperthyroidism                             9\n",
       "Hypoglycemia                                9\n",
       "Pneumonia                                   9\n",
       "Typhoid                                     9\n",
       "Hepatitis E                                 9\n",
       "hepatitis A                                 9\n",
       "Tuberculosis                                9\n",
       "Jaundice                                    9\n",
       "Hepatitis B                                 9\n",
       "Varicose veins                              8\n",
       "Malaria                                     8\n",
       "Alcoholic hepatitis                         8\n",
       "Fungal infection                            8\n",
       "Chronic cholestasis                         8\n",
       "Psoriasis                                   7\n",
       "Hepatitis C                                 7\n",
       "neuroloigist                                7\n",
       "Peptic ulcer diseae                         7\n",
       "GERD                                        7\n",
       "Osteoarthristis                             7\n",
       "Bronchial Asthma                            7\n",
       "Dimorphic hemmorhoids(piles)                6\n",
       "Cervical spondylosis                        6\n",
       "Impetigo                                    6\n",
       "Drug Reaction                               6\n",
       "Hypertension                                6\n",
       "Arthritis                                   6\n",
       "Allergy                                     5\n",
       "AIDS                                        5\n",
       "Acne                                        5\n",
       "Paralysis (brain hemorrhage)                5\n",
       "Gastroenteritis                             5\n",
       "Name: prognosis, dtype: int64"
      ]
     },
     "execution_count": 19,
     "metadata": {},
     "output_type": "execute_result"
    }
   ],
   "source": [
    "df[\"prognosis\"].value_counts()"
   ]
  },
  {
   "cell_type": "code",
   "execution_count": 20,
   "metadata": {},
   "outputs": [
    {
     "data": {
      "text/plain": [
       "Common Cold                                20\n",
       "Heart attack                               17\n",
       "Hypothyroidism                             15\n",
       "Diabetes                                   14\n",
       "dentist                                    12\n",
       "ophthalmologist                            12\n",
       "Urinary tract infection                    11\n",
       "Pediatrician                               11\n",
       "Dengue                                     10\n",
       "(vertigo) Paroymsal  Positional Vertigo    10\n",
       "Migraine                                   10\n",
       "Hepatitis D                                10\n",
       "psychologist                               10\n",
       "Chicken pox                                10\n",
       "Hyperthyroidism                             9\n",
       "Hypoglycemia                                9\n",
       "Pneumonia                                   9\n",
       "Typhoid                                     9\n",
       "Hepatitis E                                 9\n",
       "hepatitis A                                 9\n",
       "Tuberculosis                                9\n",
       "Jaundice                                    9\n",
       "Hepatitis B                                 9\n",
       "Varicose veins                              8\n",
       "Malaria                                     8\n",
       "Alcoholic hepatitis                         8\n",
       "Fungal infection                            8\n",
       "Chronic cholestasis                         8\n",
       "Psoriasis                                   7\n",
       "Hepatitis C                                 7\n",
       "neuroloigist                                7\n",
       "Peptic ulcer diseae                         7\n",
       "GERD                                        7\n",
       "Osteoarthristis                             7\n",
       "Bronchial Asthma                            7\n",
       "Dimorphic hemmorhoids(piles)                6\n",
       "Cervical spondylosis                        6\n",
       "Impetigo                                    6\n",
       "Drug Reaction                               6\n",
       "Hypertension                                6\n",
       "Arthritis                                   6\n",
       "Allergy                                     5\n",
       "AIDS                                        5\n",
       "Acne                                        5\n",
       "Paralysis (brain hemorrhage)                5\n",
       "Gastroenteritis                             5\n",
       "Name: prognosis, dtype: int64"
      ]
     },
     "execution_count": 20,
     "metadata": {},
     "output_type": "execute_result"
    }
   ],
   "source": [
    "df[\"prognosis\"].value_counts()"
   ]
  },
  {
   "cell_type": "code",
   "execution_count": 21,
   "metadata": {},
   "outputs": [],
   "source": [
    "col=df.columns\n",
    "#col\n"
   ]
  },
  {
   "cell_type": "code",
   "execution_count": 22,
   "metadata": {},
   "outputs": [
    {
     "data": {
      "text/plain": [
       "157"
      ]
     },
     "execution_count": 22,
     "metadata": {},
     "output_type": "execute_result"
    }
   ],
   "source": [
    "raw_col=list(col)\n",
    "len(raw_col)"
   ]
  },
  {
   "cell_type": "code",
   "execution_count": 23,
   "metadata": {},
   "outputs": [
    {
     "name": "stdout",
     "output_type": "stream",
     "text": [
      "<class 'pandas.core.frame.DataFrame'>\n",
      "RangeIndex: 403 entries, 0 to 402\n",
      "Columns: 157 entries, itching to ear pain\n",
      "dtypes: float64(156), object(1)\n",
      "memory usage: 494.4+ KB\n"
     ]
    }
   ],
   "source": [
    "df.info()"
   ]
  },
  {
   "cell_type": "code",
   "execution_count": 24,
   "metadata": {},
   "outputs": [
    {
     "data": {
      "text/html": [
       "<div>\n",
       "<style scoped>\n",
       "    .dataframe tbody tr th:only-of-type {\n",
       "        vertical-align: middle;\n",
       "    }\n",
       "\n",
       "    .dataframe tbody tr th {\n",
       "        vertical-align: top;\n",
       "    }\n",
       "\n",
       "    .dataframe thead th {\n",
       "        text-align: right;\n",
       "    }\n",
       "</style>\n",
       "<table border=\"1\" class=\"dataframe\">\n",
       "  <thead>\n",
       "    <tr style=\"text-align: right;\">\n",
       "      <th></th>\n",
       "      <th>itching</th>\n",
       "      <th>rash</th>\n",
       "      <th>nodal skin eruptions</th>\n",
       "      <th>continuous sneezing</th>\n",
       "      <th>shivering</th>\n",
       "      <th>chills</th>\n",
       "      <th>joint pain</th>\n",
       "      <th>acidity</th>\n",
       "      <th>ulcers on tongue</th>\n",
       "      <th>muscle wasting</th>\n",
       "      <th>...</th>\n",
       "      <th>shoulder pain</th>\n",
       "      <th>head ache</th>\n",
       "      <th>mild fever</th>\n",
       "      <th>eye pain</th>\n",
       "      <th>less vision</th>\n",
       "      <th>red eye</th>\n",
       "      <th>child</th>\n",
       "      <th>kid</th>\n",
       "      <th>baby</th>\n",
       "      <th>ear pain</th>\n",
       "    </tr>\n",
       "  </thead>\n",
       "  <tbody>\n",
       "    <tr>\n",
       "      <th>0</th>\n",
       "      <td>1.0</td>\n",
       "      <td>1.0</td>\n",
       "      <td>1.0</td>\n",
       "      <td>0.0</td>\n",
       "      <td>0.0</td>\n",
       "      <td>0.0</td>\n",
       "      <td>0.0</td>\n",
       "      <td>0.0</td>\n",
       "      <td>0.0</td>\n",
       "      <td>0.0</td>\n",
       "      <td>...</td>\n",
       "      <td>0.0</td>\n",
       "      <td>0.0</td>\n",
       "      <td>0.0</td>\n",
       "      <td>0.0</td>\n",
       "      <td>0.0</td>\n",
       "      <td>0.0</td>\n",
       "      <td>0.0</td>\n",
       "      <td>0.0</td>\n",
       "      <td>0.0</td>\n",
       "      <td>0.0</td>\n",
       "    </tr>\n",
       "    <tr>\n",
       "      <th>1</th>\n",
       "      <td>0.0</td>\n",
       "      <td>1.0</td>\n",
       "      <td>1.0</td>\n",
       "      <td>0.0</td>\n",
       "      <td>0.0</td>\n",
       "      <td>0.0</td>\n",
       "      <td>0.0</td>\n",
       "      <td>0.0</td>\n",
       "      <td>0.0</td>\n",
       "      <td>0.0</td>\n",
       "      <td>...</td>\n",
       "      <td>0.0</td>\n",
       "      <td>0.0</td>\n",
       "      <td>0.0</td>\n",
       "      <td>0.0</td>\n",
       "      <td>0.0</td>\n",
       "      <td>0.0</td>\n",
       "      <td>0.0</td>\n",
       "      <td>0.0</td>\n",
       "      <td>0.0</td>\n",
       "      <td>0.0</td>\n",
       "    </tr>\n",
       "    <tr>\n",
       "      <th>2</th>\n",
       "      <td>1.0</td>\n",
       "      <td>0.0</td>\n",
       "      <td>1.0</td>\n",
       "      <td>0.0</td>\n",
       "      <td>0.0</td>\n",
       "      <td>0.0</td>\n",
       "      <td>0.0</td>\n",
       "      <td>0.0</td>\n",
       "      <td>0.0</td>\n",
       "      <td>0.0</td>\n",
       "      <td>...</td>\n",
       "      <td>0.0</td>\n",
       "      <td>0.0</td>\n",
       "      <td>0.0</td>\n",
       "      <td>0.0</td>\n",
       "      <td>0.0</td>\n",
       "      <td>0.0</td>\n",
       "      <td>0.0</td>\n",
       "      <td>0.0</td>\n",
       "      <td>0.0</td>\n",
       "      <td>0.0</td>\n",
       "    </tr>\n",
       "    <tr>\n",
       "      <th>3</th>\n",
       "      <td>1.0</td>\n",
       "      <td>1.0</td>\n",
       "      <td>0.0</td>\n",
       "      <td>0.0</td>\n",
       "      <td>0.0</td>\n",
       "      <td>0.0</td>\n",
       "      <td>0.0</td>\n",
       "      <td>0.0</td>\n",
       "      <td>0.0</td>\n",
       "      <td>0.0</td>\n",
       "      <td>...</td>\n",
       "      <td>0.0</td>\n",
       "      <td>0.0</td>\n",
       "      <td>0.0</td>\n",
       "      <td>0.0</td>\n",
       "      <td>0.0</td>\n",
       "      <td>0.0</td>\n",
       "      <td>0.0</td>\n",
       "      <td>0.0</td>\n",
       "      <td>0.0</td>\n",
       "      <td>0.0</td>\n",
       "    </tr>\n",
       "    <tr>\n",
       "      <th>4</th>\n",
       "      <td>1.0</td>\n",
       "      <td>1.0</td>\n",
       "      <td>1.0</td>\n",
       "      <td>0.0</td>\n",
       "      <td>0.0</td>\n",
       "      <td>0.0</td>\n",
       "      <td>0.0</td>\n",
       "      <td>0.0</td>\n",
       "      <td>0.0</td>\n",
       "      <td>0.0</td>\n",
       "      <td>...</td>\n",
       "      <td>0.0</td>\n",
       "      <td>0.0</td>\n",
       "      <td>0.0</td>\n",
       "      <td>0.0</td>\n",
       "      <td>0.0</td>\n",
       "      <td>0.0</td>\n",
       "      <td>0.0</td>\n",
       "      <td>0.0</td>\n",
       "      <td>0.0</td>\n",
       "      <td>0.0</td>\n",
       "    </tr>\n",
       "  </tbody>\n",
       "</table>\n",
       "<p>5 rows × 157 columns</p>\n",
       "</div>"
      ],
      "text/plain": [
       "   itching  rash  nodal skin eruptions  continuous sneezing  shivering  \\\n",
       "0      1.0   1.0                   1.0                  0.0        0.0   \n",
       "1      0.0   1.0                   1.0                  0.0        0.0   \n",
       "2      1.0   0.0                   1.0                  0.0        0.0   \n",
       "3      1.0   1.0                   0.0                  0.0        0.0   \n",
       "4      1.0   1.0                   1.0                  0.0        0.0   \n",
       "\n",
       "   chills  joint pain  acidity  ulcers on tongue  muscle wasting  ...  \\\n",
       "0     0.0         0.0      0.0               0.0             0.0  ...   \n",
       "1     0.0         0.0      0.0               0.0             0.0  ...   \n",
       "2     0.0         0.0      0.0               0.0             0.0  ...   \n",
       "3     0.0         0.0      0.0               0.0             0.0  ...   \n",
       "4     0.0         0.0      0.0               0.0             0.0  ...   \n",
       "\n",
       "   shoulder pain  head ache  mild fever  eye pain  less vision  red eye  \\\n",
       "0            0.0        0.0         0.0       0.0          0.0      0.0   \n",
       "1            0.0        0.0         0.0       0.0          0.0      0.0   \n",
       "2            0.0        0.0         0.0       0.0          0.0      0.0   \n",
       "3            0.0        0.0         0.0       0.0          0.0      0.0   \n",
       "4            0.0        0.0         0.0       0.0          0.0      0.0   \n",
       "\n",
       "   child  kid  baby  ear pain  \n",
       "0    0.0  0.0   0.0       0.0  \n",
       "1    0.0  0.0   0.0       0.0  \n",
       "2    0.0  0.0   0.0       0.0  \n",
       "3    0.0  0.0   0.0       0.0  \n",
       "4    0.0  0.0   0.0       0.0  \n",
       "\n",
       "[5 rows x 157 columns]"
      ]
     },
     "metadata": {},
     "output_type": "display_data"
    },
    {
     "data": {
      "text/html": [
       "<div>\n",
       "<style scoped>\n",
       "    .dataframe tbody tr th:only-of-type {\n",
       "        vertical-align: middle;\n",
       "    }\n",
       "\n",
       "    .dataframe tbody tr th {\n",
       "        vertical-align: top;\n",
       "    }\n",
       "\n",
       "    .dataframe thead th {\n",
       "        text-align: right;\n",
       "    }\n",
       "</style>\n",
       "<table border=\"1\" class=\"dataframe\">\n",
       "  <thead>\n",
       "    <tr style=\"text-align: right;\">\n",
       "      <th></th>\n",
       "      <th>itching</th>\n",
       "      <th>rash</th>\n",
       "      <th>nodal skin eruptions</th>\n",
       "      <th>continuous sneezing</th>\n",
       "      <th>shivering</th>\n",
       "      <th>chills</th>\n",
       "      <th>joint pain</th>\n",
       "      <th>acidity</th>\n",
       "      <th>ulcers on tongue</th>\n",
       "      <th>muscle wasting</th>\n",
       "      <th>...</th>\n",
       "      <th>shoulder pain</th>\n",
       "      <th>head ache</th>\n",
       "      <th>mild fever</th>\n",
       "      <th>eye pain</th>\n",
       "      <th>less vision</th>\n",
       "      <th>red eye</th>\n",
       "      <th>child</th>\n",
       "      <th>kid</th>\n",
       "      <th>baby</th>\n",
       "      <th>ear pain</th>\n",
       "    </tr>\n",
       "  </thead>\n",
       "  <tbody>\n",
       "    <tr>\n",
       "      <th>398</th>\n",
       "      <td>0.0</td>\n",
       "      <td>0.0</td>\n",
       "      <td>0.0</td>\n",
       "      <td>0.0</td>\n",
       "      <td>0.0</td>\n",
       "      <td>0.0</td>\n",
       "      <td>0.0</td>\n",
       "      <td>0.0</td>\n",
       "      <td>0.0</td>\n",
       "      <td>0.0</td>\n",
       "      <td>...</td>\n",
       "      <td>0.0</td>\n",
       "      <td>0.0</td>\n",
       "      <td>0.0</td>\n",
       "      <td>0.0</td>\n",
       "      <td>0.0</td>\n",
       "      <td>0.0</td>\n",
       "      <td>0.0</td>\n",
       "      <td>0.0</td>\n",
       "      <td>0.0</td>\n",
       "      <td>0.0</td>\n",
       "    </tr>\n",
       "    <tr>\n",
       "      <th>399</th>\n",
       "      <td>0.0</td>\n",
       "      <td>0.0</td>\n",
       "      <td>0.0</td>\n",
       "      <td>0.0</td>\n",
       "      <td>0.0</td>\n",
       "      <td>0.0</td>\n",
       "      <td>0.0</td>\n",
       "      <td>0.0</td>\n",
       "      <td>0.0</td>\n",
       "      <td>0.0</td>\n",
       "      <td>...</td>\n",
       "      <td>0.0</td>\n",
       "      <td>0.0</td>\n",
       "      <td>0.0</td>\n",
       "      <td>0.0</td>\n",
       "      <td>0.0</td>\n",
       "      <td>0.0</td>\n",
       "      <td>0.0</td>\n",
       "      <td>0.0</td>\n",
       "      <td>0.0</td>\n",
       "      <td>0.0</td>\n",
       "    </tr>\n",
       "    <tr>\n",
       "      <th>400</th>\n",
       "      <td>0.0</td>\n",
       "      <td>0.0</td>\n",
       "      <td>0.0</td>\n",
       "      <td>0.0</td>\n",
       "      <td>0.0</td>\n",
       "      <td>0.0</td>\n",
       "      <td>0.0</td>\n",
       "      <td>0.0</td>\n",
       "      <td>0.0</td>\n",
       "      <td>0.0</td>\n",
       "      <td>...</td>\n",
       "      <td>0.0</td>\n",
       "      <td>0.0</td>\n",
       "      <td>0.0</td>\n",
       "      <td>0.0</td>\n",
       "      <td>0.0</td>\n",
       "      <td>0.0</td>\n",
       "      <td>0.0</td>\n",
       "      <td>0.0</td>\n",
       "      <td>0.0</td>\n",
       "      <td>1.0</td>\n",
       "    </tr>\n",
       "    <tr>\n",
       "      <th>401</th>\n",
       "      <td>0.0</td>\n",
       "      <td>0.0</td>\n",
       "      <td>0.0</td>\n",
       "      <td>0.0</td>\n",
       "      <td>0.0</td>\n",
       "      <td>0.0</td>\n",
       "      <td>0.0</td>\n",
       "      <td>0.0</td>\n",
       "      <td>0.0</td>\n",
       "      <td>0.0</td>\n",
       "      <td>...</td>\n",
       "      <td>0.0</td>\n",
       "      <td>0.0</td>\n",
       "      <td>0.0</td>\n",
       "      <td>0.0</td>\n",
       "      <td>0.0</td>\n",
       "      <td>0.0</td>\n",
       "      <td>0.0</td>\n",
       "      <td>0.0</td>\n",
       "      <td>0.0</td>\n",
       "      <td>1.0</td>\n",
       "    </tr>\n",
       "    <tr>\n",
       "      <th>402</th>\n",
       "      <td>0.0</td>\n",
       "      <td>0.0</td>\n",
       "      <td>0.0</td>\n",
       "      <td>0.0</td>\n",
       "      <td>0.0</td>\n",
       "      <td>0.0</td>\n",
       "      <td>0.0</td>\n",
       "      <td>0.0</td>\n",
       "      <td>0.0</td>\n",
       "      <td>0.0</td>\n",
       "      <td>...</td>\n",
       "      <td>0.0</td>\n",
       "      <td>0.0</td>\n",
       "      <td>0.0</td>\n",
       "      <td>0.0</td>\n",
       "      <td>0.0</td>\n",
       "      <td>0.0</td>\n",
       "      <td>0.0</td>\n",
       "      <td>0.0</td>\n",
       "      <td>0.0</td>\n",
       "      <td>0.0</td>\n",
       "    </tr>\n",
       "  </tbody>\n",
       "</table>\n",
       "<p>5 rows × 157 columns</p>\n",
       "</div>"
      ],
      "text/plain": [
       "     itching  rash  nodal skin eruptions  continuous sneezing  shivering  \\\n",
       "398      0.0   0.0                   0.0                  0.0        0.0   \n",
       "399      0.0   0.0                   0.0                  0.0        0.0   \n",
       "400      0.0   0.0                   0.0                  0.0        0.0   \n",
       "401      0.0   0.0                   0.0                  0.0        0.0   \n",
       "402      0.0   0.0                   0.0                  0.0        0.0   \n",
       "\n",
       "     chills  joint pain  acidity  ulcers on tongue  muscle wasting  ...  \\\n",
       "398     0.0         0.0      0.0               0.0             0.0  ...   \n",
       "399     0.0         0.0      0.0               0.0             0.0  ...   \n",
       "400     0.0         0.0      0.0               0.0             0.0  ...   \n",
       "401     0.0         0.0      0.0               0.0             0.0  ...   \n",
       "402     0.0         0.0      0.0               0.0             0.0  ...   \n",
       "\n",
       "     shoulder pain  head ache  mild fever  eye pain  less vision  red eye  \\\n",
       "398            0.0        0.0         0.0       0.0          0.0      0.0   \n",
       "399            0.0        0.0         0.0       0.0          0.0      0.0   \n",
       "400            0.0        0.0         0.0       0.0          0.0      0.0   \n",
       "401            0.0        0.0         0.0       0.0          0.0      0.0   \n",
       "402            0.0        0.0         0.0       0.0          0.0      0.0   \n",
       "\n",
       "     child  kid  baby  ear pain  \n",
       "398    0.0  0.0   0.0       0.0  \n",
       "399    0.0  0.0   0.0       0.0  \n",
       "400    0.0  0.0   0.0       1.0  \n",
       "401    0.0  0.0   0.0       1.0  \n",
       "402    0.0  0.0   0.0       0.0  \n",
       "\n",
       "[5 rows x 157 columns]"
      ]
     },
     "metadata": {},
     "output_type": "display_data"
    }
   ],
   "source": [
    "display(df.head())\n",
    "display(df.tail())"
   ]
  },
  {
   "cell_type": "markdown",
   "metadata": {},
   "source": [
    "## Transforming Prognosis to Doctor Type"
   ]
  },
  {
   "cell_type": "code",
   "execution_count": 25,
   "metadata": {},
   "outputs": [
    {
     "name": "stdout",
     "output_type": "stream",
     "text": [
      "['Fungal infection', 'Allergy', 'GERD', 'Chronic cholestasis', 'Drug Reaction', 'Peptic ulcer diseae', 'AIDS', 'Diabetes ', 'Gastroenteritis', 'Bronchial Asthma', 'Hypertension ', 'Migraine', 'Cervical spondylosis', 'Paralysis (brain hemorrhage)', 'Jaundice', 'Malaria', 'Chicken pox', 'Dengue', 'Typhoid', 'hepatitis A', 'Hepatitis B', 'Hepatitis C', 'Hepatitis D', 'Hepatitis E', 'Alcoholic hepatitis', 'Tuberculosis', 'Common Cold', 'Pneumonia', 'Dimorphic hemmorhoids(piles)', 'Heart attack', 'Varicose veins', 'Hypothyroidism', 'Hyperthyroidism', 'Hypoglycemia', 'Osteoarthristis', 'Arthritis', '(vertigo) Paroymsal  Positional Vertigo', 'Acne', 'Urinary tract infection', 'Psoriasis', 'Impetigo', 'dentist', 'neuroloigist', 'psychologist', 'ophthalmologist', 'Pediatrician']\n"
     ]
    },
    {
     "data": {
      "text/plain": [
       "46"
      ]
     },
     "execution_count": 25,
     "metadata": {},
     "output_type": "execute_result"
    }
   ],
   "source": [
    "d=list(df[\"prognosis\"].unique())\n",
    "print(d)\n",
    "len(d)"
   ]
  },
  {
   "cell_type": "code",
   "execution_count": 26,
   "metadata": {},
   "outputs": [
    {
     "data": {
      "text/plain": [
       "46"
      ]
     },
     "execution_count": 26,
     "metadata": {},
     "output_type": "execute_result"
    }
   ],
   "source": [
    "c=[2,1,3,3,1,\n",
    "   3,1,11,3,5,\n",
    "   6,1,7,8,3,1,\n",
    "   1,1,1,3,3,3\n",
    "   ,3,3,3,5,1,5,\n",
    "   1,6,1,4,4,4,\n",
    "   7,7,9,2,10,2,2,13,8,12,14,15]\n",
    "len(c)"
   ]
  },
  {
   "cell_type": "code",
   "execution_count": 27,
   "metadata": {},
   "outputs": [],
   "source": [
    "mapper={\n",
    "    'general':1,\n",
    "    'dermatoligist':2,\n",
    "    'gastroentolist':3,\n",
    "    'endocrinologist':4,\n",
    "    'pulmonologist':5,\n",
    "    'cardiologist':6,\n",
    "    'orthopedist':7,\n",
    "    'neurologist':8,\n",
    "    'ENT':9,\n",
    "    'urologist':10,\n",
    "    \"diabetics dep\":11,\n",
    "    \"psychologist\":12,\n",
    "    \"dentist\":13,\n",
    "    14:\"ophthalmologist\",\n",
    "15:\"pediatrician\"}\n",
    "\n",
    "invmap={1: 'general',\n",
    " 2: 'dermatoligist',\n",
    " 3: 'gastroentolist',\n",
    " 4: 'endocrinologist',\n",
    " 5: 'pulmonologist',\n",
    " 6: 'cardiologist',\n",
    " 7: 'orthopedist',\n",
    " 8: 'neurologist',\n",
    " 9: 'ENT',\n",
    " 10: 'urologist',\n",
    " 11: 'diabetics dep',\n",
    " 12:\"psychologist\",\n",
    " 13:\"dentist\",\n",
    "14:\"ophthalmologist\",\n",
    "15:\"pediatrician\"}"
   ]
  },
  {
   "cell_type": "code",
   "execution_count": 28,
   "metadata": {},
   "outputs": [
    {
     "name": "stdout",
     "output_type": "stream",
     "text": [
      "Fungal infection for 2 for dermatoligist\n",
      "Allergy for 1 for general\n",
      "GERD for 3 for gastroentolist\n",
      "Chronic cholestasis for 3 for gastroentolist\n",
      "Drug Reaction for 1 for general\n",
      "Peptic ulcer diseae for 3 for gastroentolist\n",
      "AIDS for 1 for general\n",
      "Diabetes  for 11 for diabetics dep\n",
      "Gastroenteritis for 3 for gastroentolist\n",
      "Bronchial Asthma for 5 for pulmonologist\n",
      "Hypertension  for 6 for cardiologist\n",
      "Migraine for 1 for general\n",
      "Cervical spondylosis for 7 for orthopedist\n",
      "Paralysis (brain hemorrhage) for 8 for neurologist\n",
      "Jaundice for 3 for gastroentolist\n",
      "Malaria for 1 for general\n",
      "Chicken pox for 1 for general\n",
      "Dengue for 1 for general\n",
      "Typhoid for 1 for general\n",
      "hepatitis A for 3 for gastroentolist\n",
      "Hepatitis B for 3 for gastroentolist\n",
      "Hepatitis C for 3 for gastroentolist\n",
      "Hepatitis D for 3 for gastroentolist\n",
      "Hepatitis E for 3 for gastroentolist\n",
      "Alcoholic hepatitis for 3 for gastroentolist\n",
      "Tuberculosis for 5 for pulmonologist\n",
      "Common Cold for 1 for general\n",
      "Pneumonia for 5 for pulmonologist\n",
      "Dimorphic hemmorhoids(piles) for 1 for general\n",
      "Heart attack for 6 for cardiologist\n",
      "Varicose veins for 1 for general\n",
      "Hypothyroidism for 4 for endocrinologist\n",
      "Hyperthyroidism for 4 for endocrinologist\n",
      "Hypoglycemia for 4 for endocrinologist\n",
      "Osteoarthristis for 7 for orthopedist\n",
      "Arthritis for 7 for orthopedist\n",
      "(vertigo) Paroymsal  Positional Vertigo for 9 for ENT\n",
      "Acne for 2 for dermatoligist\n",
      "Urinary tract infection for 10 for urologist\n",
      "Psoriasis for 2 for dermatoligist\n",
      "Impetigo for 2 for dermatoligist\n",
      "dentist for 13 for dentist\n",
      "neuroloigist for 8 for neurologist\n",
      "psychologist for 12 for psychologist\n",
      "ophthalmologist for 14 for ophthalmologist\n",
      "Pediatrician for 15 for pediatrician\n"
     ]
    }
   ],
   "source": [
    "for i in range(46):\n",
    "    print(\"{} for {} for {}\".format(d[i],c[i],invmap[c[i]]))"
   ]
  },
  {
   "cell_type": "code",
   "execution_count": 29,
   "metadata": {},
   "outputs": [
    {
     "data": {
      "text/plain": [
       "268    1.0\n",
       "269    1.0\n",
       "270    1.0\n",
       "271    1.0\n",
       "272    1.0\n",
       "273    1.0\n",
       "Name: joint pain, dtype: float64"
      ]
     },
     "execution_count": 29,
     "metadata": {},
     "output_type": "execute_result"
    }
   ],
   "source": [
    "df[df[\"prognosis\"]==\"Arthritis\"][\"joint pain\"]"
   ]
  },
  {
   "cell_type": "code",
   "execution_count": 30,
   "metadata": {},
   "outputs": [
    {
     "name": "stdout",
     "output_type": "stream",
     "text": [
      "0 times 0 \n",
      "11 times 1 \n",
      "4 times 2 \n",
      "11 times 3 \n",
      "3 times 4 \n",
      "3 times 5 \n",
      "2 times 6 \n",
      "3 times 7 \n",
      "2 times 8 \n",
      "1 times 9 \n",
      "1 times 10 \n",
      "1 times 11 \n",
      "1 times 12 \n",
      "1 times 13 \n",
      "1 times 14 \n"
     ]
    }
   ],
   "source": [
    "for i in range (15):\n",
    "    print(\"{} times {} \".format(c.count(i),i))"
   ]
  },
  {
   "cell_type": "code",
   "execution_count": 31,
   "metadata": {},
   "outputs": [],
   "source": [
    "trans={key: c[d.index(key)] for key in d}    #Working"
   ]
  },
  {
   "cell_type": "code",
   "execution_count": 32,
   "metadata": {},
   "outputs": [
    {
     "data": {
      "text/plain": [
       "2"
      ]
     },
     "execution_count": 32,
     "metadata": {},
     "output_type": "execute_result"
    }
   ],
   "source": [
    "c[d.index(\"Acne\")]  ##Checking"
   ]
  },
  {
   "cell_type": "code",
   "execution_count": 33,
   "metadata": {},
   "outputs": [
    {
     "data": {
      "text/plain": [
       "{'Fungal infection': 2,\n",
       " 'Allergy': 1,\n",
       " 'GERD': 3,\n",
       " 'Chronic cholestasis': 3,\n",
       " 'Drug Reaction': 1,\n",
       " 'Peptic ulcer diseae': 3,\n",
       " 'AIDS': 1,\n",
       " 'Diabetes ': 11,\n",
       " 'Gastroenteritis': 3,\n",
       " 'Bronchial Asthma': 5,\n",
       " 'Hypertension ': 6,\n",
       " 'Migraine': 1,\n",
       " 'Cervical spondylosis': 7,\n",
       " 'Paralysis (brain hemorrhage)': 8,\n",
       " 'Jaundice': 3,\n",
       " 'Malaria': 1,\n",
       " 'Chicken pox': 1,\n",
       " 'Dengue': 1,\n",
       " 'Typhoid': 1,\n",
       " 'hepatitis A': 3,\n",
       " 'Hepatitis B': 3,\n",
       " 'Hepatitis C': 3,\n",
       " 'Hepatitis D': 3,\n",
       " 'Hepatitis E': 3,\n",
       " 'Alcoholic hepatitis': 3,\n",
       " 'Tuberculosis': 5,\n",
       " 'Common Cold': 1,\n",
       " 'Pneumonia': 5,\n",
       " 'Dimorphic hemmorhoids(piles)': 1,\n",
       " 'Heart attack': 6,\n",
       " 'Varicose veins': 1,\n",
       " 'Hypothyroidism': 4,\n",
       " 'Hyperthyroidism': 4,\n",
       " 'Hypoglycemia': 4,\n",
       " 'Osteoarthristis': 7,\n",
       " 'Arthritis': 7,\n",
       " '(vertigo) Paroymsal  Positional Vertigo': 9,\n",
       " 'Acne': 2,\n",
       " 'Urinary tract infection': 10,\n",
       " 'Psoriasis': 2,\n",
       " 'Impetigo': 2,\n",
       " 'dentist': 13,\n",
       " 'neuroloigist': 8,\n",
       " 'psychologist': 12,\n",
       " 'ophthalmologist': 14,\n",
       " 'Pediatrician': 15}"
      ]
     },
     "execution_count": 33,
     "metadata": {},
     "output_type": "execute_result"
    }
   ],
   "source": [
    "trans # Mapping Done"
   ]
  },
  {
   "cell_type": "code",
   "execution_count": 34,
   "metadata": {},
   "outputs": [],
   "source": [
    "df[\"prognosis\"]=df[\"prognosis\"].map(trans)"
   ]
  },
  {
   "cell_type": "code",
   "execution_count": 35,
   "metadata": {},
   "outputs": [
    {
     "data": {
      "text/plain": [
       "0       2\n",
       "1       2\n",
       "2       2\n",
       "3       2\n",
       "4       2\n",
       "       ..\n",
       "398    10\n",
       "399    10\n",
       "400     9\n",
       "401     9\n",
       "402     9\n",
       "Name: prognosis, Length: 403, dtype: int64"
      ]
     },
     "execution_count": 35,
     "metadata": {},
     "output_type": "execute_result"
    }
   ],
   "source": [
    "df[\"prognosis\"]"
   ]
  },
  {
   "cell_type": "code",
   "execution_count": 36,
   "metadata": {},
   "outputs": [
    {
     "data": {
      "text/plain": [
       "1     97\n",
       "3     88\n",
       "4     33\n",
       "2     26\n",
       "5     25\n",
       "6     23\n",
       "7     19\n",
       "11    14\n",
       "14    12\n",
       "13    12\n",
       "8     12\n",
       "15    11\n",
       "10    11\n",
       "12    10\n",
       "9     10\n",
       "Name: prognosis, dtype: int64"
      ]
     },
     "execution_count": 36,
     "metadata": {},
     "output_type": "execute_result"
    }
   ],
   "source": [
    "df[\"prognosis\"].value_counts()"
   ]
  },
  {
   "cell_type": "code",
   "execution_count": 37,
   "metadata": {},
   "outputs": [
    {
     "data": {
      "text/plain": [
       "{1: 'general',\n",
       " 2: 'dermatoligist',\n",
       " 3: 'gastroentolist',\n",
       " 4: 'endocrinologist',\n",
       " 5: 'pulmonologist',\n",
       " 6: 'cardiologist',\n",
       " 7: 'orthopedist',\n",
       " 8: 'neurologist',\n",
       " 9: 'ENT',\n",
       " 10: 'urologist',\n",
       " 11: 'diabetics dep',\n",
       " 12: 'psychologist',\n",
       " 13: 'dentist',\n",
       " 14: 'ophthalmologist',\n",
       " 15: 'pediatrician'}"
      ]
     },
     "execution_count": 37,
     "metadata": {},
     "output_type": "execute_result"
    }
   ],
   "source": [
    "invmap"
   ]
  },
  {
   "cell_type": "code",
   "execution_count": 38,
   "metadata": {},
   "outputs": [],
   "source": [
    "df.loc[df.prognosis == 5, 'wheezing'] = 1\n",
    "df.loc[df.prognosis == 11, 'frequent urination'] = 1\n"
   ]
  },
  {
   "cell_type": "code",
   "execution_count": 39,
   "metadata": {},
   "outputs": [
    {
     "data": {
      "text/plain": [
       "1.0    13\n",
       "0.0     6\n",
       "Name: joint pain, dtype: int64"
      ]
     },
     "execution_count": 39,
     "metadata": {},
     "output_type": "execute_result"
    }
   ],
   "source": [
    "df.loc[df.prognosis==7,\"joint pain\"].value_counts()"
   ]
  },
  {
   "cell_type": "code",
   "execution_count": 40,
   "metadata": {},
   "outputs": [],
   "source": [
    "##Deleting Urologist,Virologist,ENT,pediatrc"
   ]
  },
  {
   "cell_type": "code",
   "execution_count": 41,
   "metadata": {},
   "outputs": [
    {
     "name": "stdout",
     "output_type": "stream",
     "text": [
      "['itching', 'rash', 'nodal skin eruptions', 'continuous sneezing', 'shivering', 'chills', 'joint pain', 'acidity', 'ulcers on tongue', 'muscle wasting', 'vomiting', 'burning micturition', 'spotting  urination', 'fatigue', 'weight gain', 'anxiety', 'cold hands and feets', 'mood swings', 'weight loss', 'restlessness', 'lethargy', 'patches in throat', 'irregular sugar level', 'cough', 'high fever', 'sunken eyes', 'breathlessness', 'sweating', 'dehydration', 'indigestion', 'headache', 'yellowish skin', 'dark urine', 'nausea', 'loss of appetite', 'pain behind the eyes', 'back pain', 'constipation', 'abdominal pain', 'diarrhoea', 'fever', 'yellow urine', 'yellowing of eyes', 'acute liver failure', 'fluid overload', 'swelling of stomach', 'swelled lymph nodes', 'malaise', 'blurred and distorted vision', 'phlegm', 'throat pain', 'redness of eyes', 'sinus pressure', 'runny nose', 'congestion', 'chest pain', 'weakness in limbs', 'fast heart rate', 'pain during bowel movements', 'pain in anal region', 'bloody stool', 'irritation in anus', 'neck pain', 'dizziness', 'cramps', 'bruising', 'obesity', 'swollen legs', 'swollen blood vessels', 'puffy face and eyes', 'enlarged thyroid', 'brittle nails', 'swollen extremeties', 'hunger', 'extra marital contacts', 'drying and tingling lips', 'slurred speech', 'knee pain', 'hip joint pain', 'muscle weakness', 'stiff neck', 'swelling joints', 'movement stiffness', 'spinning movements', 'loss of balance', 'unsteadiness', 'weakness of one body side', 'loss of smell', 'bladder discomfort', 'foul smell of urine', 'continuous feel of urine', 'passage of gases', 'internal itching', 'toxic look (typhos)', 'depression', 'irritability', 'muscle pain', 'altered sensorium', 'red spots over body', 'belly pain', 'abnormal menstruation', 'dischromic  patches', 'watering from eyes', 'increased appetite', 'polyuria', 'family history', 'mucoid sputum', 'rusty sputum', 'lack of concentration', 'visual disturbances', 'receiving blood transfusion', 'receiving unsterile injections', 'coma', 'stomach bleeding', 'distention of abdomen', 'history of alcohol consumption', 'fluid overload.1', 'blood in sputum', 'prominent veins on calf', 'palpitations', 'painful walking', 'pus filled pimples', 'blackheads', 'scurring', 'skin peeling', 'silver like dusting', 'small dents in nails', 'inflammatory nails', 'blister', 'red sore around nose', 'yellow crust ooze', 'prognosis', 'arm pain', '', 'painlessness', 'cavity', 'oral pain', 'toothache', 'fits', 'mental confusion', 'paralaysis', 'seizure', 'sucidal thoughts', 'bumps', 'rashes', 'tiredness', 'stomach pain', 'shoulder pain', 'head ache', 'mild fever', 'eye pain', 'less vision', 'red eye', 'child', 'kid', 'baby', 'ear pain', 'wheezing', 'frequent urination']\n"
     ]
    }
   ],
   "source": [
    "print(list(df.columns))"
   ]
  },
  {
   "cell_type": "code",
   "execution_count": null,
   "metadata": {},
   "outputs": [],
   "source": []
  },
  {
   "cell_type": "code",
   "execution_count": 42,
   "metadata": {},
   "outputs": [],
   "source": [
    "df.fillna(0,inplace=True)"
   ]
  },
  {
   "cell_type": "code",
   "execution_count": 43,
   "metadata": {},
   "outputs": [
    {
     "data": {
      "text/html": [
       "<div>\n",
       "<style scoped>\n",
       "    .dataframe tbody tr th:only-of-type {\n",
       "        vertical-align: middle;\n",
       "    }\n",
       "\n",
       "    .dataframe tbody tr th {\n",
       "        vertical-align: top;\n",
       "    }\n",
       "\n",
       "    .dataframe thead th {\n",
       "        text-align: right;\n",
       "    }\n",
       "</style>\n",
       "<table border=\"1\" class=\"dataframe\">\n",
       "  <thead>\n",
       "    <tr style=\"text-align: right;\">\n",
       "      <th></th>\n",
       "      <th>itching</th>\n",
       "      <th>rash</th>\n",
       "      <th>nodal skin eruptions</th>\n",
       "      <th>continuous sneezing</th>\n",
       "      <th>shivering</th>\n",
       "      <th>chills</th>\n",
       "      <th>joint pain</th>\n",
       "      <th>acidity</th>\n",
       "      <th>ulcers on tongue</th>\n",
       "      <th>muscle wasting</th>\n",
       "      <th>...</th>\n",
       "      <th>mild fever</th>\n",
       "      <th>eye pain</th>\n",
       "      <th>less vision</th>\n",
       "      <th>red eye</th>\n",
       "      <th>child</th>\n",
       "      <th>kid</th>\n",
       "      <th>baby</th>\n",
       "      <th>ear pain</th>\n",
       "      <th>wheezing</th>\n",
       "      <th>frequent urination</th>\n",
       "    </tr>\n",
       "  </thead>\n",
       "  <tbody>\n",
       "    <tr>\n",
       "      <th>398</th>\n",
       "      <td>0.0</td>\n",
       "      <td>0.0</td>\n",
       "      <td>0.0</td>\n",
       "      <td>0.0</td>\n",
       "      <td>0.0</td>\n",
       "      <td>0.0</td>\n",
       "      <td>0.0</td>\n",
       "      <td>0.0</td>\n",
       "      <td>0.0</td>\n",
       "      <td>0.0</td>\n",
       "      <td>...</td>\n",
       "      <td>0.0</td>\n",
       "      <td>0.0</td>\n",
       "      <td>0.0</td>\n",
       "      <td>0.0</td>\n",
       "      <td>0.0</td>\n",
       "      <td>0.0</td>\n",
       "      <td>0.0</td>\n",
       "      <td>0.0</td>\n",
       "      <td>0.0</td>\n",
       "      <td>0.0</td>\n",
       "    </tr>\n",
       "    <tr>\n",
       "      <th>399</th>\n",
       "      <td>0.0</td>\n",
       "      <td>0.0</td>\n",
       "      <td>0.0</td>\n",
       "      <td>0.0</td>\n",
       "      <td>0.0</td>\n",
       "      <td>0.0</td>\n",
       "      <td>0.0</td>\n",
       "      <td>0.0</td>\n",
       "      <td>0.0</td>\n",
       "      <td>0.0</td>\n",
       "      <td>...</td>\n",
       "      <td>0.0</td>\n",
       "      <td>0.0</td>\n",
       "      <td>0.0</td>\n",
       "      <td>0.0</td>\n",
       "      <td>0.0</td>\n",
       "      <td>0.0</td>\n",
       "      <td>0.0</td>\n",
       "      <td>0.0</td>\n",
       "      <td>0.0</td>\n",
       "      <td>0.0</td>\n",
       "    </tr>\n",
       "    <tr>\n",
       "      <th>400</th>\n",
       "      <td>0.0</td>\n",
       "      <td>0.0</td>\n",
       "      <td>0.0</td>\n",
       "      <td>0.0</td>\n",
       "      <td>0.0</td>\n",
       "      <td>0.0</td>\n",
       "      <td>0.0</td>\n",
       "      <td>0.0</td>\n",
       "      <td>0.0</td>\n",
       "      <td>0.0</td>\n",
       "      <td>...</td>\n",
       "      <td>0.0</td>\n",
       "      <td>0.0</td>\n",
       "      <td>0.0</td>\n",
       "      <td>0.0</td>\n",
       "      <td>0.0</td>\n",
       "      <td>0.0</td>\n",
       "      <td>0.0</td>\n",
       "      <td>1.0</td>\n",
       "      <td>0.0</td>\n",
       "      <td>0.0</td>\n",
       "    </tr>\n",
       "    <tr>\n",
       "      <th>401</th>\n",
       "      <td>0.0</td>\n",
       "      <td>0.0</td>\n",
       "      <td>0.0</td>\n",
       "      <td>0.0</td>\n",
       "      <td>0.0</td>\n",
       "      <td>0.0</td>\n",
       "      <td>0.0</td>\n",
       "      <td>0.0</td>\n",
       "      <td>0.0</td>\n",
       "      <td>0.0</td>\n",
       "      <td>...</td>\n",
       "      <td>0.0</td>\n",
       "      <td>0.0</td>\n",
       "      <td>0.0</td>\n",
       "      <td>0.0</td>\n",
       "      <td>0.0</td>\n",
       "      <td>0.0</td>\n",
       "      <td>0.0</td>\n",
       "      <td>1.0</td>\n",
       "      <td>0.0</td>\n",
       "      <td>0.0</td>\n",
       "    </tr>\n",
       "    <tr>\n",
       "      <th>402</th>\n",
       "      <td>0.0</td>\n",
       "      <td>0.0</td>\n",
       "      <td>0.0</td>\n",
       "      <td>0.0</td>\n",
       "      <td>0.0</td>\n",
       "      <td>0.0</td>\n",
       "      <td>0.0</td>\n",
       "      <td>0.0</td>\n",
       "      <td>0.0</td>\n",
       "      <td>0.0</td>\n",
       "      <td>...</td>\n",
       "      <td>0.0</td>\n",
       "      <td>0.0</td>\n",
       "      <td>0.0</td>\n",
       "      <td>0.0</td>\n",
       "      <td>0.0</td>\n",
       "      <td>0.0</td>\n",
       "      <td>0.0</td>\n",
       "      <td>0.0</td>\n",
       "      <td>0.0</td>\n",
       "      <td>0.0</td>\n",
       "    </tr>\n",
       "  </tbody>\n",
       "</table>\n",
       "<p>5 rows × 159 columns</p>\n",
       "</div>"
      ],
      "text/plain": [
       "     itching  rash  nodal skin eruptions  continuous sneezing  shivering  \\\n",
       "398      0.0   0.0                   0.0                  0.0        0.0   \n",
       "399      0.0   0.0                   0.0                  0.0        0.0   \n",
       "400      0.0   0.0                   0.0                  0.0        0.0   \n",
       "401      0.0   0.0                   0.0                  0.0        0.0   \n",
       "402      0.0   0.0                   0.0                  0.0        0.0   \n",
       "\n",
       "     chills  joint pain  acidity  ulcers on tongue  muscle wasting  ...  \\\n",
       "398     0.0         0.0      0.0               0.0             0.0  ...   \n",
       "399     0.0         0.0      0.0               0.0             0.0  ...   \n",
       "400     0.0         0.0      0.0               0.0             0.0  ...   \n",
       "401     0.0         0.0      0.0               0.0             0.0  ...   \n",
       "402     0.0         0.0      0.0               0.0             0.0  ...   \n",
       "\n",
       "     mild fever  eye pain  less vision  red eye  child  kid  baby  ear pain  \\\n",
       "398         0.0       0.0          0.0      0.0    0.0  0.0   0.0       0.0   \n",
       "399         0.0       0.0          0.0      0.0    0.0  0.0   0.0       0.0   \n",
       "400         0.0       0.0          0.0      0.0    0.0  0.0   0.0       1.0   \n",
       "401         0.0       0.0          0.0      0.0    0.0  0.0   0.0       1.0   \n",
       "402         0.0       0.0          0.0      0.0    0.0  0.0   0.0       0.0   \n",
       "\n",
       "     wheezing  frequent urination  \n",
       "398       0.0                 0.0  \n",
       "399       0.0                 0.0  \n",
       "400       0.0                 0.0  \n",
       "401       0.0                 0.0  \n",
       "402       0.0                 0.0  \n",
       "\n",
       "[5 rows x 159 columns]"
      ]
     },
     "execution_count": 43,
     "metadata": {},
     "output_type": "execute_result"
    }
   ],
   "source": [
    "df.tail()"
   ]
  },
  {
   "cell_type": "code",
   "execution_count": 44,
   "metadata": {},
   "outputs": [],
   "source": [
    "df.rename(columns={\"prognosis\":\"department\"},inplace=True)\n",
    "df[[\"1\",\"2\",\"3\",\"4\",\"5\",\"6\",\"7\",\"8\",\"9\",\"10\",\"11\",\"12\",\"13\",\"14\",\"15\"]]=pd.get_dummies(data=df[\"department\"])"
   ]
  },
  {
   "cell_type": "code",
   "execution_count": 45,
   "metadata": {},
   "outputs": [],
   "source": [
    "df.to_csv('cleaned_data.csv') "
   ]
  },
  {
   "cell_type": "code",
   "execution_count": 46,
   "metadata": {},
   "outputs": [
    {
     "name": "stdout",
     "output_type": "stream",
     "text": [
      "['itching', 'rash', 'nodal skin eruptions', 'continuous sneezing', 'shivering', 'chills', 'joint pain', 'acidity', 'ulcers on tongue', 'muscle wasting', 'vomiting', 'burning micturition', 'spotting  urination', 'fatigue', 'weight gain', 'anxiety', 'cold hands and feets', 'mood swings', 'weight loss', 'restlessness', 'lethargy', 'patches in throat', 'irregular sugar level', 'cough', 'high fever', 'sunken eyes', 'breathlessness', 'sweating', 'dehydration', 'indigestion', 'headache', 'yellowish skin', 'dark urine', 'nausea', 'loss of appetite', 'pain behind the eyes', 'back pain', 'constipation', 'abdominal pain', 'diarrhoea', 'fever', 'yellow urine', 'yellowing of eyes', 'acute liver failure', 'fluid overload', 'swelling of stomach', 'swelled lymph nodes', 'malaise', 'blurred and distorted vision', 'phlegm', 'throat pain', 'redness of eyes', 'sinus pressure', 'runny nose', 'congestion', 'chest pain', 'weakness in limbs', 'fast heart rate', 'pain during bowel movements', 'pain in anal region', 'bloody stool', 'irritation in anus', 'neck pain', 'dizziness', 'cramps', 'bruising', 'obesity', 'swollen legs', 'swollen blood vessels', 'puffy face and eyes', 'enlarged thyroid', 'brittle nails', 'swollen extremeties', 'hunger', 'extra marital contacts', 'drying and tingling lips', 'slurred speech', 'knee pain', 'hip joint pain', 'muscle weakness', 'stiff neck', 'swelling joints', 'movement stiffness', 'spinning movements', 'loss of balance', 'unsteadiness', 'weakness of one body side', 'loss of smell', 'bladder discomfort', 'foul smell of urine', 'continuous feel of urine', 'passage of gases', 'internal itching', 'toxic look (typhos)', 'depression', 'irritability', 'muscle pain', 'altered sensorium', 'red spots over body', 'belly pain', 'abnormal menstruation', 'dischromic  patches', 'watering from eyes', 'increased appetite', 'polyuria', 'family history', 'mucoid sputum', 'rusty sputum', 'lack of concentration', 'visual disturbances', 'receiving blood transfusion', 'receiving unsterile injections', 'coma', 'stomach bleeding', 'distention of abdomen', 'history of alcohol consumption', 'fluid overload.1', 'blood in sputum', 'prominent veins on calf', 'palpitations', 'painful walking', 'pus filled pimples', 'blackheads', 'scurring', 'skin peeling', 'silver like dusting', 'small dents in nails', 'inflammatory nails', 'blister', 'red sore around nose', 'yellow crust ooze', 'department', 'arm pain', '', 'painlessness', 'cavity', 'oral pain', 'toothache', 'fits', 'mental confusion', 'paralaysis', 'seizure', 'sucidal thoughts', 'bumps', 'rashes', 'tiredness', 'stomach pain', 'shoulder pain', 'head ache', 'mild fever', 'eye pain', 'less vision', 'red eye', 'child', 'kid', 'baby', 'ear pain', 'wheezing', 'frequent urination', '1', '2', '3', '4', '5', '6', '7', '8', '9', '10', '11', '12', '13', '14', '15']\n"
     ]
    }
   ],
   "source": [
    "print(list(df.columns))"
   ]
  },
  {
   "cell_type": "code",
   "execution_count": 47,
   "metadata": {},
   "outputs": [
    {
     "data": {
      "text/plain": [
       "174"
      ]
     },
     "execution_count": 47,
     "metadata": {},
     "output_type": "execute_result"
    }
   ],
   "source": [
    "len(df.columns)"
   ]
  },
  {
   "cell_type": "code",
   "execution_count": 48,
   "metadata": {},
   "outputs": [],
   "source": [
    "X_train, X_test, y_train, y_test = train_test_split(df.drop(labels=[\"department\",\"1\",\"2\",\"3\",\"4\",\"5\",\"6\",\"7\",\"8\",\"9\",\"10\",\"11\",\"12\",\"13\",\"14\",\"15\"],axis=1),df[[\"1\",\"2\",\"3\",\"4\",\"5\",\"6\",\"7\",\"8\",\"9\",\"10\",\"11\",\"12\",\"13\",\"14\",\"15\"]] , test_size=0.20, random_state=42)"
   ]
  },
  {
   "cell_type": "code",
   "execution_count": 49,
   "metadata": {},
   "outputs": [
    {
     "data": {
      "text/plain": [
       "158"
      ]
     },
     "execution_count": 49,
     "metadata": {},
     "output_type": "execute_result"
    }
   ],
   "source": [
    "len(X_train.columns)"
   ]
  },
  {
   "cell_type": "code",
   "execution_count": 50,
   "metadata": {},
   "outputs": [
    {
     "name": "stdout",
     "output_type": "stream",
     "text": [
      "['itching', 'rash', 'nodal skin eruptions', 'continuous sneezing', 'shivering', 'chills', 'joint pain', 'acidity', 'ulcers on tongue', 'muscle wasting', 'vomiting', 'burning micturition', 'spotting  urination', 'fatigue', 'weight gain', 'anxiety', 'cold hands and feets', 'mood swings', 'weight loss', 'restlessness', 'lethargy', 'patches in throat', 'irregular sugar level', 'cough', 'high fever', 'sunken eyes', 'breathlessness', 'sweating', 'dehydration', 'indigestion', 'headache', 'yellowish skin', 'dark urine', 'nausea', 'loss of appetite', 'pain behind the eyes', 'back pain', 'constipation', 'abdominal pain', 'diarrhoea', 'fever', 'yellow urine', 'yellowing of eyes', 'acute liver failure', 'fluid overload', 'swelling of stomach', 'swelled lymph nodes', 'malaise', 'blurred and distorted vision', 'phlegm', 'throat pain', 'redness of eyes', 'sinus pressure', 'runny nose', 'congestion', 'chest pain', 'weakness in limbs', 'fast heart rate', 'pain during bowel movements', 'pain in anal region', 'bloody stool', 'irritation in anus', 'neck pain', 'dizziness', 'cramps', 'bruising', 'obesity', 'swollen legs', 'swollen blood vessels', 'puffy face and eyes', 'enlarged thyroid', 'brittle nails', 'swollen extremeties', 'hunger', 'extra marital contacts', 'drying and tingling lips', 'slurred speech', 'knee pain', 'hip joint pain', 'muscle weakness', 'stiff neck', 'swelling joints', 'movement stiffness', 'spinning movements', 'loss of balance', 'unsteadiness', 'weakness of one body side', 'loss of smell', 'bladder discomfort', 'foul smell of urine', 'continuous feel of urine', 'passage of gases', 'internal itching', 'toxic look (typhos)', 'depression', 'irritability', 'muscle pain', 'altered sensorium', 'red spots over body', 'belly pain', 'abnormal menstruation', 'dischromic  patches', 'watering from eyes', 'increased appetite', 'polyuria', 'family history', 'mucoid sputum', 'rusty sputum', 'lack of concentration', 'visual disturbances', 'receiving blood transfusion', 'receiving unsterile injections', 'coma', 'stomach bleeding', 'distention of abdomen', 'history of alcohol consumption', 'fluid overload.1', 'blood in sputum', 'prominent veins on calf', 'palpitations', 'painful walking', 'pus filled pimples', 'blackheads', 'scurring', 'skin peeling', 'silver like dusting', 'small dents in nails', 'inflammatory nails', 'blister', 'red sore around nose', 'yellow crust ooze', 'arm pain', '', 'painlessness', 'cavity', 'oral pain', 'toothache', 'fits', 'mental confusion', 'paralaysis', 'seizure', 'sucidal thoughts', 'bumps', 'rashes', 'tiredness', 'stomach pain', 'shoulder pain', 'head ache', 'mild fever', 'eye pain', 'less vision', 'red eye', 'child', 'kid', 'baby', 'ear pain', 'wheezing', 'frequent urination']\n"
     ]
    }
   ],
   "source": [
    "print(list(X_train.columns))"
   ]
  },
  {
   "cell_type": "code",
   "execution_count": 54,
   "metadata": {},
   "outputs": [
    {
     "data": {
      "text/plain": [
       "RandomForestClassifier(criterion='entropy', n_estimators=11, random_state=42)"
      ]
     },
     "execution_count": 54,
     "metadata": {},
     "output_type": "execute_result"
    }
   ],
   "source": [
    "classifier = RandomForestClassifier(n_estimators = 11, criterion = 'entropy', random_state = 42)\n",
    "classifier.fit(X_train, y_train)"
   ]
  },
  {
   "cell_type": "code",
   "execution_count": 55,
   "metadata": {},
   "outputs": [
    {
     "data": {
      "text/plain": [
       "0.9259259259259259"
      ]
     },
     "execution_count": 55,
     "metadata": {},
     "output_type": "execute_result"
    }
   ],
   "source": [
    "classifier.score(X_test, y_test)"
   ]
  },
  {
   "cell_type": "code",
   "execution_count": 56,
   "metadata": {},
   "outputs": [],
   "source": [
    "pred=classifier.predict(X_test)"
   ]
  },
  {
   "cell_type": "code",
   "execution_count": 57,
   "metadata": {},
   "outputs": [
    {
     "ename": "NameError",
     "evalue": "name 'confusion_matrix' is not defined",
     "output_type": "error",
     "traceback": [
      "\u001b[1;31m---------------------------------------------------------------------------\u001b[0m",
      "\u001b[1;31mNameError\u001b[0m                                 Traceback (most recent call last)",
      "\u001b[1;32m<ipython-input-57-413620db1bca>\u001b[0m in \u001b[0;36m<module>\u001b[1;34m\u001b[0m\n\u001b[1;32m----> 1\u001b[1;33m confusion_matrix(\n\u001b[0m\u001b[0;32m      2\u001b[0m     y_test.values.argmax(axis=1), pred.argmax(axis=1))\n",
      "\u001b[1;31mNameError\u001b[0m: name 'confusion_matrix' is not defined"
     ]
    }
   ],
   "source": [
    "confusion_matrix(\n",
    "    y_test.values.argmax(axis=1), pred.argmax(axis=1))"
   ]
  },
  {
   "cell_type": "code",
   "execution_count": 58,
   "metadata": {},
   "outputs": [
    {
     "name": "stdout",
     "output_type": "stream",
     "text": [
      "Train on 322 samples, validate on 81 samples\n",
      "Epoch 1/15\n",
      "322/322 [==============================] - 1s 2ms/sample - loss: 2.6258 - accuracy: 0.1366 - val_loss: 2.4528 - val_accuracy: 0.4074\n",
      "Epoch 2/15\n",
      "322/322 [==============================] - 0s 112us/sample - loss: 2.3387 - accuracy: 0.4348 - val_loss: 2.2038 - val_accuracy: 0.5309\n",
      "Epoch 3/15\n",
      "322/322 [==============================] - 0s 112us/sample - loss: 2.0656 - accuracy: 0.5559 - val_loss: 1.9591 - val_accuracy: 0.5926\n",
      "Epoch 4/15\n",
      "322/322 [==============================] - 0s 112us/sample - loss: 1.8093 - accuracy: 0.6335 - val_loss: 1.7375 - val_accuracy: 0.6667\n",
      "Epoch 5/15\n",
      "322/322 [==============================] - 0s 137us/sample - loss: 1.5803 - accuracy: 0.7019 - val_loss: 1.5504 - val_accuracy: 0.6914\n",
      "Epoch 6/15\n",
      "322/322 [==============================] - 0s 121us/sample - loss: 1.3853 - accuracy: 0.7422 - val_loss: 1.3919 - val_accuracy: 0.7037\n",
      "Epoch 7/15\n",
      "322/322 [==============================] - 0s 124us/sample - loss: 1.2233 - accuracy: 0.7578 - val_loss: 1.2589 - val_accuracy: 0.7407\n",
      "Epoch 8/15\n",
      "322/322 [==============================] - 0s 109us/sample - loss: 1.0860 - accuracy: 0.7857 - val_loss: 1.1473 - val_accuracy: 0.7531\n",
      "Epoch 9/15\n",
      "322/322 [==============================] - 0s 112us/sample - loss: 0.9725 - accuracy: 0.8075 - val_loss: 1.0482 - val_accuracy: 0.7654\n",
      "Epoch 10/15\n",
      "322/322 [==============================] - 0s 112us/sample - loss: 0.8747 - accuracy: 0.8230 - val_loss: 0.9601 - val_accuracy: 0.7778\n",
      "Epoch 11/15\n",
      "322/322 [==============================] - 0s 115us/sample - loss: 0.7910 - accuracy: 0.8447 - val_loss: 0.8788 - val_accuracy: 0.7778\n",
      "Epoch 12/15\n",
      "322/322 [==============================] - 0s 112us/sample - loss: 0.7158 - accuracy: 0.8634 - val_loss: 0.8052 - val_accuracy: 0.8148\n",
      "Epoch 13/15\n",
      "322/322 [==============================] - 0s 102us/sample - loss: 0.6485 - accuracy: 0.8975 - val_loss: 0.7367 - val_accuracy: 0.8272\n",
      "Epoch 14/15\n",
      "322/322 [==============================] - 0s 106us/sample - loss: 0.5899 - accuracy: 0.9099 - val_loss: 0.6735 - val_accuracy: 0.8395\n",
      "Epoch 15/15\n",
      "322/322 [==============================] - 0s 112us/sample - loss: 0.5389 - accuracy: 0.9317 - val_loss: 0.6130 - val_accuracy: 0.8765\n"
     ]
    }
   ],
   "source": [
    "model1=Sequential()\n",
    "model1.add(Dense(100, kernel_initializer= \"glorot_uniform\", activation = \"relu\", input_dim = 158))\n",
    "model1.add(Dense(15, activation = \"softmax\"))\n",
    "model1.compile(optimizer = \"Adam\", loss =\"categorical_crossentropy\", metrics = [\"accuracy\"])\n",
    "history=model1.fit(X_train, y_train, epochs = 15,verbose=1,validation_data=[X_test,y_test])"
   ]
  },
  {
   "cell_type": "code",
   "execution_count": 59,
   "metadata": {},
   "outputs": [
    {
     "data": {
      "image/png": "[encoded data removed]",
      "text/plain": [
       "<Figure size 720x720 with 2 Axes>"
      ]
     },
     "metadata": {
      "needs_background": "light"
     },
     "output_type": "display_data"
    }
   ],
   "source": [
    "plt.figure(figsize=(10,10))\n",
    "plt.subplot(2,2,1)\n",
    "plt.plot(history.history['accuracy'])\n",
    "plt.plot(history.history['val_accuracy'])\n",
    "plt.title('model accuracy')\n",
    "plt.ylabel('accuracy')\n",
    "plt.xlabel('epoch')\n",
    "plt.legend(['train', 'test'], loc='upper left')\n",
    "\n",
    "plt.subplot(2,2,2)\n",
    "plt.plot(history.history['loss'])\n",
    "plt.plot(history.history['val_loss'])\n",
    "plt.title('model loss')\n",
    "plt.ylabel('loss')\n",
    "plt.xlabel('epoch')\n",
    "plt.legend(['train', 'test'], loc='upper left')\n",
    "plt.show()"
   ]
  },
  {
   "cell_type": "code",
   "execution_count": 60,
   "metadata": {},
   "outputs": [
    {
     "name": "stdout",
     "output_type": "stream",
     "text": [
      "Train on 322 samples, validate on 81 samples\n",
      "Epoch 1/10\n",
      "322/322 [==============================] - 1s 2ms/sample - loss: 2.6465 - accuracy: 0.1025 - val_loss: 2.5409 - val_accuracy: 0.2346\n",
      "Epoch 2/10\n",
      "322/322 [==============================] - 0s 134us/sample - loss: 2.4029 - accuracy: 0.3447 - val_loss: 2.3093 - val_accuracy: 0.3827\n",
      "Epoch 3/10\n",
      "322/322 [==============================] - 0s 121us/sample - loss: 2.1241 - accuracy: 0.4099 - val_loss: 2.0253 - val_accuracy: 0.3827\n",
      "Epoch 4/10\n",
      "322/322 [==============================] - 0s 106us/sample - loss: 1.8272 - accuracy: 0.4503 - val_loss: 1.7542 - val_accuracy: 0.4568\n",
      "Epoch 5/10\n",
      "322/322 [==============================] - 0s 121us/sample - loss: 1.5523 - accuracy: 0.5497 - val_loss: 1.5267 - val_accuracy: 0.5802\n",
      "Epoch 6/10\n",
      "322/322 [==============================] - 0s 155us/sample - loss: 1.3067 - accuracy: 0.6615 - val_loss: 1.3300 - val_accuracy: 0.7037\n",
      "Epoch 7/10\n",
      "322/322 [==============================] - 0s 127us/sample - loss: 1.1086 - accuracy: 0.7484 - val_loss: 1.1616 - val_accuracy: 0.7531\n",
      "Epoch 8/10\n",
      "322/322 [==============================] - 0s 118us/sample - loss: 0.9392 - accuracy: 0.8354 - val_loss: 1.0160 - val_accuracy: 0.8025\n",
      "Epoch 9/10\n",
      "322/322 [==============================] - 0s 118us/sample - loss: 0.7908 - accuracy: 0.8665 - val_loss: 0.8760 - val_accuracy: 0.8272\n",
      "Epoch 10/10\n",
      "322/322 [==============================] - 0s 121us/sample - loss: 0.6599 - accuracy: 0.9068 - val_loss: 0.7510 - val_accuracy: 0.8642\n"
     ]
    }
   ],
   "source": [
    "model2 = Sequential([\n",
    "    tf.keras.layers.Dense(128, kernel_initializer= \"GlorotNormal\", activation = \"relu\", input_dim = 158),\n",
    "    tf.keras.layers.Dense(32, activation = \"relu\"),\n",
    "    tf.keras.layers.Dense(15, activation='softmax')\n",
    "])                       ###Same Model Different type\n",
    "model2.compile(optimizer = \"Adam\", loss =\"categorical_crossentropy\", metrics = [\"accuracy\"])\n",
    "history=model2.fit(X_train, y_train, epochs = 10,verbose=1,validation_data=[X_test,y_test])"
   ]
  },
  {
   "cell_type": "code",
   "execution_count": 61,
   "metadata": {},
   "outputs": [
    {
     "name": "stdout",
     "output_type": "stream",
     "text": [
      "Train on 322 samples, validate on 81 samples\n",
      "Epoch 1/10\n",
      "322/322 [==============================] - 1s 2ms/sample - loss: 2.5981 - accuracy: 0.2174 - val_loss: 2.4141 - val_accuracy: 0.5185\n",
      "Epoch 2/10\n",
      "322/322 [==============================] - 0s 115us/sample - loss: 2.2704 - accuracy: 0.4224 - val_loss: 2.1112 - val_accuracy: 0.5062\n",
      "Epoch 3/10\n",
      "322/322 [==============================] - 0s 121us/sample - loss: 1.9403 - accuracy: 0.4379 - val_loss: 1.8030 - val_accuracy: 0.5062\n",
      "Epoch 4/10\n",
      "322/322 [==============================] - 0s 112us/sample - loss: 1.6352 - accuracy: 0.4534 - val_loss: 1.5472 - val_accuracy: 0.5309\n",
      "Epoch 5/10\n",
      "322/322 [==============================] - 0s 115us/sample - loss: 1.3863 - accuracy: 0.5342 - val_loss: 1.3559 - val_accuracy: 0.5926\n",
      "Epoch 6/10\n",
      "322/322 [==============================] - 0s 121us/sample - loss: 1.1698 - accuracy: 0.6863 - val_loss: 1.1934 - val_accuracy: 0.7037\n",
      "Epoch 7/10\n",
      "322/322 [==============================] - 0s 118us/sample - loss: 0.9865 - accuracy: 0.7702 - val_loss: 1.0377 - val_accuracy: 0.7160\n",
      "Epoch 8/10\n",
      "322/322 [==============================] - 0s 118us/sample - loss: 0.8300 - accuracy: 0.8075 - val_loss: 0.9027 - val_accuracy: 0.7160\n",
      "Epoch 9/10\n",
      "322/322 [==============================] - 0s 112us/sample - loss: 0.6928 - accuracy: 0.8323 - val_loss: 0.7849 - val_accuracy: 0.7778\n",
      "Epoch 10/10\n",
      "322/322 [==============================] - 0s 118us/sample - loss: 0.5768 - accuracy: 0.8634 - val_loss: 0.6734 - val_accuracy: 0.8395\n"
     ]
    }
   ],
   "source": [
    "model3 = Sequential([\n",
    "    tf.keras.layers.Dense(128, kernel_initializer= \"GlorotNormal\", activation = \"relu\", input_dim = 158),\n",
    "    tf.keras.layers.Dense(64, activation = \"relu\"),\n",
    "    tf.keras.layers.Dense(15, activation='softmax')\n",
    "])                       ###Same Model Different type\n",
    "model3.compile(optimizer = \"Adam\", loss =\"categorical_crossentropy\", metrics = [\"accuracy\"])\n",
    "history=model3.fit(X_train, y_train, epochs = 10,verbose=1,validation_data=[X_test,y_test])"
   ]
  },
  {
   "cell_type": "code",
   "execution_count": 62,
   "metadata": {},
   "outputs": [
    {
     "data": {
      "image/png": "[encoded data removed]",
      "text/plain": [
       "<Figure size 720x720 with 2 Axes>"
      ]
     },
     "metadata": {
      "needs_background": "light"
     },
     "output_type": "display_data"
    }
   ],
   "source": [
    "plt.figure(figsize=(10,10))\n",
    "plt.subplot(2,2,1)\n",
    "plt.plot(history.history['accuracy'])\n",
    "plt.plot(history.history['val_accuracy'])\n",
    "plt.title('model accuracy')\n",
    "plt.ylabel('accuracy')\n",
    "plt.xlabel('epoch')\n",
    "plt.legend(['train', 'test'], loc='upper left')\n",
    "\n",
    "plt.subplot(2,2,2)\n",
    "plt.plot(history.history['loss'])\n",
    "plt.plot(history.history['val_loss'])\n",
    "plt.title('model loss')\n",
    "plt.ylabel('loss')\n",
    "plt.xlabel('epoch')\n",
    "plt.legend(['train', 'test'], loc='upper left')\n",
    "plt.show()"
   ]
  },
  {
   "cell_type": "code",
   "execution_count": 63,
   "metadata": {},
   "outputs": [],
   "source": [
    "import pickle\n",
    "filename = 'model4rf.sav'\n",
    "filename2 = 'model5rf.sav'"
   ]
  },
  {
   "cell_type": "code",
   "execution_count": 64,
   "metadata": {},
   "outputs": [
    {
     "name": "stdout",
     "output_type": "stream",
     "text": [
      "WARNING:tensorflow:From C:\\Users\\soory\\.conda\\envs\\tensorflow\\lib\\site-packages\\tensorflow_core\\python\\ops\\resource_variable_ops.py:1786: calling BaseResourceVariable.__init__ (from tensorflow.python.ops.resource_variable_ops) with constraint is deprecated and will be removed in a future version.\n",
      "Instructions for updating:\n",
      "If using Keras pass *_constraint arguments to layers.\n",
      "INFO:tensorflow:Assets written to: my_model1\\assets\n",
      "INFO:tensorflow:Assets written to: my_model2\\assets\n",
      "INFO:tensorflow:Assets written to: my_model3\\assets\n"
     ]
    }
   ],
   "source": [
    "model1.save(\"my_model1\",save_format=\"tf\")\n",
    "model2.save(\"my_model2\",save_format=\"tf\")\n",
    "model3.save(\"my_model3\",save_format=\"tf\")\n",
    "pickle.dump(classifier, open(filename, 'wb'))\n"
   ]
  },
  {
   "cell_type": "markdown",
   "metadata": {},
   "source": [
    "## Stop HEre\n"
   ]
  },
  {
   "cell_type": "code",
   "execution_count": null,
   "metadata": {},
   "outputs": [],
   "source": [
    "input_sym=input(\"Enter your Symptoms seperated by comma ,If they are two words use (_)\")\n",
    "inp_sym=input_sym.split(sep=\",\")\n",
    "print(\"input_Symptoms parsed: \",inp_sym)\n",
    "raw_col=list(df.columns)\n",
    "symp_dict={key: 0 for key in raw_col}\n",
    "for i in inp_sym:\n",
    "        if i in raw_col:\n",
    "            symp_dict[i]=1\n",
    "        else:\n",
    "            for z in raw_col:\n",
    "                fuzz_score=fuzz.token_set_ratio(i,z)\n",
    "                if fuzz_score>70:\n",
    "                    symp_dict[z]=1\n",
    "    ##TESTING:\n",
    "for key,values in symp_dict.items():\n",
    "        if values==1:\n",
    "            print(key)"
   ]
  },
  {
   "cell_type": "code",
   "execution_count": null,
   "metadata": {},
   "outputs": [],
   "source": [
    "df_run=pd.DataFrame(symp_dict,index=[1])\n",
    "pred=model1.predict(df_run.drop(labels=[\"department\",\"1\",\"2\",\"3\",\"4\",\"5\",\"6\",\"7\",\"8\",\"9\",\"10\",\"11\",\"12\",\"13\",\"14\",\"15\",\"16\"],axis=1).head(1))"
   ]
  },
  {
   "cell_type": "code",
   "execution_count": null,
   "metadata": {},
   "outputs": [],
   "source": [
    "display(\"Prediction Raw Values : \",pred)  ##Testing"
   ]
  },
  {
   "cell_type": "code",
   "execution_count": null,
   "metadata": {},
   "outputs": [],
   "source": [
    "value=list(pred.argmax(axis=1))\n",
    "value"
   ]
  },
  {
   "cell_type": "code",
   "execution_count": null,
   "metadata": {},
   "outputs": [],
   "source": [
    " display(\"prediction Argmax : \",value[0])  ##Testing    \n",
    "print(\"You can book doctors under {} section\".format(invmap[value[0]+1]))"
   ]
  },
  {
   "cell_type": "code",
   "execution_count": null,
   "metadata": {},
   "outputs": [],
   "source": [
    "def doctorguide():\n",
    "    input_sym=input(\"Enter your Symptoms seperated by comma ,If they are two words use (_)\")\n",
    "    inp_sym=input_sym.split(sep=\",\")\n",
    "    print(\"input_Symptoms parsed: \",inp_sym)\n",
    "    raw_col=list(df.columns)\n",
    "    symp_dict={key: 0 for key in raw_col}\n",
    "    for i in inp_sym:\n",
    "        if i in raw_col:\n",
    "            symp_dict[i]=1\n",
    "        else:\n",
    "            for z in raw_col:\n",
    "                fuzz_score=fuzz.token_set_ratio(i,z)\n",
    "                if fuzz_score>70:\n",
    "                    symp_dict[z]=1\n",
    "    ##TESTING:\n",
    "    for key,values in symp_dict.items():\n",
    "        if values==1:\n",
    "            print(key)\n",
    "    df_run=pd.DataFrame(symp_dict,index=[1])\n",
    "    pred=model1.predict(df_run.drop(labels=[\"department\",\"1\",\"2\",\"3\",\"4\",\"5\",\"6\",\"7\",\"8\",\"9\",\"10\",\"11\",\"12\",\"13\",\"14\",\"15\",\"16\"],axis=1).head(1))\n",
    "    display(\"Prediction Raw Values : \",pred)  ##Testing\n",
    "    value=list(pred.argmax(axis=1))\n",
    "    display(\"prediction Argmax : \",value[0])  ##Testing    \n",
    "    print(\"You can book doctors under {} section\".format(invmap[value[0]+1]))"
   ]
  },
  {
   "cell_type": "code",
   "execution_count": null,
   "metadata": {},
   "outputs": [],
   "source": [
    "doctorguide()"
   ]
  },
  {
   "cell_type": "code",
   "execution_count": null,
   "metadata": {},
   "outputs": [],
   "source": [
    "def doctorguider_rf():\n",
    "    input_sym=input(\"Enter your Symptoms seperated by comma ,If they are two words use (_)\")\n",
    "    inp_sym=input_sym.split(sep=\",\")\n",
    "    print(\"input_Symptoms parsed: \",inp_sym)\n",
    "    raw_col=list(df.columns)\n",
    "    symp_dict={key: 0 for key in raw_col}\n",
    "    for i in inp_sym:\n",
    "        if i in raw_col:\n",
    "            symp_dict[i]=1\n",
    "        else:\n",
    "            for z in raw_col:\n",
    "                fuzz_score=fuzz.token_set_ratio(i,z)\n",
    "                if fuzz_score>70:\n",
    "                    symp_dict[z]=1\n",
    "    ##TESTING:\n",
    "    for key,values in symp_dict.items():\n",
    "        if values==1:\n",
    "            print(key)\n",
    "    df_run=pd.DataFrame(symp_dict,index=[1])\n",
    "    pred=classifier.predict(df_run.drop(labels=[\"department\",\"1\",\"2\",\"3\",\"4\",\"5\",\"6\",\"7\",\"8\",\"9\",\"10\",\"11\",\"12\",\"13\",\"14\",\"15\",\"16\"],axis=1).head(1))\n",
    "    display(\"Prediction Raw Values : \",pred)  ##Testing\n",
    "    value=list(pred.argmax(axis=1))\n",
    "    print(\"value:\",value)\n",
    "    display(\"prediction Argmax : \",value[0])  ##Testing    \n",
    "    print(\"You can book doctors under {} section\".format(invmap[value[0]+1]))"
   ]
  },
  {
   "cell_type": "code",
   "execution_count": null,
   "metadata": {},
   "outputs": [],
   "source": [
    "doctorguider_rf()"
   ]
  },
  {
   "cell_type": "code",
   "execution_count": null,
   "metadata": {},
   "outputs": [],
   "source": [
    "def doctorguide_lm():\n",
    "    input_sym=input(\"Enter your Symptoms seperated by comma ,If they are two words use (_)\")\n",
    "    inp_sym=input_sym.split(sep=\",\")\n",
    "    print(\"input_Symptoms parsed: \",inp_sym)\n",
    "    raw_col=list(df.columns)\n",
    "    symp_dict={key: 0 for key in raw_col}\n",
    "    for i in inp_sym:\n",
    "        if i in raw_col:\n",
    "            symp_dict[i]=1\n",
    "        else:\n",
    "            for z in raw_col:\n",
    "                fuzz_score=fuzz.token_set_ratio(i,z)\n",
    "                if fuzz_score>70:\n",
    "                    symp_dict[z]=1\n",
    "    ##TESTING:\n",
    "    for key,values in symp_dict.items():\n",
    "        if values==1:\n",
    "            print(key)\n",
    "    df_run=pd.DataFrame(symp_dict,index=[1])\n",
    "    ##model=tf.keras.models.load_model(\"my_modeltf\")\n",
    "    pred=model.predict(df_run.drop(labels=[\"department\",\"1\",\"2\",\"3\",\"4\",\"5\",\"6\",\"7\",\"8\",\"9\",\"10\",\"11\",\"12\",\"13\",\"14\"],axis=1).head(1))\n",
    "    display(\"Prediction Raw Values : \",pred)  ##Testing\n",
    "    value=list(pred.argmax(axis=1))\n",
    "    display(\"prediction Argmax : \",value[0])  ##Testing    \n",
    "    print(\"You can book doctors under {} section\".format(invmap[value[0]+1]))"
   ]
  },
  {
   "cell_type": "code",
   "execution_count": null,
   "metadata": {},
   "outputs": [],
   "source": [
    "#common cold=\n",
    "\"\"\"\n",
    "thyroid:constipation,tiredness ,weight_gain ##Done\n",
    "joint_pain #done\n",
    "chest_pain #done\n",
    "'joint_pain', 'muscle_weekness', 'tiredness'\n",
    "joint_pain,shoulder_pain\n",
    "##update jointpain=1 for orth\n",
    "mental_confusion ##done\n",
    "fits,paralaysis,seizure --neuroloigist  ##Done\n",
    "loss_of_smell,throat_pain,ear_pain,sinus\n",
    "toothache,cavity --dentist   ##Add many rows  ##Done\n",
    "\"\"\""
   ]
  },
  {
   "cell_type": "code",
   "execution_count": null,
   "metadata": {},
   "outputs": [],
   "source": []
  },
  {
   "cell_type": "code",
   "execution_count": null,
   "metadata": {},
   "outputs": [],
   "source": [
    "#df.rename(columns={\"mild_fever\": \"fever\", \"skin_rash\": \"rash\",\"excessive_hunger\":\"hunger\"})  #done\n",
    "           "
   ]
  },
  {
   "cell_type": "code",
   "execution_count": null,
   "metadata": {},
   "outputs": [],
   "source": [
    "#['fever', 'headache', 'body_pain'] :malaria  #i have to do"
   ]
  }
 ],
 "metadata": {
  "kernelspec": {
   "display_name": "Python 3",
   "language": "python",
   "name": "python3"
  },
  "language_info": {
   "codemirror_mode": {
    "name": "ipython",
    "version": 3
   },
   "file_extension": ".py",
   "mimetype": "text/x-python",
   "name": "python",
   "nbconvert_exporter": "python",
   "pygments_lexer": "ipython3",
   "version": "3.6.12"
  }
 },
 "nbformat": 4,
 "nbformat_minor": 4
}
