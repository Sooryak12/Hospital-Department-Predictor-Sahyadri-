{
 "cells": [
  {
   "cell_type": "code",
   "execution_count": 79,
   "metadata": {},
   "outputs": [],
   "source": [
    "import pandas as pd\n",
    "import numpy as np\n",
    "import matplotlib.pyplot as plt\n",
    "import seaborn as sns\n",
    "%matplotlib inline\n",
    "import tensorflow as tf\n",
    "import sklearn\n",
    "import  fuzzywuzzy.fuzz as fuzz\n",
    "from tensorflow.keras.layers import Dense\n",
    "from tensorflow.keras import Sequential\n",
    "from tensorflow.keras.optimizers import Adam\n",
    "from sklearn.model_selection import train_test_split"
   ]
  },
  {
   "cell_type": "code",
   "execution_count": 80,
   "metadata": {},
   "outputs": [],
   "source": [
    "from sklearn.metrics import confusion_matrix"
   ]
  },
  {
   "cell_type": "code",
   "execution_count": 81,
   "metadata": {},
   "outputs": [],
   "source": [
    "from sklearn.ensemble import RandomForestClassifier"
   ]
  },
  {
   "cell_type": "code",
   "execution_count": 82,
   "metadata": {},
   "outputs": [],
   "source": [
    "df=pd.read_csv(\"Training.csv\")"
   ]
  },
  {
   "cell_type": "code",
   "execution_count": 83,
   "metadata": {},
   "outputs": [],
   "source": [
    "df.drop_duplicates(inplace=True)\n",
    "df.rename(columns={\"mild_fever\": \"fever\", \"skin_rash\": \"rash\",\"excessive_hunger\":\"hunger\",\"throat_irritation\":\"throat pain\",\"stomach_pain\":1},inplace=True)\n",
    "df.rename(columns={\"mild_fever\": \"fever\", \"skin_rash\": \"rash\",\"excessive_hunger\":\"hunger\",\"throat_irritation\":\"throat pain\",\"stomach_pain\":1},inplace=True)"
   ]
  },
  {
   "cell_type": "code",
   "execution_count": 84,
   "metadata": {},
   "outputs": [],
   "source": [
    "df.columns = df.columns.str.replace('_', ' ')\n"
   ]
  },
  {
   "cell_type": "code",
   "execution_count": 85,
   "metadata": {},
   "outputs": [
    {
     "name": "stdout",
     "output_type": "stream",
     "text": [
      "['itching', 'rash', 'nodal skin eruptions', 'continuous sneezing', 'shivering', 'chills', 'joint pain', 'acidity', 'ulcers on tongue', 'muscle wasting', 'vomiting', 'burning micturition', 'spotting  urination', 'fatigue', 'weight gain', 'anxiety', 'cold hands and feets', 'mood swings', 'weight loss', 'restlessness', 'lethargy', 'patches in throat', 'irregular sugar level', 'cough', 'high fever', 'sunken eyes', 'breathlessness', 'sweating', 'dehydration', 'indigestion', 'headache', 'yellowish skin', 'dark urine', 'nausea', 'loss of appetite', 'pain behind the eyes', 'back pain', 'constipation', 'abdominal pain', 'diarrhoea', 'fever', 'yellow urine', 'yellowing of eyes', 'acute liver failure', 'fluid overload', 'swelling of stomach', 'swelled lymph nodes', 'malaise', 'blurred and distorted vision', 'phlegm', 'throat pain', 'redness of eyes', 'sinus pressure', 'runny nose', 'congestion', 'chest pain', 'weakness in limbs', 'fast heart rate', 'pain during bowel movements', 'pain in anal region', 'bloody stool', 'irritation in anus', 'neck pain', 'dizziness', 'cramps', 'bruising', 'obesity', 'swollen legs', 'swollen blood vessels', 'puffy face and eyes', 'enlarged thyroid', 'brittle nails', 'swollen extremeties', 'hunger', 'extra marital contacts', 'drying and tingling lips', 'slurred speech', 'knee pain', 'hip joint pain', 'muscle weakness', 'stiff neck', 'swelling joints', 'movement stiffness', 'spinning movements', 'loss of balance', 'unsteadiness', 'weakness of one body side', 'loss of smell', 'bladder discomfort', 'foul smell of urine', 'continuous feel of urine', 'passage of gases', 'internal itching', 'toxic look (typhos)', 'depression', 'irritability', 'muscle pain', 'altered sensorium', 'red spots over body', 'belly pain', 'abnormal menstruation', 'dischromic  patches', 'watering from eyes', 'increased appetite', 'polyuria', 'family history', 'mucoid sputum', 'rusty sputum', 'lack of concentration', 'visual disturbances', 'receiving blood transfusion', 'receiving unsterile injections', 'coma', 'stomach bleeding', 'distention of abdomen', 'history of alcohol consumption', 'fluid overload.1', 'blood in sputum', 'prominent veins on calf', 'palpitations', 'painful walking', 'pus filled pimples', 'blackheads', 'scurring', 'skin peeling', 'silver like dusting', 'small dents in nails', 'inflammatory nails', 'blister', 'red sore around nose', 'yellow crust ooze', 'prognosis']\n"
     ]
    }
   ],
   "source": [
    "df.drop(np.nan, axis=1, inplace=True)\n",
    "print(list(df.columns))"
   ]
  },
  {
   "cell_type": "code",
   "execution_count": 86,
   "metadata": {},
   "outputs": [
    {
     "data": {
      "text/plain": [
       "132"
      ]
     },
     "execution_count": 86,
     "metadata": {},
     "output_type": "execute_result"
    }
   ],
   "source": [
    "len(df.columns)"
   ]
  },
  {
   "cell_type": "code",
   "execution_count": 87,
   "metadata": {},
   "outputs": [],
   "source": [
    "for i in range(10):\n",
    " df = df.append({'prognosis' : 'Heart attack' , 'chest pain':1,'nausea':1,'neck pain':1,'arm pain':1,'breathlessness':1} , ignore_index=True)"
   ]
  },
  {
   "cell_type": "code",
   "execution_count": 88,
   "metadata": {},
   "outputs": [],
   "source": [
    "for i in range(10):\n",
    " df= df.append({'prognosis' : 'Heart attack' , 'chest pain':1} , ignore_index=True)\n",
    " df = df.append({'prognosis' : 'Common Cold' , 'cough':1,'headache':1} , ignore_index=True)\n",
    "\n",
    "#Diabetes\n",
    "\n",
    " df = df.append({'prognosis' : 'Diabetes ' , 'fatigue':1,'hunger':1,\"sweating\":1,'':1} , ignore_index=True)\n",
    " df = df.append({'prognosis' : 'Diabetes ' , 'fatigue':1,'hunger':1,\"sweating\":1,'':1,\"painlessness\":1} , ignore_index=True)\n",
    " df = df.append({'prognosis' : 'Diabetes ' ,'hunger':1,\"sweating\":1,'blurred and distorted vision':1,\"painlessness\":1} , ignore_index=True)\n",
    " df = df.append({'prognosis' : 'Diabetes ' ,'hunger':1,'blurred and distorted vision':1,\"painlessness\":1} , ignore_index=True)\n",
    " df = df.append({'prognosis' : 'Diabetes ' ,'fatigue':1,'hunger':1,'blurred and distorted vision':1} , ignore_index=True)\n"
   ]
  },
  {
   "cell_type": "code",
   "execution_count": 89,
   "metadata": {},
   "outputs": [
    {
     "data": {
      "text/plain": [
       "135"
      ]
     },
     "execution_count": 89,
     "metadata": {},
     "output_type": "execute_result"
    }
   ],
   "source": [
    "len(df.columns)"
   ]
  },
  {
   "cell_type": "code",
   "execution_count": 90,
   "metadata": {},
   "outputs": [],
   "source": [
    "#Dentist\n",
    "for i in range(10):\n",
    " df= df.append({'prognosis' : 'dentist' , 'toothache':1,\"cavity\":1,\"oral pain\":1} , ignore_index=True)\n",
    " df= df.append({'prognosis' : 'dentist' , 'toothache':1} , ignore_index=True)\n",
    " df= df.append({'prognosis' : 'dentist' , 'toothache':1,\"cavity\":1} , ignore_index=True)\n",
    " df= df.append({'prognosis' : 'dentist' , 'toothache':1,\"oral pain\":1} , ignore_index=True)\n",
    " df= df.append({'prognosis' : 'dentist' ,\"oral pain\":1} , ignore_index=True)\n",
    " df= df.append({'prognosis' : 'dentist' , 'toothache':1,\"oral pain\":1} , ignore_index=True)\n",
    " df= df.append({'prognosis' : 'dentist' , 'toothache':1,\"oral pain\":1,\"ulcers on tongue\":1} , ignore_index=True)\n",
    " df= df.append({'prognosis' : 'dentist' , 'toothache':1,\"ulcers on tongue\":1} , ignore_index=True)\n",
    " df= df.append({'prognosis' : 'dentist' , 'toothache':1,\"cavity\":1,\"oral pain\":1,\"ulcers on tongue\":1} , ignore_index=True)\n",
    " df= df.append({'prognosis' : 'dentist' , \"cavity\":1} , ignore_index=True)\n",
    " df= df.append({'prognosis' : 'dentist' , \"oral pain\":1,\"ulcers on tongue\":1} , ignore_index=True)\n",
    " df= df.append({'prognosis' : 'dentist' , \"ulcers on tongue\":1} , ignore_index=True)"
   ]
  },
  {
   "cell_type": "code",
   "execution_count": 91,
   "metadata": {},
   "outputs": [],
   "source": [
    "##Neurologist\n",
    "for i in range(10):\n",
    " df= df.append({'prognosis' : 'neuroloigist' , 'fits':1,\"paralaysis\":1,\"seizure\":1,\"mental confusion\":1} , ignore_index=True)\n",
    " df= df.append({'prognosis' : 'neuroloigist' , 'fits':1} , ignore_index=True)\n",
    " df= df.append({'prognosis' : 'neuroloigist' , 'fits':1,\"paralaysis\":1} , ignore_index=True)\n",
    " df= df.append({'prognosis' : 'neuroloigist' , 'fits':1,\"paralaysis\":1,\"seizure\":1} , ignore_index=True)\n",
    " df= df.append({'prognosis' : 'neuroloigist' , 'fits':1,\"paralaysis\":1,\"mental confusion\":1} , ignore_index=True)\n",
    " df= df.append({'prognosis' : 'neuroloigist' ,\"paralaysis\":1,\"seizure\":1,\"mental confusion\":1} , ignore_index=True)\n",
    " df= df.append({'prognosis' : 'neuroloigist' ,\"paralaysis\":1} , ignore_index=True)\n",
    "\n",
    "##Psycholoight\n",
    "\n",
    " df= df.append({'prognosis' : 'psychologist' , 'depression':1,\"anxiety\":1,\"sucidal thoughts\":1,\"mental confusion\":1} , ignore_index=True)\n",
    " df= df.append({'prognosis' : 'psychologist' , 'depression':1} , ignore_index=True)\n",
    " df= df.append({'prognosis' : 'psychologist' ,\"anxiety\":1,\"sucidal thoughts\":1,\"mental confusion\":1} , ignore_index=True)\n",
    " df= df.append({'prognosis' : 'psychologist' ,\"sucidal thoughts\":1} , ignore_index=True)\n",
    " df= df.append({'prognosis' : 'psychologist' ,'depression':1,\"sucidal thoughts\":1} , ignore_index=True)\n",
    " df= df.append({'prognosis' : 'psychologist' , 'depression':1,\"sucidal thoughts\":1,\"mental confusion\":1} , ignore_index=True)\n",
    " df= df.append({'prognosis' : 'psychologist' , 'depression':1,\"sucidal thoughts\":1,\"lack of concentration\":1} , ignore_index=True)\n",
    " df= df.append({'prognosis' : 'psychologist' , 'depression':1,\"lack of concentration\":1} , ignore_index=True)\n",
    " df= df.append({'prognosis' : 'psychologist' , \"sucidal thoughts\":1,\"mental confusion\":1} , ignore_index=True)\n",
    " df= df.append({'prognosis' : 'psychologist' ,'depression':1} , ignore_index=True)\n",
    "\n",
    "##Fungal\n",
    " df = df.append({'prognosis' : 'Fungal infection' , 'itching':1} , ignore_index=True)\n",
    " df = df.append({'prognosis' : 'Fungal infection' , 'itching':1,\"rashes\":1,\"bumps\":1} , ignore_index=True)\n",
    " df = df.append({'prognosis' : 'Fungal infection' , 'itching':1,\"rashes\":1} , ignore_index=True)\n",
    "\n",
    "##Thyroid\n",
    " df = df.append({'prognosis' : 'Hypothyroidism' , 'constipation':1,\"weight gain\":1,\"tiredness\":1,\"fatigue\":1} , ignore_index=True)\n",
    " df = df.append({'prognosis' : 'Hypothyroidism' , 'constipation':1} , ignore_index=True)\n",
    " df = df.append({'prognosis' : 'Hypothyroidism' , 'constipation':1,\"weight gain\":1} , ignore_index=True)\n",
    " df = df.append({'prognosis' : 'Hypothyroidism' , 'constipation':1,\"fatigue\":1} , ignore_index=True)\n",
    " df = df.append({'prognosis' : 'Hypothyroidism' , 'constipation':1,'stomach pain':1} , ignore_index=True)\n",
    " df = df.append({'prognosis' : 'Hypothyroidism' , 'constipation':1,\"vomiting\":1} , ignore_index=True)\n",
    " df = df.append({'prognosis' : 'Hypothyroidism' , 'stomach pain':1,\"vomiting\":1} , ignore_index=True)"
   ]
  },
  {
   "cell_type": "code",
   "execution_count": 92,
   "metadata": {},
   "outputs": [
    {
     "data": {
      "text/plain": [
       "147"
      ]
     },
     "execution_count": 92,
     "metadata": {},
     "output_type": "execute_result"
    }
   ],
   "source": [
    "len(df.columns)"
   ]
  },
  {
   "cell_type": "code",
   "execution_count": 93,
   "metadata": {},
   "outputs": [],
   "source": [
    "##Heart Attack\n",
    "for i in range(10):\n",
    " df= df.append({'prognosis' : 'Heart attack' , \"shoulder pain\":1,'chest pain':1,'nausea':1,'neck pain':1,'arm pain':1,'breathlessness':1} , ignore_index=True)\n",
    " df = df.append({'prognosis' : 'Heart attack' , 'chest pain':1,'neck pain':1,'arm pain':1,'breathlessness':1,\"dizziness\":1} , ignore_index=True)\n",
    " df = df.append({'prognosis' : 'Heart attack' , 'chest pain':1,'arm pain':1,'breathlessness':1,\"dizziness\":1,'fast heart rate':1} , ignore_index=True)\n",
    " df= df.append({'prognosis' : 'Heart attack' , 'chest pain':1,'arm pain':1,'breathlessness':1,\"dizziness\":1,'fast heart rate':1,\"sweating\":1} , ignore_index=True)\n",
    " df = df.append({'prognosis' : 'Heart attack' , 'chest pain':1,\"shoulder pain\":1,'arm pain':1,'breathlessness':1,'fast heart rate':1,\"sweating\":1} , ignore_index=True)\n",
    " df = df.append({'prognosis' : 'Heart attack' , 'chest pain':1,'arm pain':1,'breathlessness':1,\"sweating\":1} , ignore_index=True)\n",
    " df = df.append({'prognosis' : 'Heart attack' , 'chest pain':1,'arm pain':1,'breathlessness':1,\"sweating\":1,\"fatigue\":1} , ignore_index=True)\n",
    " df= df.append({'prognosis' : 'Heart attack' , 'chest pain':1,\"shoulder pain\":1} , ignore_index=True)\n",
    " df= df.append({'prognosis' : 'Heart attack' , 'chest pain':1} , ignore_index=True)\n",
    " df= df.append({'prognosis' : 'Heart attack' , \"shoulder pain\":1,'chest pain':1,\"arm pain\":1} , ignore_index=True)\n",
    "\n",
    "\n",
    "### Common Cold Symptoms\n",
    " df = df.append({'prognosis' : 'Common Cold' , 'fever':1,'cough':1,'head ache':1,'fatigue':1} , ignore_index=True)\n",
    " df = df.append({'prognosis' : 'Common Cold' , 'fever':1,'cough':1,'runny nose':1,'chills':1,'head ache':1} , ignore_index=True)\n",
    " df = df.append({'prognosis' : 'Common Cold' , 'fever':1,'cough':1,'head ache':1} , ignore_index=True)\n",
    " df = df.append({'prognosis' : 'Common Cold' , 'fever':1,'cough':1,'fatigue':1,'chills':1,'head ache':1} , ignore_index=True)\n",
    " df = df.append({'prognosis' : 'Common Cold' , 'cough':1,'fatigue':1,'runny nose':1,'chills':1,'head ache':1} , ignore_index=True)\n",
    " df = df.append({'prognosis' : 'Common Cold' , 'fever':1,'cough':1,'runny nose':1,'mild fever':1,'head ache':1} , ignore_index=True)\n",
    " df = df.append({'prognosis' : 'Common Cold' , 'fever':1,'cough':1,'runny nose':1,'mild fever':1} , ignore_index=True)\n",
    " df = df.append({'prognosis' : 'Common Cold' , 'cough':1,'headache':1} , ignore_index=True)\n",
    " df = df.append({'prognosis' : 'Common Cold' , 'fever':1,'cough':1,'headache':1} , ignore_index=True)\n",
    " df = df.append({'prognosis' : 'Common Cold' , 'fever':1,'cough':1,'fatigue':1} , ignore_index=True)\n",
    "\n",
    "###Opthalmologist\n",
    " df = df.append({'prognosis' : 'ophthalmologist' , 'eye pain':1,'headache':1} , ignore_index=True)\n",
    " df = df.append({'prognosis' : 'ophthalmologist' , 'eye pain':1,\"less vision\":1} , ignore_index=True)\n",
    " df = df.append({'prognosis' : 'ophthalmologist' , 'eye pain':1} , ignore_index=True)\n",
    " df = df.append({'prognosis' : 'ophthalmologist' , 'eye pain':1,\"headache\":1,\"less vision\":1,\"blurred and distorted vision\":1} , ignore_index=True)\n",
    " df = df.append({'prognosis' : 'ophthalmologist' , 'eye pain':1,\"headache\":1,\"less vision\":1,\"red eye\":1} , ignore_index=True)\n",
    " df = df.append({'prognosis' : 'ophthalmologist' , 'eye pain':1,\"red eye\":1} , ignore_index=True)\n",
    " df = df.append({'prognosis' : 'ophthalmologist' , 'eye pain':1} , ignore_index=True)\n",
    " df = df.append({'prognosis' : 'ophthalmologist' , \"red eye\":1} , ignore_index=True)\n",
    " df = df.append({'prognosis' : 'ophthalmologist' , \"headache\":1,\"less vision\":1} , ignore_index=True)\n",
    " df = df.append({'prognosis' : 'ophthalmologist' , \"red eye\":1,\"blurred and distorted vision\":1} , ignore_index=True)\n",
    "\n",
    " df = df.append({'prognosis' : 'ophthalmologist' , 'eye pain':1,\"watering from eyes\":1} , ignore_index=True)\n",
    " df = df.append({'prognosis' : 'ophthalmologist' , 'eye pain':1,\"headache\":1,\"less vision\":1,\"red eye\":1,\"watering from eyes\":1} , ignore_index=True)\n",
    "\n",
    "##Pediatrician\n",
    " df = df.append({'prognosis' : 'Pediatrician' , \"child\":1} , ignore_index=True)\n",
    " df = df.append({'prognosis' : 'Pediatrician' , \"child\":1,\"kid\":1} , ignore_index=True)\n",
    " df = df.append({'prognosis' : 'Pediatrician' , \"child\":1,\"kid\":1,\"fever\":1} , ignore_index=True)\n",
    " df = df.append({'prognosis' : 'Pediatrician' , \"baby\":1} , ignore_index=True)\n",
    " df = df.append({'prognosis' : 'Pediatrician' , \"baby\":1,\"stomach pain\":1} , ignore_index=True)\n",
    " df = df.append({'prognosis' : 'Pediatrician' , \"child\":1,\"stomach pain\":1,\"headache\":1} , ignore_index=True)\n",
    " df = df.append({'prognosis' : 'Pediatrician' , \"child\":1,\"stomach pain\":1,\"headache\":1,\"fever\":1} , ignore_index=True)\n",
    " df = df.append({'prognosis' : 'Pediatrician' , \"child\":1,\"fever\":1} , ignore_index=True)\n",
    " df = df.append({'prognosis' : 'Pediatrician' , \"child\":1,\"stomach pain\":1,\"headache\":1,\"fever\":1,\"cough\":1} , ignore_index=True)\n",
    " df = df.append({'prognosis' : 'Pediatrician' , \"baby\":1,\"stomach pain\":1,\"headache\":1,\"fever\":1,\"cough\":1} , ignore_index=True)\n",
    " df = df.append({'prognosis' : 'Pediatrician' , \"kid\":1,\"stomach pain\":1,\"headache\":1,\"fever\":1,\"cough\":1} , ignore_index=True)\n",
    "\n",
    " df = df.append({'prognosis' : 'Urinary tract infection' , \"yellow urine\":1,\"polyuria\":1,\"foul smell of urine\":1,\"continuous feel of urine\":1} , ignore_index=True)\n",
    " df = df.append({'prognosis' : 'Urinary tract infection' , \"foul smell of urine\":1} , ignore_index=True)\n",
    " df = df.append({'prognosis' : 'Urinary tract infection' ,\"polyuria\":1} , ignore_index=True)\n",
    " df = df.append({'prognosis' : 'Urinary tract infection' , \"yellow urine\":1,\"polyuria\":1,\"continuous feel of urine\":1} , ignore_index=True)\n",
    " df = df.append({'prognosis' : 'Urinary tract infection' , \"continuous feel of urine\":1} , ignore_index=True)\n",
    " df = df.append({'prognosis' : 'Urinary tract infection' ,\"polyuria\":1,\"foul smell of urine\":1,\"continuous feel of urine\":1} , ignore_index=True)\n",
    "\n",
    "\n",
    " df = df.append({'prognosis' : '(vertigo) Paroymsal  Positional Vertigo' ,\"ear pain\":1,\"throat pain\":1} , ignore_index=True)\n",
    " df = df.append({'prognosis' : '(vertigo) Paroymsal  Positional Vertigo' ,\"ear pain\":1} , ignore_index=True)\n",
    " df = df.append({'prognosis' : '(vertigo) Paroymsal  Positional Vertigo' ,\"throat pain\":1} , ignore_index=True)\n",
    "\n",
    " df = df.append({'prognosis' : 'Arthritis' ,\"joint pain\":1} , ignore_index=True)\n",
    " df = df.append({'prognosis' : 'Arthritis' ,\"joint pain\":1,\"shoulder pain\":1} , ignore_index=True)\n",
    " df = df.append({'prognosis' : 'Arthritis' ,\"joint pain\":1,\"shoulder pain\":1,\"hip joint pain\":1} , ignore_index=True)\n",
    " df = df.append({'prognosis' : 'Arthritis' ,\"joint pain\":1,\"shoulder pain\":1,\"hip joint pain\":1,\"swelling joints\":1} , ignore_index=True)\n",
    " df = df.append({'prognosis' : 'Arthritis' ,\"joint pain\":1,\"shoulder pain\":1,\"swelling joints\":1} , ignore_index=True)   "
   ]
  },
  {
   "cell_type": "code",
   "execution_count": 94,
   "metadata": {},
   "outputs": [
    {
     "data": {
      "text/html": [
       "<div>\n",
       "<style scoped>\n",
       "    .dataframe tbody tr th:only-of-type {\n",
       "        vertical-align: middle;\n",
       "    }\n",
       "\n",
       "    .dataframe tbody tr th {\n",
       "        vertical-align: top;\n",
       "    }\n",
       "\n",
       "    .dataframe thead th {\n",
       "        text-align: right;\n",
       "    }\n",
       "</style>\n",
       "<table border=\"1\" class=\"dataframe\">\n",
       "  <thead>\n",
       "    <tr style=\"text-align: right;\">\n",
       "      <th></th>\n",
       "      <th>itching</th>\n",
       "      <th>rash</th>\n",
       "      <th>nodal skin eruptions</th>\n",
       "      <th>continuous sneezing</th>\n",
       "      <th>shivering</th>\n",
       "      <th>chills</th>\n",
       "      <th>joint pain</th>\n",
       "      <th>acidity</th>\n",
       "      <th>ulcers on tongue</th>\n",
       "      <th>muscle wasting</th>\n",
       "      <th>...</th>\n",
       "      <th>shoulder pain</th>\n",
       "      <th>head ache</th>\n",
       "      <th>mild fever</th>\n",
       "      <th>eye pain</th>\n",
       "      <th>less vision</th>\n",
       "      <th>red eye</th>\n",
       "      <th>child</th>\n",
       "      <th>kid</th>\n",
       "      <th>baby</th>\n",
       "      <th>ear pain</th>\n",
       "    </tr>\n",
       "  </thead>\n",
       "  <tbody>\n",
       "    <tr>\n",
       "      <th>1339</th>\n",
       "      <td>NaN</td>\n",
       "      <td>NaN</td>\n",
       "      <td>NaN</td>\n",
       "      <td>NaN</td>\n",
       "      <td>NaN</td>\n",
       "      <td>NaN</td>\n",
       "      <td>1.0</td>\n",
       "      <td>NaN</td>\n",
       "      <td>NaN</td>\n",
       "      <td>NaN</td>\n",
       "      <td>...</td>\n",
       "      <td>NaN</td>\n",
       "      <td>NaN</td>\n",
       "      <td>NaN</td>\n",
       "      <td>NaN</td>\n",
       "      <td>NaN</td>\n",
       "      <td>NaN</td>\n",
       "      <td>NaN</td>\n",
       "      <td>NaN</td>\n",
       "      <td>NaN</td>\n",
       "      <td>NaN</td>\n",
       "    </tr>\n",
       "    <tr>\n",
       "      <th>1340</th>\n",
       "      <td>NaN</td>\n",
       "      <td>NaN</td>\n",
       "      <td>NaN</td>\n",
       "      <td>NaN</td>\n",
       "      <td>NaN</td>\n",
       "      <td>NaN</td>\n",
       "      <td>1.0</td>\n",
       "      <td>NaN</td>\n",
       "      <td>NaN</td>\n",
       "      <td>NaN</td>\n",
       "      <td>...</td>\n",
       "      <td>1.0</td>\n",
       "      <td>NaN</td>\n",
       "      <td>NaN</td>\n",
       "      <td>NaN</td>\n",
       "      <td>NaN</td>\n",
       "      <td>NaN</td>\n",
       "      <td>NaN</td>\n",
       "      <td>NaN</td>\n",
       "      <td>NaN</td>\n",
       "      <td>NaN</td>\n",
       "    </tr>\n",
       "    <tr>\n",
       "      <th>1341</th>\n",
       "      <td>NaN</td>\n",
       "      <td>NaN</td>\n",
       "      <td>NaN</td>\n",
       "      <td>NaN</td>\n",
       "      <td>NaN</td>\n",
       "      <td>NaN</td>\n",
       "      <td>1.0</td>\n",
       "      <td>NaN</td>\n",
       "      <td>NaN</td>\n",
       "      <td>NaN</td>\n",
       "      <td>...</td>\n",
       "      <td>1.0</td>\n",
       "      <td>NaN</td>\n",
       "      <td>NaN</td>\n",
       "      <td>NaN</td>\n",
       "      <td>NaN</td>\n",
       "      <td>NaN</td>\n",
       "      <td>NaN</td>\n",
       "      <td>NaN</td>\n",
       "      <td>NaN</td>\n",
       "      <td>NaN</td>\n",
       "    </tr>\n",
       "    <tr>\n",
       "      <th>1342</th>\n",
       "      <td>NaN</td>\n",
       "      <td>NaN</td>\n",
       "      <td>NaN</td>\n",
       "      <td>NaN</td>\n",
       "      <td>NaN</td>\n",
       "      <td>NaN</td>\n",
       "      <td>1.0</td>\n",
       "      <td>NaN</td>\n",
       "      <td>NaN</td>\n",
       "      <td>NaN</td>\n",
       "      <td>...</td>\n",
       "      <td>1.0</td>\n",
       "      <td>NaN</td>\n",
       "      <td>NaN</td>\n",
       "      <td>NaN</td>\n",
       "      <td>NaN</td>\n",
       "      <td>NaN</td>\n",
       "      <td>NaN</td>\n",
       "      <td>NaN</td>\n",
       "      <td>NaN</td>\n",
       "      <td>NaN</td>\n",
       "    </tr>\n",
       "    <tr>\n",
       "      <th>1343</th>\n",
       "      <td>NaN</td>\n",
       "      <td>NaN</td>\n",
       "      <td>NaN</td>\n",
       "      <td>NaN</td>\n",
       "      <td>NaN</td>\n",
       "      <td>NaN</td>\n",
       "      <td>1.0</td>\n",
       "      <td>NaN</td>\n",
       "      <td>NaN</td>\n",
       "      <td>NaN</td>\n",
       "      <td>...</td>\n",
       "      <td>1.0</td>\n",
       "      <td>NaN</td>\n",
       "      <td>NaN</td>\n",
       "      <td>NaN</td>\n",
       "      <td>NaN</td>\n",
       "      <td>NaN</td>\n",
       "      <td>NaN</td>\n",
       "      <td>NaN</td>\n",
       "      <td>NaN</td>\n",
       "      <td>NaN</td>\n",
       "    </tr>\n",
       "  </tbody>\n",
       "</table>\n",
       "<p>5 rows × 157 columns</p>\n",
       "</div>"
      ],
      "text/plain": [
       "      itching  rash  nodal skin eruptions  continuous sneezing  shivering  \\\n",
       "1339      NaN   NaN                   NaN                  NaN        NaN   \n",
       "1340      NaN   NaN                   NaN                  NaN        NaN   \n",
       "1341      NaN   NaN                   NaN                  NaN        NaN   \n",
       "1342      NaN   NaN                   NaN                  NaN        NaN   \n",
       "1343      NaN   NaN                   NaN                  NaN        NaN   \n",
       "\n",
       "      chills  joint pain  acidity  ulcers on tongue  muscle wasting  ...  \\\n",
       "1339     NaN         1.0      NaN               NaN             NaN  ...   \n",
       "1340     NaN         1.0      NaN               NaN             NaN  ...   \n",
       "1341     NaN         1.0      NaN               NaN             NaN  ...   \n",
       "1342     NaN         1.0      NaN               NaN             NaN  ...   \n",
       "1343     NaN         1.0      NaN               NaN             NaN  ...   \n",
       "\n",
       "      shoulder pain  head ache  mild fever  eye pain  less vision  red eye  \\\n",
       "1339            NaN        NaN         NaN       NaN          NaN      NaN   \n",
       "1340            1.0        NaN         NaN       NaN          NaN      NaN   \n",
       "1341            1.0        NaN         NaN       NaN          NaN      NaN   \n",
       "1342            1.0        NaN         NaN       NaN          NaN      NaN   \n",
       "1343            1.0        NaN         NaN       NaN          NaN      NaN   \n",
       "\n",
       "      child  kid  baby  ear pain  \n",
       "1339    NaN  NaN   NaN       NaN  \n",
       "1340    NaN  NaN   NaN       NaN  \n",
       "1341    NaN  NaN   NaN       NaN  \n",
       "1342    NaN  NaN   NaN       NaN  \n",
       "1343    NaN  NaN   NaN       NaN  \n",
       "\n",
       "[5 rows x 157 columns]"
      ]
     },
     "execution_count": 94,
     "metadata": {},
     "output_type": "execute_result"
    }
   ],
   "source": [
    "df.tail()"
   ]
  },
  {
   "cell_type": "code",
   "execution_count": 95,
   "metadata": {},
   "outputs": [
    {
     "name": "stdout",
     "output_type": "stream",
     "text": [
      "['itching', 'rash', 'nodal skin eruptions', 'continuous sneezing', 'shivering', 'chills', 'joint pain', 'acidity', 'ulcers on tongue', 'muscle wasting', 'vomiting', 'burning micturition', 'spotting  urination', 'fatigue', 'weight gain', 'anxiety', 'cold hands and feets', 'mood swings', 'weight loss', 'restlessness', 'lethargy', 'patches in throat', 'irregular sugar level', 'cough', 'high fever', 'sunken eyes', 'breathlessness', 'sweating', 'dehydration', 'indigestion', 'headache', 'yellowish skin', 'dark urine', 'nausea', 'loss of appetite', 'pain behind the eyes', 'back pain', 'constipation', 'abdominal pain', 'diarrhoea', 'fever', 'yellow urine', 'yellowing of eyes', 'acute liver failure', 'fluid overload', 'swelling of stomach', 'swelled lymph nodes', 'malaise', 'blurred and distorted vision', 'phlegm', 'throat pain', 'redness of eyes', 'sinus pressure', 'runny nose', 'congestion', 'chest pain', 'weakness in limbs', 'fast heart rate', 'pain during bowel movements', 'pain in anal region', 'bloody stool', 'irritation in anus', 'neck pain', 'dizziness', 'cramps', 'bruising', 'obesity', 'swollen legs', 'swollen blood vessels', 'puffy face and eyes', 'enlarged thyroid', 'brittle nails', 'swollen extremeties', 'hunger', 'extra marital contacts', 'drying and tingling lips', 'slurred speech', 'knee pain', 'hip joint pain', 'muscle weakness', 'stiff neck', 'swelling joints', 'movement stiffness', 'spinning movements', 'loss of balance', 'unsteadiness', 'weakness of one body side', 'loss of smell', 'bladder discomfort', 'foul smell of urine', 'continuous feel of urine', 'passage of gases', 'internal itching', 'toxic look (typhos)', 'depression', 'irritability', 'muscle pain', 'altered sensorium', 'red spots over body', 'belly pain', 'abnormal menstruation', 'dischromic  patches', 'watering from eyes', 'increased appetite', 'polyuria', 'family history', 'mucoid sputum', 'rusty sputum', 'lack of concentration', 'visual disturbances', 'receiving blood transfusion', 'receiving unsterile injections', 'coma', 'stomach bleeding', 'distention of abdomen', 'history of alcohol consumption', 'fluid overload.1', 'blood in sputum', 'prominent veins on calf', 'palpitations', 'painful walking', 'pus filled pimples', 'blackheads', 'scurring', 'skin peeling', 'silver like dusting', 'small dents in nails', 'inflammatory nails', 'blister', 'red sore around nose', 'yellow crust ooze', 'prognosis', 'arm pain', '', 'painlessness', 'cavity', 'oral pain', 'toothache', 'fits', 'mental confusion', 'paralaysis', 'seizure', 'sucidal thoughts', 'bumps', 'rashes', 'tiredness', 'stomach pain', 'shoulder pain', 'head ache', 'mild fever', 'eye pain', 'less vision', 'red eye', 'child', 'kid', 'baby', 'ear pain']\n"
     ]
    }
   ],
   "source": [
    "print(list(df.columns))"
   ]
  },
  {
   "cell_type": "code",
   "execution_count": 96,
   "metadata": {},
   "outputs": [],
   "source": [
    "df.fillna(0,inplace=True)"
   ]
  },
  {
   "cell_type": "code",
   "execution_count": 97,
   "metadata": {},
   "outputs": [],
   "source": [
    "df.loc[df.prognosis == \"Arthritis\", 'joint pain'] = 1\n",
    "df.loc[df.prognosis == \"Osteoarthristis\", 'joint pain'] = 1"
   ]
  },
  {
   "cell_type": "code",
   "execution_count": 98,
   "metadata": {},
   "outputs": [
    {
     "data": {
      "text/plain": [
       "222     1.0\n",
       "223     1.0\n",
       "224     1.0\n",
       "225     1.0\n",
       "226     0.0\n",
       "       ... \n",
       "1292    1.0\n",
       "1293    1.0\n",
       "1294    1.0\n",
       "1295    1.0\n",
       "1296    1.0\n",
       "Name: chest pain, Length: 125, dtype: float64"
      ]
     },
     "execution_count": 98,
     "metadata": {},
     "output_type": "execute_result"
    }
   ],
   "source": [
    "df.loc[df.prognosis == \"Heart attack\", 'chest pain']"
   ]
  },
  {
   "cell_type": "code",
   "execution_count": 99,
   "metadata": {},
   "outputs": [
    {
     "data": {
      "text/plain": [
       "Heart attack                               125\n",
       "ophthalmologist                            120\n",
       "dentist                                    120\n",
       "Common Cold                                119\n",
       "Pediatrician                               110\n",
       "psychologist                               100\n",
       "Hypothyroidism                              78\n",
       "neuroloigist                                70\n",
       "Urinary tract infection                     65\n",
       "Diabetes                                    59\n",
       "Arthritis                                   56\n",
       "(vertigo) Paroymsal  Positional Vertigo     37\n",
       "Fungal infection                            35\n",
       "Hepatitis D                                 10\n",
       "Chicken pox                                 10\n",
       "Migraine                                    10\n",
       "Dengue                                      10\n",
       "Typhoid                                      9\n",
       "hepatitis A                                  9\n",
       "Hypoglycemia                                 9\n",
       "Jaundice                                     9\n",
       "Hepatitis B                                  9\n",
       "Pneumonia                                    9\n",
       "Hepatitis E                                  9\n",
       "Hyperthyroidism                              9\n",
       "Tuberculosis                                 9\n",
       "Malaria                                      8\n",
       "Chronic cholestasis                          8\n",
       "Varicose veins                               8\n",
       "Alcoholic hepatitis                          8\n",
       "Bronchial Asthma                             7\n",
       "Hepatitis C                                  7\n",
       "GERD                                         7\n",
       "Peptic ulcer diseae                          7\n",
       "Psoriasis                                    7\n",
       "Osteoarthristis                              7\n",
       "Hypertension                                 6\n",
       "Impetigo                                     6\n",
       "Cervical spondylosis                         6\n",
       "Dimorphic hemmorhoids(piles)                 6\n",
       "Drug Reaction                                6\n",
       "Acne                                         5\n",
       "Allergy                                      5\n",
       "Gastroenteritis                              5\n",
       "AIDS                                         5\n",
       "Paralysis (brain hemorrhage)                 5\n",
       "Name: prognosis, dtype: int64"
      ]
     },
     "execution_count": 99,
     "metadata": {},
     "output_type": "execute_result"
    }
   ],
   "source": [
    "df[\"prognosis\"].value_counts()"
   ]
  },
  {
   "cell_type": "code",
   "execution_count": 100,
   "metadata": {},
   "outputs": [
    {
     "data": {
      "text/plain": [
       "Heart attack                               125\n",
       "ophthalmologist                            120\n",
       "dentist                                    120\n",
       "Common Cold                                119\n",
       "Pediatrician                               110\n",
       "psychologist                               100\n",
       "Hypothyroidism                              78\n",
       "neuroloigist                                70\n",
       "Urinary tract infection                     65\n",
       "Diabetes                                    59\n",
       "Arthritis                                   56\n",
       "(vertigo) Paroymsal  Positional Vertigo     37\n",
       "Fungal infection                            35\n",
       "Hepatitis D                                 10\n",
       "Chicken pox                                 10\n",
       "Migraine                                    10\n",
       "Dengue                                      10\n",
       "Typhoid                                      9\n",
       "hepatitis A                                  9\n",
       "Hypoglycemia                                 9\n",
       "Jaundice                                     9\n",
       "Hepatitis B                                  9\n",
       "Pneumonia                                    9\n",
       "Hepatitis E                                  9\n",
       "Hyperthyroidism                              9\n",
       "Tuberculosis                                 9\n",
       "Malaria                                      8\n",
       "Chronic cholestasis                          8\n",
       "Varicose veins                               8\n",
       "Alcoholic hepatitis                          8\n",
       "Bronchial Asthma                             7\n",
       "Hepatitis C                                  7\n",
       "GERD                                         7\n",
       "Peptic ulcer diseae                          7\n",
       "Psoriasis                                    7\n",
       "Osteoarthristis                              7\n",
       "Hypertension                                 6\n",
       "Impetigo                                     6\n",
       "Cervical spondylosis                         6\n",
       "Dimorphic hemmorhoids(piles)                 6\n",
       "Drug Reaction                                6\n",
       "Acne                                         5\n",
       "Allergy                                      5\n",
       "Gastroenteritis                              5\n",
       "AIDS                                         5\n",
       "Paralysis (brain hemorrhage)                 5\n",
       "Name: prognosis, dtype: int64"
      ]
     },
     "execution_count": 100,
     "metadata": {},
     "output_type": "execute_result"
    }
   ],
   "source": [
    "df[\"prognosis\"].value_counts()"
   ]
  },
  {
   "cell_type": "code",
   "execution_count": 101,
   "metadata": {},
   "outputs": [],
   "source": [
    "col=df.columns\n",
    "#col\n"
   ]
  },
  {
   "cell_type": "code",
   "execution_count": 102,
   "metadata": {},
   "outputs": [
    {
     "data": {
      "text/plain": [
       "157"
      ]
     },
     "execution_count": 102,
     "metadata": {},
     "output_type": "execute_result"
    }
   ],
   "source": [
    "raw_col=list(col)\n",
    "len(raw_col)"
   ]
  },
  {
   "cell_type": "code",
   "execution_count": 103,
   "metadata": {},
   "outputs": [
    {
     "name": "stdout",
     "output_type": "stream",
     "text": [
      "<class 'pandas.core.frame.DataFrame'>\n",
      "RangeIndex: 1344 entries, 0 to 1343\n",
      "Columns: 157 entries, itching to ear pain\n",
      "dtypes: float64(156), object(1)\n",
      "memory usage: 1.6+ MB\n"
     ]
    }
   ],
   "source": [
    "df.info()"
   ]
  },
  {
   "cell_type": "code",
   "execution_count": 104,
   "metadata": {},
   "outputs": [
    {
     "data": {
      "text/html": [
       "<div>\n",
       "<style scoped>\n",
       "    .dataframe tbody tr th:only-of-type {\n",
       "        vertical-align: middle;\n",
       "    }\n",
       "\n",
       "    .dataframe tbody tr th {\n",
       "        vertical-align: top;\n",
       "    }\n",
       "\n",
       "    .dataframe thead th {\n",
       "        text-align: right;\n",
       "    }\n",
       "</style>\n",
       "<table border=\"1\" class=\"dataframe\">\n",
       "  <thead>\n",
       "    <tr style=\"text-align: right;\">\n",
       "      <th></th>\n",
       "      <th>itching</th>\n",
       "      <th>rash</th>\n",
       "      <th>nodal skin eruptions</th>\n",
       "      <th>continuous sneezing</th>\n",
       "      <th>shivering</th>\n",
       "      <th>chills</th>\n",
       "      <th>joint pain</th>\n",
       "      <th>acidity</th>\n",
       "      <th>ulcers on tongue</th>\n",
       "      <th>muscle wasting</th>\n",
       "      <th>...</th>\n",
       "      <th>shoulder pain</th>\n",
       "      <th>head ache</th>\n",
       "      <th>mild fever</th>\n",
       "      <th>eye pain</th>\n",
       "      <th>less vision</th>\n",
       "      <th>red eye</th>\n",
       "      <th>child</th>\n",
       "      <th>kid</th>\n",
       "      <th>baby</th>\n",
       "      <th>ear pain</th>\n",
       "    </tr>\n",
       "  </thead>\n",
       "  <tbody>\n",
       "    <tr>\n",
       "      <th>0</th>\n",
       "      <td>1.0</td>\n",
       "      <td>1.0</td>\n",
       "      <td>1.0</td>\n",
       "      <td>0.0</td>\n",
       "      <td>0.0</td>\n",
       "      <td>0.0</td>\n",
       "      <td>0.0</td>\n",
       "      <td>0.0</td>\n",
       "      <td>0.0</td>\n",
       "      <td>0.0</td>\n",
       "      <td>...</td>\n",
       "      <td>0.0</td>\n",
       "      <td>0.0</td>\n",
       "      <td>0.0</td>\n",
       "      <td>0.0</td>\n",
       "      <td>0.0</td>\n",
       "      <td>0.0</td>\n",
       "      <td>0.0</td>\n",
       "      <td>0.0</td>\n",
       "      <td>0.0</td>\n",
       "      <td>0.0</td>\n",
       "    </tr>\n",
       "    <tr>\n",
       "      <th>1</th>\n",
       "      <td>0.0</td>\n",
       "      <td>1.0</td>\n",
       "      <td>1.0</td>\n",
       "      <td>0.0</td>\n",
       "      <td>0.0</td>\n",
       "      <td>0.0</td>\n",
       "      <td>0.0</td>\n",
       "      <td>0.0</td>\n",
       "      <td>0.0</td>\n",
       "      <td>0.0</td>\n",
       "      <td>...</td>\n",
       "      <td>0.0</td>\n",
       "      <td>0.0</td>\n",
       "      <td>0.0</td>\n",
       "      <td>0.0</td>\n",
       "      <td>0.0</td>\n",
       "      <td>0.0</td>\n",
       "      <td>0.0</td>\n",
       "      <td>0.0</td>\n",
       "      <td>0.0</td>\n",
       "      <td>0.0</td>\n",
       "    </tr>\n",
       "    <tr>\n",
       "      <th>2</th>\n",
       "      <td>1.0</td>\n",
       "      <td>0.0</td>\n",
       "      <td>1.0</td>\n",
       "      <td>0.0</td>\n",
       "      <td>0.0</td>\n",
       "      <td>0.0</td>\n",
       "      <td>0.0</td>\n",
       "      <td>0.0</td>\n",
       "      <td>0.0</td>\n",
       "      <td>0.0</td>\n",
       "      <td>...</td>\n",
       "      <td>0.0</td>\n",
       "      <td>0.0</td>\n",
       "      <td>0.0</td>\n",
       "      <td>0.0</td>\n",
       "      <td>0.0</td>\n",
       "      <td>0.0</td>\n",
       "      <td>0.0</td>\n",
       "      <td>0.0</td>\n",
       "      <td>0.0</td>\n",
       "      <td>0.0</td>\n",
       "    </tr>\n",
       "    <tr>\n",
       "      <th>3</th>\n",
       "      <td>1.0</td>\n",
       "      <td>1.0</td>\n",
       "      <td>0.0</td>\n",
       "      <td>0.0</td>\n",
       "      <td>0.0</td>\n",
       "      <td>0.0</td>\n",
       "      <td>0.0</td>\n",
       "      <td>0.0</td>\n",
       "      <td>0.0</td>\n",
       "      <td>0.0</td>\n",
       "      <td>...</td>\n",
       "      <td>0.0</td>\n",
       "      <td>0.0</td>\n",
       "      <td>0.0</td>\n",
       "      <td>0.0</td>\n",
       "      <td>0.0</td>\n",
       "      <td>0.0</td>\n",
       "      <td>0.0</td>\n",
       "      <td>0.0</td>\n",
       "      <td>0.0</td>\n",
       "      <td>0.0</td>\n",
       "    </tr>\n",
       "    <tr>\n",
       "      <th>4</th>\n",
       "      <td>1.0</td>\n",
       "      <td>1.0</td>\n",
       "      <td>1.0</td>\n",
       "      <td>0.0</td>\n",
       "      <td>0.0</td>\n",
       "      <td>0.0</td>\n",
       "      <td>0.0</td>\n",
       "      <td>0.0</td>\n",
       "      <td>0.0</td>\n",
       "      <td>0.0</td>\n",
       "      <td>...</td>\n",
       "      <td>0.0</td>\n",
       "      <td>0.0</td>\n",
       "      <td>0.0</td>\n",
       "      <td>0.0</td>\n",
       "      <td>0.0</td>\n",
       "      <td>0.0</td>\n",
       "      <td>0.0</td>\n",
       "      <td>0.0</td>\n",
       "      <td>0.0</td>\n",
       "      <td>0.0</td>\n",
       "    </tr>\n",
       "  </tbody>\n",
       "</table>\n",
       "<p>5 rows × 157 columns</p>\n",
       "</div>"
      ],
      "text/plain": [
       "   itching  rash  nodal skin eruptions  continuous sneezing  shivering  \\\n",
       "0      1.0   1.0                   1.0                  0.0        0.0   \n",
       "1      0.0   1.0                   1.0                  0.0        0.0   \n",
       "2      1.0   0.0                   1.0                  0.0        0.0   \n",
       "3      1.0   1.0                   0.0                  0.0        0.0   \n",
       "4      1.0   1.0                   1.0                  0.0        0.0   \n",
       "\n",
       "   chills  joint pain  acidity  ulcers on tongue  muscle wasting  ...  \\\n",
       "0     0.0         0.0      0.0               0.0             0.0  ...   \n",
       "1     0.0         0.0      0.0               0.0             0.0  ...   \n",
       "2     0.0         0.0      0.0               0.0             0.0  ...   \n",
       "3     0.0         0.0      0.0               0.0             0.0  ...   \n",
       "4     0.0         0.0      0.0               0.0             0.0  ...   \n",
       "\n",
       "   shoulder pain  head ache  mild fever  eye pain  less vision  red eye  \\\n",
       "0            0.0        0.0         0.0       0.0          0.0      0.0   \n",
       "1            0.0        0.0         0.0       0.0          0.0      0.0   \n",
       "2            0.0        0.0         0.0       0.0          0.0      0.0   \n",
       "3            0.0        0.0         0.0       0.0          0.0      0.0   \n",
       "4            0.0        0.0         0.0       0.0          0.0      0.0   \n",
       "\n",
       "   child  kid  baby  ear pain  \n",
       "0    0.0  0.0   0.0       0.0  \n",
       "1    0.0  0.0   0.0       0.0  \n",
       "2    0.0  0.0   0.0       0.0  \n",
       "3    0.0  0.0   0.0       0.0  \n",
       "4    0.0  0.0   0.0       0.0  \n",
       "\n",
       "[5 rows x 157 columns]"
      ]
     },
     "metadata": {},
     "output_type": "display_data"
    },
    {
     "data": {
      "text/html": [
       "<div>\n",
       "<style scoped>\n",
       "    .dataframe tbody tr th:only-of-type {\n",
       "        vertical-align: middle;\n",
       "    }\n",
       "\n",
       "    .dataframe tbody tr th {\n",
       "        vertical-align: top;\n",
       "    }\n",
       "\n",
       "    .dataframe thead th {\n",
       "        text-align: right;\n",
       "    }\n",
       "</style>\n",
       "<table border=\"1\" class=\"dataframe\">\n",
       "  <thead>\n",
       "    <tr style=\"text-align: right;\">\n",
       "      <th></th>\n",
       "      <th>itching</th>\n",
       "      <th>rash</th>\n",
       "      <th>nodal skin eruptions</th>\n",
       "      <th>continuous sneezing</th>\n",
       "      <th>shivering</th>\n",
       "      <th>chills</th>\n",
       "      <th>joint pain</th>\n",
       "      <th>acidity</th>\n",
       "      <th>ulcers on tongue</th>\n",
       "      <th>muscle wasting</th>\n",
       "      <th>...</th>\n",
       "      <th>shoulder pain</th>\n",
       "      <th>head ache</th>\n",
       "      <th>mild fever</th>\n",
       "      <th>eye pain</th>\n",
       "      <th>less vision</th>\n",
       "      <th>red eye</th>\n",
       "      <th>child</th>\n",
       "      <th>kid</th>\n",
       "      <th>baby</th>\n",
       "      <th>ear pain</th>\n",
       "    </tr>\n",
       "  </thead>\n",
       "  <tbody>\n",
       "    <tr>\n",
       "      <th>1339</th>\n",
       "      <td>0.0</td>\n",
       "      <td>0.0</td>\n",
       "      <td>0.0</td>\n",
       "      <td>0.0</td>\n",
       "      <td>0.0</td>\n",
       "      <td>0.0</td>\n",
       "      <td>1.0</td>\n",
       "      <td>0.0</td>\n",
       "      <td>0.0</td>\n",
       "      <td>0.0</td>\n",
       "      <td>...</td>\n",
       "      <td>0.0</td>\n",
       "      <td>0.0</td>\n",
       "      <td>0.0</td>\n",
       "      <td>0.0</td>\n",
       "      <td>0.0</td>\n",
       "      <td>0.0</td>\n",
       "      <td>0.0</td>\n",
       "      <td>0.0</td>\n",
       "      <td>0.0</td>\n",
       "      <td>0.0</td>\n",
       "    </tr>\n",
       "    <tr>\n",
       "      <th>1340</th>\n",
       "      <td>0.0</td>\n",
       "      <td>0.0</td>\n",
       "      <td>0.0</td>\n",
       "      <td>0.0</td>\n",
       "      <td>0.0</td>\n",
       "      <td>0.0</td>\n",
       "      <td>1.0</td>\n",
       "      <td>0.0</td>\n",
       "      <td>0.0</td>\n",
       "      <td>0.0</td>\n",
       "      <td>...</td>\n",
       "      <td>1.0</td>\n",
       "      <td>0.0</td>\n",
       "      <td>0.0</td>\n",
       "      <td>0.0</td>\n",
       "      <td>0.0</td>\n",
       "      <td>0.0</td>\n",
       "      <td>0.0</td>\n",
       "      <td>0.0</td>\n",
       "      <td>0.0</td>\n",
       "      <td>0.0</td>\n",
       "    </tr>\n",
       "    <tr>\n",
       "      <th>1341</th>\n",
       "      <td>0.0</td>\n",
       "      <td>0.0</td>\n",
       "      <td>0.0</td>\n",
       "      <td>0.0</td>\n",
       "      <td>0.0</td>\n",
       "      <td>0.0</td>\n",
       "      <td>1.0</td>\n",
       "      <td>0.0</td>\n",
       "      <td>0.0</td>\n",
       "      <td>0.0</td>\n",
       "      <td>...</td>\n",
       "      <td>1.0</td>\n",
       "      <td>0.0</td>\n",
       "      <td>0.0</td>\n",
       "      <td>0.0</td>\n",
       "      <td>0.0</td>\n",
       "      <td>0.0</td>\n",
       "      <td>0.0</td>\n",
       "      <td>0.0</td>\n",
       "      <td>0.0</td>\n",
       "      <td>0.0</td>\n",
       "    </tr>\n",
       "    <tr>\n",
       "      <th>1342</th>\n",
       "      <td>0.0</td>\n",
       "      <td>0.0</td>\n",
       "      <td>0.0</td>\n",
       "      <td>0.0</td>\n",
       "      <td>0.0</td>\n",
       "      <td>0.0</td>\n",
       "      <td>1.0</td>\n",
       "      <td>0.0</td>\n",
       "      <td>0.0</td>\n",
       "      <td>0.0</td>\n",
       "      <td>...</td>\n",
       "      <td>1.0</td>\n",
       "      <td>0.0</td>\n",
       "      <td>0.0</td>\n",
       "      <td>0.0</td>\n",
       "      <td>0.0</td>\n",
       "      <td>0.0</td>\n",
       "      <td>0.0</td>\n",
       "      <td>0.0</td>\n",
       "      <td>0.0</td>\n",
       "      <td>0.0</td>\n",
       "    </tr>\n",
       "    <tr>\n",
       "      <th>1343</th>\n",
       "      <td>0.0</td>\n",
       "      <td>0.0</td>\n",
       "      <td>0.0</td>\n",
       "      <td>0.0</td>\n",
       "      <td>0.0</td>\n",
       "      <td>0.0</td>\n",
       "      <td>1.0</td>\n",
       "      <td>0.0</td>\n",
       "      <td>0.0</td>\n",
       "      <td>0.0</td>\n",
       "      <td>...</td>\n",
       "      <td>1.0</td>\n",
       "      <td>0.0</td>\n",
       "      <td>0.0</td>\n",
       "      <td>0.0</td>\n",
       "      <td>0.0</td>\n",
       "      <td>0.0</td>\n",
       "      <td>0.0</td>\n",
       "      <td>0.0</td>\n",
       "      <td>0.0</td>\n",
       "      <td>0.0</td>\n",
       "    </tr>\n",
       "  </tbody>\n",
       "</table>\n",
       "<p>5 rows × 157 columns</p>\n",
       "</div>"
      ],
      "text/plain": [
       "      itching  rash  nodal skin eruptions  continuous sneezing  shivering  \\\n",
       "1339      0.0   0.0                   0.0                  0.0        0.0   \n",
       "1340      0.0   0.0                   0.0                  0.0        0.0   \n",
       "1341      0.0   0.0                   0.0                  0.0        0.0   \n",
       "1342      0.0   0.0                   0.0                  0.0        0.0   \n",
       "1343      0.0   0.0                   0.0                  0.0        0.0   \n",
       "\n",
       "      chills  joint pain  acidity  ulcers on tongue  muscle wasting  ...  \\\n",
       "1339     0.0         1.0      0.0               0.0             0.0  ...   \n",
       "1340     0.0         1.0      0.0               0.0             0.0  ...   \n",
       "1341     0.0         1.0      0.0               0.0             0.0  ...   \n",
       "1342     0.0         1.0      0.0               0.0             0.0  ...   \n",
       "1343     0.0         1.0      0.0               0.0             0.0  ...   \n",
       "\n",
       "      shoulder pain  head ache  mild fever  eye pain  less vision  red eye  \\\n",
       "1339            0.0        0.0         0.0       0.0          0.0      0.0   \n",
       "1340            1.0        0.0         0.0       0.0          0.0      0.0   \n",
       "1341            1.0        0.0         0.0       0.0          0.0      0.0   \n",
       "1342            1.0        0.0         0.0       0.0          0.0      0.0   \n",
       "1343            1.0        0.0         0.0       0.0          0.0      0.0   \n",
       "\n",
       "      child  kid  baby  ear pain  \n",
       "1339    0.0  0.0   0.0       0.0  \n",
       "1340    0.0  0.0   0.0       0.0  \n",
       "1341    0.0  0.0   0.0       0.0  \n",
       "1342    0.0  0.0   0.0       0.0  \n",
       "1343    0.0  0.0   0.0       0.0  \n",
       "\n",
       "[5 rows x 157 columns]"
      ]
     },
     "metadata": {},
     "output_type": "display_data"
    }
   ],
   "source": [
    "display(df.head())\n",
    "display(df.tail())"
   ]
  },
  {
   "cell_type": "markdown",
   "metadata": {},
   "source": [
    "## Transforming Prognosis to Doctor Type"
   ]
  },
  {
   "cell_type": "code",
   "execution_count": 105,
   "metadata": {},
   "outputs": [
    {
     "name": "stdout",
     "output_type": "stream",
     "text": [
      "['Fungal infection', 'Allergy', 'GERD', 'Chronic cholestasis', 'Drug Reaction', 'Peptic ulcer diseae', 'AIDS', 'Diabetes ', 'Gastroenteritis', 'Bronchial Asthma', 'Hypertension ', 'Migraine', 'Cervical spondylosis', 'Paralysis (brain hemorrhage)', 'Jaundice', 'Malaria', 'Chicken pox', 'Dengue', 'Typhoid', 'hepatitis A', 'Hepatitis B', 'Hepatitis C', 'Hepatitis D', 'Hepatitis E', 'Alcoholic hepatitis', 'Tuberculosis', 'Common Cold', 'Pneumonia', 'Dimorphic hemmorhoids(piles)', 'Heart attack', 'Varicose veins', 'Hypothyroidism', 'Hyperthyroidism', 'Hypoglycemia', 'Osteoarthristis', 'Arthritis', '(vertigo) Paroymsal  Positional Vertigo', 'Acne', 'Urinary tract infection', 'Psoriasis', 'Impetigo', 'dentist', 'neuroloigist', 'psychologist', 'ophthalmologist', 'Pediatrician']\n"
     ]
    },
    {
     "data": {
      "text/plain": [
       "46"
      ]
     },
     "execution_count": 105,
     "metadata": {},
     "output_type": "execute_result"
    }
   ],
   "source": [
    "d=list(df[\"prognosis\"].unique())\n",
    "print(d)\n",
    "len(d)"
   ]
  },
  {
   "cell_type": "code",
   "execution_count": 106,
   "metadata": {},
   "outputs": [
    {
     "data": {
      "text/plain": [
       "46"
      ]
     },
     "execution_count": 106,
     "metadata": {},
     "output_type": "execute_result"
    }
   ],
   "source": [
    "c=[2,1,3,3,1,\n",
    "   3,1,11,3,5,\n",
    "   6,1,7,8,3,1,\n",
    "   1,1,1,3,3,3\n",
    "   ,3,3,3,5,1,5,\n",
    "   1,6,1,4,4,4,\n",
    "   7,7,9,2,10,2,2,13,8,12,14,15]\n",
    "len(c)"
   ]
  },
  {
   "cell_type": "code",
   "execution_count": 107,
   "metadata": {},
   "outputs": [],
   "source": [
    "mapper={\n",
    "    'general':1,\n",
    "    'dermatoligist':2,\n",
    "    'gastroentolist':3,\n",
    "    'endocrinologist':4,\n",
    "    'pulmonologist':5,\n",
    "    'cardiologist':6,\n",
    "    'orthopedist':7,\n",
    "    'neurologist':8,\n",
    "    'ENT':9,\n",
    "    'urologist':10,\n",
    "    \"diabetics dep\":11,\n",
    "    \"psychologist\":12,\n",
    "    \"dentist\":13,\n",
    "    14:\"ophthalmologist\",\n",
    "15:\"pediatrician\"}\n",
    "\n",
    "invmap={1: 'general',\n",
    " 2: 'dermatoligist',\n",
    " 3: 'gastroentolist',\n",
    " 4: 'endocrinologist',\n",
    " 5: 'pulmonologist',\n",
    " 6: 'cardiologist',\n",
    " 7: 'orthopedist',\n",
    " 8: 'neurologist',\n",
    " 9: 'ENT',\n",
    " 10: 'urologist',\n",
    " 11: 'diabetics dep',\n",
    " 12:\"psychologist\",\n",
    " 13:\"dentist\",\n",
    "14:\"ophthalmologist\",\n",
    "15:\"pediatrician\"}"
   ]
  },
  {
   "cell_type": "code",
   "execution_count": null,
   "metadata": {},
   "outputs": [],
   "source": []
  },
  {
   "cell_type": "code",
   "execution_count": null,
   "metadata": {},
   "outputs": [],
   "source": []
  },
  {
   "cell_type": "code",
   "execution_count": 108,
   "metadata": {},
   "outputs": [
    {
     "name": "stdout",
     "output_type": "stream",
     "text": [
      "Fungal infection for 2 for dermatoligist\n",
      "Allergy for 1 for general\n",
      "GERD for 3 for gastroentolist\n",
      "Chronic cholestasis for 3 for gastroentolist\n",
      "Drug Reaction for 1 for general\n",
      "Peptic ulcer diseae for 3 for gastroentolist\n",
      "AIDS for 1 for general\n",
      "Diabetes  for 11 for diabetics dep\n",
      "Gastroenteritis for 3 for gastroentolist\n",
      "Bronchial Asthma for 5 for pulmonologist\n",
      "Hypertension  for 6 for cardiologist\n",
      "Migraine for 1 for general\n",
      "Cervical spondylosis for 7 for orthopedist\n",
      "Paralysis (brain hemorrhage) for 8 for neurologist\n",
      "Jaundice for 3 for gastroentolist\n",
      "Malaria for 1 for general\n",
      "Chicken pox for 1 for general\n",
      "Dengue for 1 for general\n",
      "Typhoid for 1 for general\n",
      "hepatitis A for 3 for gastroentolist\n",
      "Hepatitis B for 3 for gastroentolist\n",
      "Hepatitis C for 3 for gastroentolist\n",
      "Hepatitis D for 3 for gastroentolist\n",
      "Hepatitis E for 3 for gastroentolist\n",
      "Alcoholic hepatitis for 3 for gastroentolist\n",
      "Tuberculosis for 5 for pulmonologist\n",
      "Common Cold for 1 for general\n",
      "Pneumonia for 5 for pulmonologist\n",
      "Dimorphic hemmorhoids(piles) for 1 for general\n",
      "Heart attack for 6 for cardiologist\n",
      "Varicose veins for 1 for general\n",
      "Hypothyroidism for 4 for endocrinologist\n",
      "Hyperthyroidism for 4 for endocrinologist\n",
      "Hypoglycemia for 4 for endocrinologist\n",
      "Osteoarthristis for 7 for orthopedist\n",
      "Arthritis for 7 for orthopedist\n",
      "(vertigo) Paroymsal  Positional Vertigo for 9 for ENT\n",
      "Acne for 2 for dermatoligist\n",
      "Urinary tract infection for 10 for urologist\n",
      "Psoriasis for 2 for dermatoligist\n",
      "Impetigo for 2 for dermatoligist\n",
      "dentist for 13 for dentist\n",
      "neuroloigist for 8 for neurologist\n",
      "psychologist for 12 for psychologist\n",
      "ophthalmologist for 14 for ophthalmologist\n",
      "Pediatrician for 15 for pediatrician\n"
     ]
    }
   ],
   "source": [
    "for i in range(46):\n",
    "    print(\"{} for {} for {}\".format(d[i],c[i],invmap[c[i]]))"
   ]
  },
  {
   "cell_type": "code",
   "execution_count": 109,
   "metadata": {},
   "outputs": [
    {
     "data": {
      "text/plain": [
       "268     1.0\n",
       "269     1.0\n",
       "270     1.0\n",
       "271     1.0\n",
       "272     1.0\n",
       "273     1.0\n",
       "826     1.0\n",
       "827     1.0\n",
       "828     1.0\n",
       "829     1.0\n",
       "830     1.0\n",
       "883     1.0\n",
       "884     1.0\n",
       "885     1.0\n",
       "886     1.0\n",
       "887     1.0\n",
       "940     1.0\n",
       "941     1.0\n",
       "942     1.0\n",
       "943     1.0\n",
       "944     1.0\n",
       "997     1.0\n",
       "998     1.0\n",
       "999     1.0\n",
       "1000    1.0\n",
       "1001    1.0\n",
       "1054    1.0\n",
       "1055    1.0\n",
       "1056    1.0\n",
       "1057    1.0\n",
       "1058    1.0\n",
       "1111    1.0\n",
       "1112    1.0\n",
       "1113    1.0\n",
       "1114    1.0\n",
       "1115    1.0\n",
       "1168    1.0\n",
       "1169    1.0\n",
       "1170    1.0\n",
       "1171    1.0\n",
       "1172    1.0\n",
       "1225    1.0\n",
       "1226    1.0\n",
       "1227    1.0\n",
       "1228    1.0\n",
       "1229    1.0\n",
       "1282    1.0\n",
       "1283    1.0\n",
       "1284    1.0\n",
       "1285    1.0\n",
       "1286    1.0\n",
       "1339    1.0\n",
       "1340    1.0\n",
       "1341    1.0\n",
       "1342    1.0\n",
       "1343    1.0\n",
       "Name: joint pain, dtype: float64"
      ]
     },
     "execution_count": 109,
     "metadata": {},
     "output_type": "execute_result"
    }
   ],
   "source": [
    "df[df[\"prognosis\"]==\"Arthritis\"][\"joint pain\"]"
   ]
  },
  {
   "cell_type": "code",
   "execution_count": 110,
   "metadata": {},
   "outputs": [
    {
     "name": "stdout",
     "output_type": "stream",
     "text": [
      "0 times 0 \n",
      "11 times 1 \n",
      "4 times 2 \n",
      "11 times 3 \n",
      "3 times 4 \n",
      "3 times 5 \n",
      "2 times 6 \n",
      "3 times 7 \n",
      "2 times 8 \n",
      "1 times 9 \n",
      "1 times 10 \n",
      "1 times 11 \n",
      "1 times 12 \n",
      "1 times 13 \n",
      "1 times 14 \n"
     ]
    }
   ],
   "source": [
    "for i in range (15):\n",
    "    print(\"{} times {} \".format(c.count(i),i))"
   ]
  },
  {
   "cell_type": "code",
   "execution_count": 111,
   "metadata": {},
   "outputs": [],
   "source": [
    "trans={key: c[d.index(key)] for key in d}    #Working"
   ]
  },
  {
   "cell_type": "code",
   "execution_count": 112,
   "metadata": {},
   "outputs": [
    {
     "data": {
      "text/plain": [
       "2"
      ]
     },
     "execution_count": 112,
     "metadata": {},
     "output_type": "execute_result"
    }
   ],
   "source": [
    "c[d.index(\"Acne\")]  ##Checking"
   ]
  },
  {
   "cell_type": "code",
   "execution_count": 113,
   "metadata": {},
   "outputs": [
    {
     "data": {
      "text/plain": [
       "{'Fungal infection': 2,\n",
       " 'Allergy': 1,\n",
       " 'GERD': 3,\n",
       " 'Chronic cholestasis': 3,\n",
       " 'Drug Reaction': 1,\n",
       " 'Peptic ulcer diseae': 3,\n",
       " 'AIDS': 1,\n",
       " 'Diabetes ': 11,\n",
       " 'Gastroenteritis': 3,\n",
       " 'Bronchial Asthma': 5,\n",
       " 'Hypertension ': 6,\n",
       " 'Migraine': 1,\n",
       " 'Cervical spondylosis': 7,\n",
       " 'Paralysis (brain hemorrhage)': 8,\n",
       " 'Jaundice': 3,\n",
       " 'Malaria': 1,\n",
       " 'Chicken pox': 1,\n",
       " 'Dengue': 1,\n",
       " 'Typhoid': 1,\n",
       " 'hepatitis A': 3,\n",
       " 'Hepatitis B': 3,\n",
       " 'Hepatitis C': 3,\n",
       " 'Hepatitis D': 3,\n",
       " 'Hepatitis E': 3,\n",
       " 'Alcoholic hepatitis': 3,\n",
       " 'Tuberculosis': 5,\n",
       " 'Common Cold': 1,\n",
       " 'Pneumonia': 5,\n",
       " 'Dimorphic hemmorhoids(piles)': 1,\n",
       " 'Heart attack': 6,\n",
       " 'Varicose veins': 1,\n",
       " 'Hypothyroidism': 4,\n",
       " 'Hyperthyroidism': 4,\n",
       " 'Hypoglycemia': 4,\n",
       " 'Osteoarthristis': 7,\n",
       " 'Arthritis': 7,\n",
       " '(vertigo) Paroymsal  Positional Vertigo': 9,\n",
       " 'Acne': 2,\n",
       " 'Urinary tract infection': 10,\n",
       " 'Psoriasis': 2,\n",
       " 'Impetigo': 2,\n",
       " 'dentist': 13,\n",
       " 'neuroloigist': 8,\n",
       " 'psychologist': 12,\n",
       " 'ophthalmologist': 14,\n",
       " 'Pediatrician': 15}"
      ]
     },
     "execution_count": 113,
     "metadata": {},
     "output_type": "execute_result"
    }
   ],
   "source": [
    "trans # Mapping Done"
   ]
  },
  {
   "cell_type": "code",
   "execution_count": 114,
   "metadata": {},
   "outputs": [],
   "source": [
    "df[\"prognosis\"]=df[\"prognosis\"].map(trans)"
   ]
  },
  {
   "cell_type": "code",
   "execution_count": 115,
   "metadata": {},
   "outputs": [
    {
     "data": {
      "text/plain": [
       "0       2\n",
       "1       2\n",
       "2       2\n",
       "3       2\n",
       "4       2\n",
       "       ..\n",
       "1339    7\n",
       "1340    7\n",
       "1341    7\n",
       "1342    7\n",
       "1343    7\n",
       "Name: prognosis, Length: 1344, dtype: int64"
      ]
     },
     "execution_count": 115,
     "metadata": {},
     "output_type": "execute_result"
    }
   ],
   "source": [
    "df[\"prognosis\"]"
   ]
  },
  {
   "cell_type": "code",
   "execution_count": 116,
   "metadata": {},
   "outputs": [
    {
     "data": {
      "text/plain": [
       "1     196\n",
       "6     131\n",
       "14    120\n",
       "13    120\n",
       "15    110\n",
       "12    100\n",
       "4      96\n",
       "3      88\n",
       "8      75\n",
       "7      69\n",
       "10     65\n",
       "11     59\n",
       "2      53\n",
       "9      37\n",
       "5      25\n",
       "Name: prognosis, dtype: int64"
      ]
     },
     "execution_count": 116,
     "metadata": {},
     "output_type": "execute_result"
    }
   ],
   "source": [
    "df[\"prognosis\"].value_counts()"
   ]
  },
  {
   "cell_type": "code",
   "execution_count": 117,
   "metadata": {},
   "outputs": [
    {
     "data": {
      "text/plain": [
       "{1: 'general',\n",
       " 2: 'dermatoligist',\n",
       " 3: 'gastroentolist',\n",
       " 4: 'endocrinologist',\n",
       " 5: 'pulmonologist',\n",
       " 6: 'cardiologist',\n",
       " 7: 'orthopedist',\n",
       " 8: 'neurologist',\n",
       " 9: 'ENT',\n",
       " 10: 'urologist',\n",
       " 11: 'diabetics dep',\n",
       " 12: 'psychologist',\n",
       " 13: 'dentist',\n",
       " 14: 'ophthalmologist',\n",
       " 15: 'pediatrician'}"
      ]
     },
     "execution_count": 117,
     "metadata": {},
     "output_type": "execute_result"
    }
   ],
   "source": [
    "invmap"
   ]
  },
  {
   "cell_type": "code",
   "execution_count": 118,
   "metadata": {},
   "outputs": [],
   "source": [
    "df.loc[df.prognosis == 5, 'wheezing'] = 1\n",
    "df.loc[df.prognosis == 11, 'frequent urination'] = 1\n"
   ]
  },
  {
   "cell_type": "code",
   "execution_count": 119,
   "metadata": {},
   "outputs": [
    {
     "data": {
      "text/plain": [
       "1.0    63\n",
       "0.0     6\n",
       "Name: joint pain, dtype: int64"
      ]
     },
     "execution_count": 119,
     "metadata": {},
     "output_type": "execute_result"
    }
   ],
   "source": [
    "df.loc[df.prognosis==7,\"joint pain\"].value_counts()"
   ]
  },
  {
   "cell_type": "code",
   "execution_count": 120,
   "metadata": {},
   "outputs": [],
   "source": [
    "##Deleting Urologist,Virologist,ENT,pediatrc"
   ]
  },
  {
   "cell_type": "code",
   "execution_count": 121,
   "metadata": {},
   "outputs": [
    {
     "name": "stdout",
     "output_type": "stream",
     "text": [
      "['itching', 'rash', 'nodal skin eruptions', 'continuous sneezing', 'shivering', 'chills', 'joint pain', 'acidity', 'ulcers on tongue', 'muscle wasting', 'vomiting', 'burning micturition', 'spotting  urination', 'fatigue', 'weight gain', 'anxiety', 'cold hands and feets', 'mood swings', 'weight loss', 'restlessness', 'lethargy', 'patches in throat', 'irregular sugar level', 'cough', 'high fever', 'sunken eyes', 'breathlessness', 'sweating', 'dehydration', 'indigestion', 'headache', 'yellowish skin', 'dark urine', 'nausea', 'loss of appetite', 'pain behind the eyes', 'back pain', 'constipation', 'abdominal pain', 'diarrhoea', 'fever', 'yellow urine', 'yellowing of eyes', 'acute liver failure', 'fluid overload', 'swelling of stomach', 'swelled lymph nodes', 'malaise', 'blurred and distorted vision', 'phlegm', 'throat pain', 'redness of eyes', 'sinus pressure', 'runny nose', 'congestion', 'chest pain', 'weakness in limbs', 'fast heart rate', 'pain during bowel movements', 'pain in anal region', 'bloody stool', 'irritation in anus', 'neck pain', 'dizziness', 'cramps', 'bruising', 'obesity', 'swollen legs', 'swollen blood vessels', 'puffy face and eyes', 'enlarged thyroid', 'brittle nails', 'swollen extremeties', 'hunger', 'extra marital contacts', 'drying and tingling lips', 'slurred speech', 'knee pain', 'hip joint pain', 'muscle weakness', 'stiff neck', 'swelling joints', 'movement stiffness', 'spinning movements', 'loss of balance', 'unsteadiness', 'weakness of one body side', 'loss of smell', 'bladder discomfort', 'foul smell of urine', 'continuous feel of urine', 'passage of gases', 'internal itching', 'toxic look (typhos)', 'depression', 'irritability', 'muscle pain', 'altered sensorium', 'red spots over body', 'belly pain', 'abnormal menstruation', 'dischromic  patches', 'watering from eyes', 'increased appetite', 'polyuria', 'family history', 'mucoid sputum', 'rusty sputum', 'lack of concentration', 'visual disturbances', 'receiving blood transfusion', 'receiving unsterile injections', 'coma', 'stomach bleeding', 'distention of abdomen', 'history of alcohol consumption', 'fluid overload.1', 'blood in sputum', 'prominent veins on calf', 'palpitations', 'painful walking', 'pus filled pimples', 'blackheads', 'scurring', 'skin peeling', 'silver like dusting', 'small dents in nails', 'inflammatory nails', 'blister', 'red sore around nose', 'yellow crust ooze', 'prognosis', 'arm pain', '', 'painlessness', 'cavity', 'oral pain', 'toothache', 'fits', 'mental confusion', 'paralaysis', 'seizure', 'sucidal thoughts', 'bumps', 'rashes', 'tiredness', 'stomach pain', 'shoulder pain', 'head ache', 'mild fever', 'eye pain', 'less vision', 'red eye', 'child', 'kid', 'baby', 'ear pain', 'wheezing', 'frequent urination']\n"
     ]
    }
   ],
   "source": [
    "print(list(df.columns))"
   ]
  },
  {
   "cell_type": "code",
   "execution_count": 122,
   "metadata": {},
   "outputs": [],
   "source": [
    "df.fillna(0,inplace=True)"
   ]
  },
  {
   "cell_type": "code",
   "execution_count": 123,
   "metadata": {},
   "outputs": [
    {
     "data": {
      "text/html": [
       "<div>\n",
       "<style scoped>\n",
       "    .dataframe tbody tr th:only-of-type {\n",
       "        vertical-align: middle;\n",
       "    }\n",
       "\n",
       "    .dataframe tbody tr th {\n",
       "        vertical-align: top;\n",
       "    }\n",
       "\n",
       "    .dataframe thead th {\n",
       "        text-align: right;\n",
       "    }\n",
       "</style>\n",
       "<table border=\"1\" class=\"dataframe\">\n",
       "  <thead>\n",
       "    <tr style=\"text-align: right;\">\n",
       "      <th></th>\n",
       "      <th>itching</th>\n",
       "      <th>rash</th>\n",
       "      <th>nodal skin eruptions</th>\n",
       "      <th>continuous sneezing</th>\n",
       "      <th>shivering</th>\n",
       "      <th>chills</th>\n",
       "      <th>joint pain</th>\n",
       "      <th>acidity</th>\n",
       "      <th>ulcers on tongue</th>\n",
       "      <th>muscle wasting</th>\n",
       "      <th>...</th>\n",
       "      <th>mild fever</th>\n",
       "      <th>eye pain</th>\n",
       "      <th>less vision</th>\n",
       "      <th>red eye</th>\n",
       "      <th>child</th>\n",
       "      <th>kid</th>\n",
       "      <th>baby</th>\n",
       "      <th>ear pain</th>\n",
       "      <th>wheezing</th>\n",
       "      <th>frequent urination</th>\n",
       "    </tr>\n",
       "  </thead>\n",
       "  <tbody>\n",
       "    <tr>\n",
       "      <th>1339</th>\n",
       "      <td>0.0</td>\n",
       "      <td>0.0</td>\n",
       "      <td>0.0</td>\n",
       "      <td>0.0</td>\n",
       "      <td>0.0</td>\n",
       "      <td>0.0</td>\n",
       "      <td>1.0</td>\n",
       "      <td>0.0</td>\n",
       "      <td>0.0</td>\n",
       "      <td>0.0</td>\n",
       "      <td>...</td>\n",
       "      <td>0.0</td>\n",
       "      <td>0.0</td>\n",
       "      <td>0.0</td>\n",
       "      <td>0.0</td>\n",
       "      <td>0.0</td>\n",
       "      <td>0.0</td>\n",
       "      <td>0.0</td>\n",
       "      <td>0.0</td>\n",
       "      <td>0.0</td>\n",
       "      <td>0.0</td>\n",
       "    </tr>\n",
       "    <tr>\n",
       "      <th>1340</th>\n",
       "      <td>0.0</td>\n",
       "      <td>0.0</td>\n",
       "      <td>0.0</td>\n",
       "      <td>0.0</td>\n",
       "      <td>0.0</td>\n",
       "      <td>0.0</td>\n",
       "      <td>1.0</td>\n",
       "      <td>0.0</td>\n",
       "      <td>0.0</td>\n",
       "      <td>0.0</td>\n",
       "      <td>...</td>\n",
       "      <td>0.0</td>\n",
       "      <td>0.0</td>\n",
       "      <td>0.0</td>\n",
       "      <td>0.0</td>\n",
       "      <td>0.0</td>\n",
       "      <td>0.0</td>\n",
       "      <td>0.0</td>\n",
       "      <td>0.0</td>\n",
       "      <td>0.0</td>\n",
       "      <td>0.0</td>\n",
       "    </tr>\n",
       "    <tr>\n",
       "      <th>1341</th>\n",
       "      <td>0.0</td>\n",
       "      <td>0.0</td>\n",
       "      <td>0.0</td>\n",
       "      <td>0.0</td>\n",
       "      <td>0.0</td>\n",
       "      <td>0.0</td>\n",
       "      <td>1.0</td>\n",
       "      <td>0.0</td>\n",
       "      <td>0.0</td>\n",
       "      <td>0.0</td>\n",
       "      <td>...</td>\n",
       "      <td>0.0</td>\n",
       "      <td>0.0</td>\n",
       "      <td>0.0</td>\n",
       "      <td>0.0</td>\n",
       "      <td>0.0</td>\n",
       "      <td>0.0</td>\n",
       "      <td>0.0</td>\n",
       "      <td>0.0</td>\n",
       "      <td>0.0</td>\n",
       "      <td>0.0</td>\n",
       "    </tr>\n",
       "    <tr>\n",
       "      <th>1342</th>\n",
       "      <td>0.0</td>\n",
       "      <td>0.0</td>\n",
       "      <td>0.0</td>\n",
       "      <td>0.0</td>\n",
       "      <td>0.0</td>\n",
       "      <td>0.0</td>\n",
       "      <td>1.0</td>\n",
       "      <td>0.0</td>\n",
       "      <td>0.0</td>\n",
       "      <td>0.0</td>\n",
       "      <td>...</td>\n",
       "      <td>0.0</td>\n",
       "      <td>0.0</td>\n",
       "      <td>0.0</td>\n",
       "      <td>0.0</td>\n",
       "      <td>0.0</td>\n",
       "      <td>0.0</td>\n",
       "      <td>0.0</td>\n",
       "      <td>0.0</td>\n",
       "      <td>0.0</td>\n",
       "      <td>0.0</td>\n",
       "    </tr>\n",
       "    <tr>\n",
       "      <th>1343</th>\n",
       "      <td>0.0</td>\n",
       "      <td>0.0</td>\n",
       "      <td>0.0</td>\n",
       "      <td>0.0</td>\n",
       "      <td>0.0</td>\n",
       "      <td>0.0</td>\n",
       "      <td>1.0</td>\n",
       "      <td>0.0</td>\n",
       "      <td>0.0</td>\n",
       "      <td>0.0</td>\n",
       "      <td>...</td>\n",
       "      <td>0.0</td>\n",
       "      <td>0.0</td>\n",
       "      <td>0.0</td>\n",
       "      <td>0.0</td>\n",
       "      <td>0.0</td>\n",
       "      <td>0.0</td>\n",
       "      <td>0.0</td>\n",
       "      <td>0.0</td>\n",
       "      <td>0.0</td>\n",
       "      <td>0.0</td>\n",
       "    </tr>\n",
       "  </tbody>\n",
       "</table>\n",
       "<p>5 rows × 159 columns</p>\n",
       "</div>"
      ],
      "text/plain": [
       "      itching  rash  nodal skin eruptions  continuous sneezing  shivering  \\\n",
       "1339      0.0   0.0                   0.0                  0.0        0.0   \n",
       "1340      0.0   0.0                   0.0                  0.0        0.0   \n",
       "1341      0.0   0.0                   0.0                  0.0        0.0   \n",
       "1342      0.0   0.0                   0.0                  0.0        0.0   \n",
       "1343      0.0   0.0                   0.0                  0.0        0.0   \n",
       "\n",
       "      chills  joint pain  acidity  ulcers on tongue  muscle wasting  ...  \\\n",
       "1339     0.0         1.0      0.0               0.0             0.0  ...   \n",
       "1340     0.0         1.0      0.0               0.0             0.0  ...   \n",
       "1341     0.0         1.0      0.0               0.0             0.0  ...   \n",
       "1342     0.0         1.0      0.0               0.0             0.0  ...   \n",
       "1343     0.0         1.0      0.0               0.0             0.0  ...   \n",
       "\n",
       "      mild fever  eye pain  less vision  red eye  child  kid  baby  ear pain  \\\n",
       "1339         0.0       0.0          0.0      0.0    0.0  0.0   0.0       0.0   \n",
       "1340         0.0       0.0          0.0      0.0    0.0  0.0   0.0       0.0   \n",
       "1341         0.0       0.0          0.0      0.0    0.0  0.0   0.0       0.0   \n",
       "1342         0.0       0.0          0.0      0.0    0.0  0.0   0.0       0.0   \n",
       "1343         0.0       0.0          0.0      0.0    0.0  0.0   0.0       0.0   \n",
       "\n",
       "      wheezing  frequent urination  \n",
       "1339       0.0                 0.0  \n",
       "1340       0.0                 0.0  \n",
       "1341       0.0                 0.0  \n",
       "1342       0.0                 0.0  \n",
       "1343       0.0                 0.0  \n",
       "\n",
       "[5 rows x 159 columns]"
      ]
     },
     "execution_count": 123,
     "metadata": {},
     "output_type": "execute_result"
    }
   ],
   "source": [
    "df.tail()"
   ]
  },
  {
   "cell_type": "code",
   "execution_count": 124,
   "metadata": {},
   "outputs": [],
   "source": [
    "df.rename(columns={\"prognosis\":\"department\"},inplace=True)\n",
    "df[[\"1\",\"2\",\"3\",\"4\",\"5\",\"6\",\"7\",\"8\",\"9\",\"10\",\"11\",\"12\",\"13\",\"14\",\"15\"]]=pd.get_dummies(data=df[\"department\"])"
   ]
  },
  {
   "cell_type": "code",
   "execution_count": 125,
   "metadata": {},
   "outputs": [],
   "source": [
    "df.to_csv('cleaned_data.csv') "
   ]
  },
  {
   "cell_type": "code",
   "execution_count": 126,
   "metadata": {},
   "outputs": [
    {
     "name": "stdout",
     "output_type": "stream",
     "text": [
      "['itching', 'rash', 'nodal skin eruptions', 'continuous sneezing', 'shivering', 'chills', 'joint pain', 'acidity', 'ulcers on tongue', 'muscle wasting', 'vomiting', 'burning micturition', 'spotting  urination', 'fatigue', 'weight gain', 'anxiety', 'cold hands and feets', 'mood swings', 'weight loss', 'restlessness', 'lethargy', 'patches in throat', 'irregular sugar level', 'cough', 'high fever', 'sunken eyes', 'breathlessness', 'sweating', 'dehydration', 'indigestion', 'headache', 'yellowish skin', 'dark urine', 'nausea', 'loss of appetite', 'pain behind the eyes', 'back pain', 'constipation', 'abdominal pain', 'diarrhoea', 'fever', 'yellow urine', 'yellowing of eyes', 'acute liver failure', 'fluid overload', 'swelling of stomach', 'swelled lymph nodes', 'malaise', 'blurred and distorted vision', 'phlegm', 'throat pain', 'redness of eyes', 'sinus pressure', 'runny nose', 'congestion', 'chest pain', 'weakness in limbs', 'fast heart rate', 'pain during bowel movements', 'pain in anal region', 'bloody stool', 'irritation in anus', 'neck pain', 'dizziness', 'cramps', 'bruising', 'obesity', 'swollen legs', 'swollen blood vessels', 'puffy face and eyes', 'enlarged thyroid', 'brittle nails', 'swollen extremeties', 'hunger', 'extra marital contacts', 'drying and tingling lips', 'slurred speech', 'knee pain', 'hip joint pain', 'muscle weakness', 'stiff neck', 'swelling joints', 'movement stiffness', 'spinning movements', 'loss of balance', 'unsteadiness', 'weakness of one body side', 'loss of smell', 'bladder discomfort', 'foul smell of urine', 'continuous feel of urine', 'passage of gases', 'internal itching', 'toxic look (typhos)', 'depression', 'irritability', 'muscle pain', 'altered sensorium', 'red spots over body', 'belly pain', 'abnormal menstruation', 'dischromic  patches', 'watering from eyes', 'increased appetite', 'polyuria', 'family history', 'mucoid sputum', 'rusty sputum', 'lack of concentration', 'visual disturbances', 'receiving blood transfusion', 'receiving unsterile injections', 'coma', 'stomach bleeding', 'distention of abdomen', 'history of alcohol consumption', 'fluid overload.1', 'blood in sputum', 'prominent veins on calf', 'palpitations', 'painful walking', 'pus filled pimples', 'blackheads', 'scurring', 'skin peeling', 'silver like dusting', 'small dents in nails', 'inflammatory nails', 'blister', 'red sore around nose', 'yellow crust ooze', 'department', 'arm pain', '', 'painlessness', 'cavity', 'oral pain', 'toothache', 'fits', 'mental confusion', 'paralaysis', 'seizure', 'sucidal thoughts', 'bumps', 'rashes', 'tiredness', 'stomach pain', 'shoulder pain', 'head ache', 'mild fever', 'eye pain', 'less vision', 'red eye', 'child', 'kid', 'baby', 'ear pain', 'wheezing', 'frequent urination', '1', '2', '3', '4', '5', '6', '7', '8', '9', '10', '11', '12', '13', '14', '15']\n"
     ]
    }
   ],
   "source": [
    "print(list(df.columns))"
   ]
  },
  {
   "cell_type": "code",
   "execution_count": 127,
   "metadata": {},
   "outputs": [
    {
     "data": {
      "text/plain": [
       "174"
      ]
     },
     "execution_count": 127,
     "metadata": {},
     "output_type": "execute_result"
    }
   ],
   "source": [
    "len(df.columns)"
   ]
  },
  {
   "cell_type": "code",
   "execution_count": 128,
   "metadata": {},
   "outputs": [],
   "source": [
    "X_train, X_test, y_train, y_test = train_test_split(df.drop(labels=[\"department\",\"1\",\"2\",\"3\",\"4\",\"5\",\"6\",\"7\",\"8\",\"9\",\"10\",\"11\",\"12\",\"13\",\"14\",\"15\"],axis=1),df[[\"1\",\"2\",\"3\",\"4\",\"5\",\"6\",\"7\",\"8\",\"9\",\"10\",\"11\",\"12\",\"13\",\"14\",\"15\"]] , test_size=0.20, random_state=42)"
   ]
  },
  {
   "cell_type": "code",
   "execution_count": 129,
   "metadata": {},
   "outputs": [
    {
     "data": {
      "text/plain": [
       "158"
      ]
     },
     "execution_count": 129,
     "metadata": {},
     "output_type": "execute_result"
    }
   ],
   "source": [
    "len(X_train.columns)"
   ]
  },
  {
   "cell_type": "code",
   "execution_count": 130,
   "metadata": {},
   "outputs": [
    {
     "name": "stdout",
     "output_type": "stream",
     "text": [
      "['itching', 'rash', 'nodal skin eruptions', 'continuous sneezing', 'shivering', 'chills', 'joint pain', 'acidity', 'ulcers on tongue', 'muscle wasting', 'vomiting', 'burning micturition', 'spotting  urination', 'fatigue', 'weight gain', 'anxiety', 'cold hands and feets', 'mood swings', 'weight loss', 'restlessness', 'lethargy', 'patches in throat', 'irregular sugar level', 'cough', 'high fever', 'sunken eyes', 'breathlessness', 'sweating', 'dehydration', 'indigestion', 'headache', 'yellowish skin', 'dark urine', 'nausea', 'loss of appetite', 'pain behind the eyes', 'back pain', 'constipation', 'abdominal pain', 'diarrhoea', 'fever', 'yellow urine', 'yellowing of eyes', 'acute liver failure', 'fluid overload', 'swelling of stomach', 'swelled lymph nodes', 'malaise', 'blurred and distorted vision', 'phlegm', 'throat pain', 'redness of eyes', 'sinus pressure', 'runny nose', 'congestion', 'chest pain', 'weakness in limbs', 'fast heart rate', 'pain during bowel movements', 'pain in anal region', 'bloody stool', 'irritation in anus', 'neck pain', 'dizziness', 'cramps', 'bruising', 'obesity', 'swollen legs', 'swollen blood vessels', 'puffy face and eyes', 'enlarged thyroid', 'brittle nails', 'swollen extremeties', 'hunger', 'extra marital contacts', 'drying and tingling lips', 'slurred speech', 'knee pain', 'hip joint pain', 'muscle weakness', 'stiff neck', 'swelling joints', 'movement stiffness', 'spinning movements', 'loss of balance', 'unsteadiness', 'weakness of one body side', 'loss of smell', 'bladder discomfort', 'foul smell of urine', 'continuous feel of urine', 'passage of gases', 'internal itching', 'toxic look (typhos)', 'depression', 'irritability', 'muscle pain', 'altered sensorium', 'red spots over body', 'belly pain', 'abnormal menstruation', 'dischromic  patches', 'watering from eyes', 'increased appetite', 'polyuria', 'family history', 'mucoid sputum', 'rusty sputum', 'lack of concentration', 'visual disturbances', 'receiving blood transfusion', 'receiving unsterile injections', 'coma', 'stomach bleeding', 'distention of abdomen', 'history of alcohol consumption', 'fluid overload.1', 'blood in sputum', 'prominent veins on calf', 'palpitations', 'painful walking', 'pus filled pimples', 'blackheads', 'scurring', 'skin peeling', 'silver like dusting', 'small dents in nails', 'inflammatory nails', 'blister', 'red sore around nose', 'yellow crust ooze', 'arm pain', '', 'painlessness', 'cavity', 'oral pain', 'toothache', 'fits', 'mental confusion', 'paralaysis', 'seizure', 'sucidal thoughts', 'bumps', 'rashes', 'tiredness', 'stomach pain', 'shoulder pain', 'head ache', 'mild fever', 'eye pain', 'less vision', 'red eye', 'child', 'kid', 'baby', 'ear pain', 'wheezing', 'frequent urination']\n"
     ]
    }
   ],
   "source": [
    "print(list(X_train.columns))"
   ]
  },
  {
   "cell_type": "code",
   "execution_count": 131,
   "metadata": {},
   "outputs": [],
   "source": [
    "#confusion_matrix(\n",
    "  #  y_test.values.argmax(axis=1), y_pred.argmax(axis=1))"
   ]
  },
  {
   "cell_type": "code",
   "execution_count": 132,
   "metadata": {},
   "outputs": [
    {
     "data": {
      "text/plain": [
       "RandomForestClassifier(criterion='entropy', n_estimators=11, random_state=42)"
      ]
     },
     "execution_count": 132,
     "metadata": {},
     "output_type": "execute_result"
    }
   ],
   "source": [
    "classifier = RandomForestClassifier(n_estimators = 11, criterion = 'entropy', random_state = 42)\n",
    "classifier.fit(X_train, y_train)"
   ]
  },
  {
   "cell_type": "code",
   "execution_count": 133,
   "metadata": {},
   "outputs": [
    {
     "data": {
      "text/plain": [
       "0.9776951672862454"
      ]
     },
     "execution_count": 133,
     "metadata": {},
     "output_type": "execute_result"
    }
   ],
   "source": [
    "classifier.score(X_test, y_test)"
   ]
  },
  {
   "cell_type": "code",
   "execution_count": 134,
   "metadata": {},
   "outputs": [],
   "source": [
    "pred=classifier.predict(X_test)"
   ]
  },
  {
   "cell_type": "code",
   "execution_count": 135,
   "metadata": {},
   "outputs": [
    {
     "data": {
      "text/plain": [
       "array([[48,  0,  0,  2,  0,  0,  0,  0,  0,  0,  0,  0,  0,  0,  0],\n",
       "       [ 0,  9,  0,  0,  0,  0,  0,  0,  0,  0,  0,  0,  0,  0,  0],\n",
       "       [ 2,  0,  9,  0,  0,  0,  0,  0,  0,  0,  0,  0,  0,  0,  0],\n",
       "       [ 0,  0,  0, 31,  0,  0,  0,  0,  0,  0,  0,  0,  0,  0,  0],\n",
       "       [ 0,  0,  0,  0,  6,  0,  0,  0,  0,  0,  0,  0,  0,  0,  0],\n",
       "       [ 0,  0,  0,  0,  0, 23,  0,  0,  0,  0,  0,  0,  0,  0,  0],\n",
       "       [ 0,  0,  0,  0,  0,  0, 10,  0,  0,  0,  0,  0,  0,  0,  0],\n",
       "       [ 0,  0,  0,  0,  0,  0,  0, 11,  0,  0,  0,  0,  0,  0,  0],\n",
       "       [ 1,  0,  0,  0,  0,  0,  0,  0,  7,  0,  0,  0,  0,  0,  0],\n",
       "       [ 0,  0,  0,  0,  0,  0,  0,  0,  0, 17,  0,  0,  0,  0,  0],\n",
       "       [ 0,  0,  0,  0,  0,  0,  0,  0,  0,  0, 16,  0,  0,  0,  0],\n",
       "       [ 0,  0,  0,  0,  0,  0,  0,  0,  0,  0,  0, 18,  0,  0,  0],\n",
       "       [ 0,  0,  0,  0,  0,  0,  0,  0,  0,  0,  0,  0, 18,  0,  0],\n",
       "       [ 0,  0,  0,  0,  0,  0,  0,  0,  0,  0,  0,  0,  0, 20,  0],\n",
       "       [ 0,  0,  0,  0,  0,  0,  0,  0,  0,  0,  0,  0,  0,  0, 21]],\n",
       "      dtype=int64)"
      ]
     },
     "execution_count": 135,
     "metadata": {},
     "output_type": "execute_result"
    }
   ],
   "source": [
    "confusion_matrix(\n",
    "    y_test.values.argmax(axis=1), pred.argmax(axis=1))"
   ]
  },
  {
   "cell_type": "code",
   "execution_count": 136,
   "metadata": {},
   "outputs": [
    {
     "name": "stdout",
     "output_type": "stream",
     "text": [
      "Train on 1075 samples, validate on 269 samples\n",
      "Epoch 1/15\n",
      "1075/1075 [==============================] - 1s 567us/sample - loss: 2.4633 - accuracy: 0.3693 - val_loss: 2.1923 - val_accuracy: 0.6877\n",
      "Epoch 2/15\n",
      "1075/1075 [==============================] - 0s 78us/sample - loss: 1.9365 - accuracy: 0.7972 - val_loss: 1.6441 - val_accuracy: 0.8848\n",
      "Epoch 3/15\n",
      "1075/1075 [==============================] - 0s 76us/sample - loss: 1.3728 - accuracy: 0.8949 - val_loss: 1.0986 - val_accuracy: 0.9257\n",
      "Epoch 4/15\n",
      "1075/1075 [==============================] - 0s 80us/sample - loss: 0.8840 - accuracy: 0.9581 - val_loss: 0.6916 - val_accuracy: 0.9628\n",
      "Epoch 5/15\n",
      "1075/1075 [==============================] - 0s 83us/sample - loss: 0.5601 - accuracy: 0.9860 - val_loss: 0.4460 - val_accuracy: 0.9888\n",
      "Epoch 6/15\n",
      "1075/1075 [==============================] - 0s 80us/sample - loss: 0.3645 - accuracy: 0.9935 - val_loss: 0.2994 - val_accuracy: 0.9963\n",
      "Epoch 7/15\n",
      "1075/1075 [==============================] - 0s 78us/sample - loss: 0.2458 - accuracy: 0.9972 - val_loss: 0.2074 - val_accuracy: 0.9963\n",
      "Epoch 8/15\n",
      "1075/1075 [==============================] - 0s 78us/sample - loss: 0.1728 - accuracy: 0.9991 - val_loss: 0.1498 - val_accuracy: 0.9963\n",
      "Epoch 9/15\n",
      "1075/1075 [==============================] - 0s 76us/sample - loss: 0.1258 - accuracy: 0.9991 - val_loss: 0.1129 - val_accuracy: 0.9963\n",
      "Epoch 10/15\n",
      "1075/1075 [==============================] - 0s 73us/sample - loss: 0.0943 - accuracy: 0.9991 - val_loss: 0.0882 - val_accuracy: 0.9963\n",
      "Epoch 11/15\n",
      "1075/1075 [==============================] - 0s 75us/sample - loss: 0.0732 - accuracy: 0.9991 - val_loss: 0.0709 - val_accuracy: 0.9963\n",
      "Epoch 12/15\n",
      "1075/1075 [==============================] - 0s 82us/sample - loss: 0.0584 - accuracy: 0.9991 - val_loss: 0.0577 - val_accuracy: 0.9963\n",
      "Epoch 13/15\n",
      "1075/1075 [==============================] - 0s 73us/sample - loss: 0.0475 - accuracy: 1.0000 - val_loss: 0.0488 - val_accuracy: 0.9963\n",
      "Epoch 14/15\n",
      "1075/1075 [==============================] - 0s 71us/sample - loss: 0.0393 - accuracy: 1.0000 - val_loss: 0.0418 - val_accuracy: 0.9963\n",
      "Epoch 15/15\n",
      "1075/1075 [==============================] - 0s 76us/sample - loss: 0.0332 - accuracy: 1.0000 - val_loss: 0.0364 - val_accuracy: 0.9963\n"
     ]
    }
   ],
   "source": [
    "model1=Sequential()\n",
    "model1.add(Dense(100, kernel_initializer= \"glorot_uniform\", activation = \"relu\", input_dim = 158))\n",
    "model1.add(Dense(15, activation = \"softmax\"))\n",
    "model1.compile(optimizer = \"Adam\", loss =\"categorical_crossentropy\", metrics = [\"accuracy\"])\n",
    "history=model1.fit(X_train, y_train, epochs = 15,verbose=1,validation_data=[X_test,y_test])"
   ]
  },
  {
   "cell_type": "code",
   "execution_count": 137,
   "metadata": {},
   "outputs": [
    {
     "data": {
      "image/png": "[encoded data removed]",
      "text/plain": [
       "<Figure size 720x720 with 2 Axes>"
      ]
     },
     "metadata": {
      "needs_background": "light"
     },
     "output_type": "display_data"
    }
   ],
   "source": [
    "plt.figure(figsize=(10,10))\n",
    "plt.subplot(2,2,1)\n",
    "plt.plot(history.history['accuracy'])\n",
    "plt.plot(history.history['val_accuracy'])\n",
    "plt.title('model accuracy')\n",
    "plt.ylabel('accuracy')\n",
    "plt.xlabel('epoch')\n",
    "plt.legend(['train', 'test'], loc='upper left')\n",
    "\n",
    "plt.subplot(2,2,2)\n",
    "plt.plot(history.history['loss'])\n",
    "plt.plot(history.history['val_loss'])\n",
    "plt.title('model loss')\n",
    "plt.ylabel('loss')\n",
    "plt.xlabel('epoch')\n",
    "plt.legend(['train', 'test'], loc='upper left')\n",
    "plt.show()"
   ]
  },
  {
   "cell_type": "code",
   "execution_count": 138,
   "metadata": {},
   "outputs": [
    {
     "name": "stdout",
     "output_type": "stream",
     "text": [
      "Train on 1075 samples, validate on 269 samples\n",
      "Epoch 1/10\n",
      "1075/1075 [==============================] - 1s 575us/sample - loss: 2.5305 - accuracy: 0.4623 - val_loss: 2.2744 - val_accuracy: 0.7770\n",
      "Epoch 2/10\n",
      "1075/1075 [==============================] - 0s 77us/sample - loss: 1.8444 - accuracy: 0.8465 - val_loss: 1.4066 - val_accuracy: 0.8773\n",
      "Epoch 3/10\n",
      "1075/1075 [==============================] - 0s 73us/sample - loss: 0.9724 - accuracy: 0.9191 - val_loss: 0.6662 - val_accuracy: 0.9405\n",
      "Epoch 4/10\n",
      "1075/1075 [==============================] - 0s 78us/sample - loss: 0.4544 - accuracy: 0.9637 - val_loss: 0.3224 - val_accuracy: 0.9591\n",
      "Epoch 5/10\n",
      "1075/1075 [==============================] - 0s 74us/sample - loss: 0.2237 - accuracy: 0.9916 - val_loss: 0.1685 - val_accuracy: 0.9963\n",
      "Epoch 6/10\n",
      "1075/1075 [==============================] - 0s 77us/sample - loss: 0.1213 - accuracy: 0.9991 - val_loss: 0.0956 - val_accuracy: 0.9963\n",
      "Epoch 7/10\n",
      "1075/1075 [==============================] - 0s 75us/sample - loss: 0.0705 - accuracy: 0.9991 - val_loss: 0.0618 - val_accuracy: 0.9963\n",
      "Epoch 8/10\n",
      "1075/1075 [==============================] - 0s 73us/sample - loss: 0.0449 - accuracy: 1.0000 - val_loss: 0.0420 - val_accuracy: 0.9963\n",
      "Epoch 9/10\n",
      "1075/1075 [==============================] - 0s 75us/sample - loss: 0.0311 - accuracy: 1.0000 - val_loss: 0.0314 - val_accuracy: 0.9963\n",
      "Epoch 10/10\n",
      "1075/1075 [==============================] - 0s 79us/sample - loss: 0.0227 - accuracy: 1.0000 - val_loss: 0.0245 - val_accuracy: 0.9963\n"
     ]
    }
   ],
   "source": [
    "model2 = Sequential([\n",
    "    tf.keras.layers.Dense(128, kernel_initializer= \"GlorotNormal\", activation = \"relu\", input_dim = 158),\n",
    "    tf.keras.layers.Dense(32, activation = \"relu\"),\n",
    "    tf.keras.layers.Dense(15, activation='softmax')\n",
    "])                       ###Same Model Different type\n",
    "model2.compile(optimizer = \"Adam\", loss =\"categorical_crossentropy\", metrics = [\"accuracy\"])\n",
    "history=model2.fit(X_train, y_train, epochs = 10,verbose=1,validation_data=[X_test,y_test])"
   ]
  },
  {
   "cell_type": "code",
   "execution_count": 139,
   "metadata": {},
   "outputs": [
    {
     "name": "stdout",
     "output_type": "stream",
     "text": [
      "Train on 1075 samples, validate on 269 samples\n",
      "Epoch 1/10\n",
      "1075/1075 [==============================] - 1s 520us/sample - loss: 2.4015 - accuracy: 0.5600 - val_loss: 2.0070 - val_accuracy: 0.7249\n",
      "Epoch 2/10\n",
      "1075/1075 [==============================] - 0s 82us/sample - loss: 1.4770 - accuracy: 0.8279 - val_loss: 0.9991 - val_accuracy: 0.9071\n",
      "Epoch 3/10\n",
      "1075/1075 [==============================] - 0s 81us/sample - loss: 0.6372 - accuracy: 0.9367 - val_loss: 0.3922 - val_accuracy: 0.9851\n",
      "Epoch 4/10\n",
      "1075/1075 [==============================] - 0s 80us/sample - loss: 0.2569 - accuracy: 0.9926 - val_loss: 0.1664 - val_accuracy: 0.9963\n",
      "Epoch 5/10\n",
      "1075/1075 [==============================] - 0s 78us/sample - loss: 0.1137 - accuracy: 0.9972 - val_loss: 0.0833 - val_accuracy: 0.9963\n",
      "Epoch 6/10\n",
      "1075/1075 [==============================] - 0s 75us/sample - loss: 0.0601 - accuracy: 1.0000 - val_loss: 0.0503 - val_accuracy: 0.9963\n",
      "Epoch 7/10\n",
      "1075/1075 [==============================] - 0s 76us/sample - loss: 0.0360 - accuracy: 1.0000 - val_loss: 0.0345 - val_accuracy: 0.9963\n",
      "Epoch 8/10\n",
      "1075/1075 [==============================] - 0s 82us/sample - loss: 0.0242 - accuracy: 1.0000 - val_loss: 0.0262 - val_accuracy: 0.9963\n",
      "Epoch 9/10\n",
      "1075/1075 [==============================] - 0s 79us/sample - loss: 0.0175 - accuracy: 1.0000 - val_loss: 0.0207 - val_accuracy: 0.9963\n",
      "Epoch 10/10\n",
      "1075/1075 [==============================] - 0s 78us/sample - loss: 0.0133 - accuracy: 1.0000 - val_loss: 0.0177 - val_accuracy: 0.9963\n"
     ]
    }
   ],
   "source": [
    "model3 = Sequential([\n",
    "    tf.keras.layers.Dense(128, kernel_initializer= \"GlorotNormal\", activation = \"relu\", input_dim = 158),\n",
    "    tf.keras.layers.Dense(64, activation = \"relu\"),\n",
    "    tf.keras.layers.Dense(15, activation='softmax')\n",
    "])                       ###Same Model Different type\n",
    "model3.compile(optimizer = \"Adam\", loss =\"categorical_crossentropy\", metrics = [\"accuracy\"])\n",
    "history=model3.fit(X_train, y_train, epochs = 10,verbose=1,validation_data=[X_test,y_test])"
   ]
  },
  {
   "cell_type": "code",
   "execution_count": 140,
   "metadata": {},
   "outputs": [
    {
     "data": {
      "image/png": "[encoded data removed]",
      "text/plain": [
       "<Figure size 720x720 with 2 Axes>"
      ]
     },
     "metadata": {
      "needs_background": "light"
     },
     "output_type": "display_data"
    }
   ],
   "source": [
    "plt.figure(figsize=(10,10))\n",
    "plt.subplot(2,2,1)\n",
    "plt.plot(history.history['accuracy'])\n",
    "plt.plot(history.history['val_accuracy'])\n",
    "plt.title('model accuracy')\n",
    "plt.ylabel('accuracy')\n",
    "plt.xlabel('epoch')\n",
    "plt.legend(['train', 'test'], loc='upper left')\n",
    "\n",
    "plt.subplot(2,2,2)\n",
    "plt.plot(history.history['loss'])\n",
    "plt.plot(history.history['val_loss'])\n",
    "plt.title('model loss')\n",
    "plt.ylabel('loss')\n",
    "plt.xlabel('epoch')\n",
    "plt.legend(['train', 'test'], loc='upper left')\n",
    "plt.show()"
   ]
  },
  {
   "cell_type": "code",
   "execution_count": 141,
   "metadata": {},
   "outputs": [],
   "source": [
    "import pickle\n",
    "filename = 'model4rf_4k.sav'\n"
   ]
  },
  {
   "cell_type": "code",
   "execution_count": 142,
   "metadata": {},
   "outputs": [
    {
     "name": "stdout",
     "output_type": "stream",
     "text": [
      "INFO:tensorflow:Assets written to: my_model1_4k\\assets\n",
      "INFO:tensorflow:Assets written to: my_model2_4k\\assets\n",
      "INFO:tensorflow:Assets written to: my_model3_4k\\assets\n"
     ]
    }
   ],
   "source": [
    "model1.save(\"my_model1_4k\",save_format=\"tf\")\n",
    "model2.save(\"my_model2_4k\",save_format=\"tf\")\n",
    "model3.save(\"my_model3_4k\",save_format=\"tf\")\n",
    "pickle.dump(classifier, open(filename, 'wb'))\n"
   ]
  },
  {
   "cell_type": "markdown",
   "metadata": {},
   "source": [
    "## Stop HEre\n"
   ]
  },
  {
   "cell_type": "code",
   "execution_count": 143,
   "metadata": {},
   "outputs": [],
   "source": [
    "##For 4000rows wala :\n",
    "raw_col=['itching', 'rash', 'nodal skin eruptions', 'continuous sneezing', 'shivering', 'chills', 'joint pain', 'acidity', 'ulcers on tongue', 'muscle wasting', 'vomiting', 'burning micturition', 'spotting  urination', 'fatigue', 'weight gain', 'anxiety', 'cold hands and feets', 'mood swings', 'weight loss', 'restlessness', 'lethargy', 'patches in throat', 'irregular sugar level', 'cough', 'high fever', 'sunken eyes', 'breathlessness', 'sweating', 'dehydration', 'indigestion', 'headache', 'yellowish skin', 'dark urine', 'nausea', 'loss of appetite', 'pain behind the eyes', 'back pain', 'constipation', 'abdominal pain', 'diarrhoea', 'fever', 'yellow urine', 'yellowing of eyes', 'acute liver failure', 'fluid overload', 'swelling of stomach', 'swelled lymph nodes', 'malaise', 'blurred and distorted vision', 'phlegm', 'throat pain', 'redness of eyes', 'sinus pressure', 'runny nose', 'congestion', 'chest pain', 'weakness in limbs', 'fast heart rate', 'pain during bowel movements', 'pain in anal region', 'bloody stool', 'irritation in anus', 'neck pain', 'dizziness', 'cramps', 'bruising', 'obesity', 'swollen legs', 'swollen blood vessels', 'puffy face and eyes', 'enlarged thyroid', 'brittle nails', 'swollen extremeties', 'hunger', 'extra marital contacts', 'drying and tingling lips', 'slurred speech', 'knee pain', 'hip joint pain', 'muscle weakness', 'stiff neck', 'swelling joints', 'movement stiffness', 'spinning movements', 'loss of balance', 'unsteadiness', 'weakness of one body side', 'loss of smell', 'bladder discomfort', 'foul smell of urine', 'continuous feel of urine', 'passage of gases', 'internal itching', 'toxic look (typhos)', 'depression', 'irritability', 'muscle pain', 'altered sensorium', 'red spots over body', 'belly pain', 'abnormal menstruation', 'dischromic  patches', 'watering from eyes', 'increased appetite', 'polyuria', 'family history', 'mucoid sputum', 'rusty sputum', 'lack of concentration', 'visual disturbances', 'receiving blood transfusion', 'receiving unsterile injections', 'coma', 'stomach bleeding', 'distention of abdomen', 'history of alcohol consumption', 'fluid overload.1', 'blood in sputum', 'prominent veins on calf', 'palpitations', 'painful walking', 'pus filled pimples', 'blackheads', 'scurring', 'skin peeling', 'silver like dusting', 'small dents in nails', 'inflammatory nails', 'blister', 'red sore around nose', 'yellow crust ooze', 'department', 'arm pain', '', 'painlessness', 'cavity', 'oral pain', 'toothache', 'fits', 'mental confusion', 'paralaysis', 'seizure', 'sucidal thoughts', 'bumps', 'rashes', 'tiredness', 'stomach pain', 'shoulder pain', 'head ache', 'mild fever', 'eye pain', 'less vision', 'red eye', 'child', 'kid', 'baby', 'ear pain', 'wheezing', 'frequent urination', '1', '2', '3', '4', '5', '6', '7', '8', '9', '10', '11', '12', '13', '14', '15']\n",
    "\n",
    "def doctorguide1_4k(inp_sym):\n",
    "\n",
    "    inp_sym=input_sym.split(sep=\",\")\n",
    "    print(\"input_Symptoms parsed: \",inp_sym)\n",
    "\n",
    "    symp_dict={key: 0 for key in raw_col}\n",
    "    for i in inp_sym:\n",
    "        if i in raw_col:\n",
    "            symp_dict[i]=1\n",
    "        else:\n",
    "            for z in raw_col:\n",
    "                fuzz_score=fuzz.token_set_ratio(i,z)\n",
    "                if fuzz_score>70:\n",
    "                    symp_dict[z]=1\n",
    "    ##TESTING:\n",
    "    for key,values in symp_dict.items():\n",
    "        if values==1:\n",
    "            print(key)\n",
    "    df_run=pd.DataFrame(symp_dict,index=[1])\n",
    "    model14k=tf.keras.models.load_model(\"my_model1_4k\")\n",
    "    pred=model14k.predict(df_run.drop(labels=[\"department\",\"1\",\"2\",\"3\",\"4\",\"5\",\"6\",\"7\",\"8\",\"9\",\"10\",\"11\",\"12\",\"13\",\"14\",\"15\"],axis=1).head(1))\n",
    "   \n",
    "  #  display(\"Prediction Raw Values : \",pred)  ##Testing\n",
    "    value=list(pred.argmax(axis=1))\n",
    "    display(\"prediction Argmax : \",value[0])  ##Testing    \n",
    "    print(\"You can book doctors under {} section\".format(invmap[value[0]+1]))\n",
    "    \n",
    "    \n",
    "def doctorguide2_4k(inp_sym):\n",
    "\n",
    "    inp_sym=input_sym.split(sep=\",\")\n",
    "    print(\"input_Symptoms parsed: \",inp_sym)\n",
    "\n",
    "    symp_dict={key: 0 for key in raw_col}\n",
    "    for i in inp_sym:\n",
    "        if i in raw_col:\n",
    "            symp_dict[i]=1\n",
    "        else:\n",
    "            for z in raw_col:\n",
    "                fuzz_score=(fuzz.partial_ratio(i,z)+fuzz.ratio(i,z))/2\n",
    "                if fuzz_score>70:\n",
    "                    symp_dict[z]=1\n",
    "    ##TESTING:\n",
    "    for key,values in symp_dict.items():\n",
    "        if values==1:\n",
    "            print(key)\n",
    "    df_run=pd.DataFrame(symp_dict,index=[1])\n",
    "    model24k=tf.keras.models.load_model(\"my_model2_4k\")\n",
    "    pred=model24k.predict(df_run.drop(labels=[\"department\",\"1\",\"2\",\"3\",\"4\",\"5\",\"6\",\"7\",\"8\",\"9\",\"10\",\"11\",\"12\",\"13\",\"14\",\"15\"],axis=1).head(1))\n",
    "    #display(\"Prediction Raw Values : \",pred)  ##Testing\n",
    "    value=list(pred.argmax(axis=1))\n",
    "    display(\"prediction Argmax : \",value[0])  ##Testing    \n",
    "    print(\"You can book doctors under {} section\".format(invmap[value[0]+1]))\n",
    "\n",
    "def doctorguide3_4k(inp_sym):\n",
    "\n",
    "    inp_sym=input_sym.split(sep=\",\")\n",
    "    print(\"input_Symptoms parsed: \",inp_sym)\n",
    "    symp_dict={key: 0 for key in raw_col}\n",
    "    for i in inp_sym:\n",
    "        if i in raw_col:\n",
    "            symp_dict[i]=1\n",
    "        else:\n",
    "            for z in raw_col:\n",
    "                fuzz_score=(fuzz.partial_ratio(i,z)+fuzz.ratio(i,z))/2\n",
    "                #fuzz_score=fuzz.partial_ratio(i,z)\n",
    "                if fuzz_score>70:\n",
    "                    symp_dict[z]=1\n",
    "    ##TESTING:\n",
    "    for key,values in symp_dict.items():\n",
    "        if values==1:\n",
    "            print(key)\n",
    "    df_run=pd.DataFrame(symp_dict,index=[1])\n",
    "    model24k=tf.keras.models.load_model(\"my_model2_4k\")\n",
    "    pred=model24k.predict(df_run.drop(labels=[\"department\",\"1\",\"2\",\"3\",\"4\",\"5\",\"6\",\"7\",\"8\",\"9\",\"10\",\"11\",\"12\",\"13\",\"14\",\"15\"],axis=1).head(1))\n",
    "    #display(\"Prediction Raw Values : \",pred)  ##Testing\n",
    "    value=list(pred.argmax(axis=1))\n",
    "    display(\"prediction Argmax : \",value[0])  ##Testing    \n",
    "    print(\"You can book doctors under {} section\".format(invmap[value[0]+1]))\n",
    "    \n",
    "def doctorguider_rf4k(inp_sym):\n",
    "    #input_sym=input(\"Enter your Symptoms seperated by comma ,If they are two words use (_)\")\n",
    "    #inp_sym=input_sym.split(sep=\",\")\n",
    "    #print(\"input_Symptoms parsed: \",inp_sym)\n",
    "    #raw_col=list(df.columns)\n",
    "    symp_dict={key: 0 for key in raw_col}\n",
    "    for i in inp_sym:\n",
    "        if i in raw_col:\n",
    "            symp_dict[i]=1\n",
    "        else:\n",
    "            for z in raw_col:\n",
    "                fuzz_score=(fuzz.partial_ratio(i,z)+fuzz.ratio(i,z))/2\n",
    "                if fuzz_score>70:\n",
    "                    symp_dict[z]=1\n",
    "    ##TESTING:\n",
    "    for key,values in symp_dict.items():\n",
    "        if values==1:\n",
    "            print(key)\n",
    "    df_run=pd.DataFrame(symp_dict,index=[1])\n",
    "    classifier4k= pickle.load(open(\"model3_4k.sav\", 'rb'))\n",
    "    pred=classifier4k.predict(df_run.drop(labels=[\"department\",\"1\",\"2\",\"3\",\"4\",\"5\",\"6\",\"7\",\"8\",\"9\",\"10\",\"11\",\"12\",\"13\",\"14\",\"15\"],axis=1).head(1))\n",
    "    \n",
    "\n",
    "    #display(\"Prediction Raw Values : \",pred)  ##Testing\n",
    "    value=list(pred.argmax(axis=1))\n",
    "    print(\"value:\",value)\n",
    "    display(\"prediction Argmax : \",value[0])  ##Testing    \n",
    "    print(\"You can book doctors under {} section\".format(invmap[value[0]+1]))"
   ]
  },
  {
   "cell_type": "code",
   "execution_count": 144,
   "metadata": {},
   "outputs": [
    {
     "name": "stdout",
     "output_type": "stream",
     "text": [
      "Enter your Symptoms seperated by commajoint pain\n",
      "input_Symptoms parsed:  ['joint pain']\n",
      "Model with 1 hidden layer :\n",
      "input_Symptoms parsed:  ['joint pain']\n",
      "joint pain\n"
     ]
    },
    {
     "data": {
      "text/plain": [
       "'prediction Argmax : '"
      ]
     },
     "metadata": {},
     "output_type": "display_data"
    },
    {
     "data": {
      "text/plain": [
       "6"
      ]
     },
     "metadata": {},
     "output_type": "display_data"
    },
    {
     "name": "stdout",
     "output_type": "stream",
     "text": [
      "You can book doctors under orthopedist section\n",
      "#######\n",
      "######\n",
      "Model with 2 hidden layer :\n",
      "input_Symptoms parsed:  ['joint pain']\n",
      "joint pain\n"
     ]
    },
    {
     "data": {
      "text/plain": [
       "'prediction Argmax : '"
      ]
     },
     "metadata": {},
     "output_type": "display_data"
    },
    {
     "data": {
      "text/plain": [
       "6"
      ]
     },
     "metadata": {},
     "output_type": "display_data"
    },
    {
     "name": "stdout",
     "output_type": "stream",
     "text": [
      "You can book doctors under orthopedist section\n",
      "Model with 2 hidden layer :\n",
      "input_Symptoms parsed:  ['joint pain']\n",
      "joint pain\n"
     ]
    },
    {
     "data": {
      "text/plain": [
       "'prediction Argmax : '"
      ]
     },
     "metadata": {},
     "output_type": "display_data"
    },
    {
     "data": {
      "text/plain": [
       "6"
      ]
     },
     "metadata": {},
     "output_type": "display_data"
    },
    {
     "name": "stdout",
     "output_type": "stream",
     "text": [
      "You can book doctors under orthopedist section\n"
     ]
    }
   ],
   "source": [
    "input_sym=input(\"Enter your Symptoms seperated by comma\")\n",
    "inp_sym=input_sym.split(sep=\",\")\n",
    "print(\"input_Symptoms parsed: \",inp_sym)\n",
    "print(\"Model with 1 hidden layer :\")\n",
    "doctorguide1_4k(inp_sym)\n",
    "print(\"#######\")\n",
    "print(\"######\")\n",
    "print(\"Model with 2 hidden layer :\")\n",
    "doctorguide2_4k(inp_sym)\n",
    "print(\"Model with 2 hidden layer :\")\n",
    "doctorguide3_4k(inp_sym)\n",
    "#print(\"Random Forest Model :\")\n",
    "#doctorguider_rf4k(inp_sym)"
   ]
  },
  {
   "cell_type": "code",
   "execution_count": null,
   "metadata": {},
   "outputs": [],
   "source": []
  }
 ],
 "metadata": {
  "kernelspec": {
   "display_name": "Python 3",
   "language": "python",
   "name": "python3"
  },
  "language_info": {
   "codemirror_mode": {
    "name": "ipython",
    "version": 3
   },
   "file_extension": ".py",
   "mimetype": "text/x-python",
   "name": "python",
   "nbconvert_exporter": "python",
   "pygments_lexer": "ipython3",
   "version": "3.6.12"
  }
 },
 "nbformat": 4,
 "nbformat_minor": 4
}
